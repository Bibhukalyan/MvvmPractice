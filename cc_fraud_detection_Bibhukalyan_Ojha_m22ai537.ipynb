{
  "nbformat": 4,
  "nbformat_minor": 0,
  "metadata": {
    "colab": {
      "provenance": [],
      "collapsed_sections": [],
      "authorship_tag": "ABX9TyOkp9r0Eh/UEePdyvm0oLQN",
      "include_colab_link": true
    },
    "kernelspec": {
      "name": "python3",
      "display_name": "Python 3"
    },
    "language_info": {
      "name": "python"
    }
  },
  "cells": [
    {
      "cell_type": "markdown",
      "metadata": {
        "id": "view-in-github",
        "colab_type": "text"
      },
      "source": [
        "<a href=\"https://colab.research.google.com/github/Bibhukalyan/MvvmPractice/blob/master/cc_fraud_detection_Bibhukalyan_Ojha_m22ai537.ipynb\" target=\"_parent\"><img src=\"https://colab.research.google.com/assets/colab-badge.svg\" alt=\"Open In Colab\"/></a>"
      ]
    },
    {
      "cell_type": "code",
      "execution_count": null,
      "metadata": {
        "id": "PmpJ2pdAd28B",
        "colab": {
          "base_uri": "https://localhost:8080/"
        },
        "outputId": "62faba7b-dd02-47fb-b596-009bae6933c2"
      },
      "outputs": [
        {
          "output_type": "stream",
          "name": "stdout",
          "text": [
            "Drive already mounted at /content/drive; to attempt to forcibly remount, call drive.mount(\"/content/drive\", force_remount=True).\n"
          ]
        }
      ],
      "source": [
        "import pandas as pd\n",
        "from pandas import read_csv\n",
        "from google.colab import drive\n",
        "import matplotlib.pyplot as plt#python library used for plotting\n",
        "import sklearn #lib used for classification, regression, clustering, SVM analysis\n",
        "import scipy\n",
        "import seaborn as sns\n",
        "import numpy as np\n",
        "from sklearn.metrics import classification_report,accuracy_score\n",
        "from sklearn.model_selection import train_test_split\n",
        "from sklearn.neighbors import KNeighborsClassifier\n",
        "from sklearn.tree import DecisionTreeClassifier\n",
        "from sklearn.metrics import accuracy_score\n",
        "from sklearn.ensemble import RandomForestClassifier\n",
        "from sklearn.ensemble import IsolationForest #isolates the outliers by selecting a feature randomly and then selecting asplit value between min and max values of the feature\n",
        "from pylab import rcParams\n",
        "rcParams['figure.figsize'] = 14,8#fixing the size of figures\n",
        "RANDOM_SEED = 42\n",
        "LABELS = [\"Normal\", \"Fraud\"]#labelling into two categories Normal and Fraud\n",
        "\n",
        "drive.mount('/content/drive')\n",
        "#path = '/content/drive/MyDrive/Classroom/Introduction to Data Science DCS/Project on creditcard fraud detection/card_transdata.csv'\n",
        "cc_data_set = pd.read_csv('/content/drive/My Drive/cc_fraud_detect_project/card_transdata.csv')\n"
      ]
    },
    {
      "cell_type": "code",
      "source": [
        "cc_data_set.head()"
      ],
      "metadata": {
        "colab": {
          "base_uri": "https://localhost:8080/",
          "height": 206
        },
        "id": "vqsI9pZngGtE",
        "outputId": "93c97912-7ff9-4aa5-a296-d4eb8e1dd9b1"
      },
      "execution_count": null,
      "outputs": [
        {
          "output_type": "execute_result",
          "data": {
            "text/plain": [
              "   distance_from_home  distance_from_last_transaction  \\\n",
              "0           57.877857                        0.311140   \n",
              "1           10.829943                        0.175592   \n",
              "2            5.091079                        0.805153   \n",
              "3            2.247564                        5.600044   \n",
              "4           44.190936                        0.566486   \n",
              "\n",
              "   ratio_to_median_purchase_price  repeat_retailer  used_chip  \\\n",
              "0                        1.945940              1.0        1.0   \n",
              "1                        1.294219              1.0        0.0   \n",
              "2                        0.427715              1.0        0.0   \n",
              "3                        0.362663              1.0        1.0   \n",
              "4                        2.222767              1.0        1.0   \n",
              "\n",
              "   used_pin_number  online_order  fraud  \n",
              "0              0.0           0.0    0.0  \n",
              "1              0.0           0.0    0.0  \n",
              "2              0.0           1.0    0.0  \n",
              "3              0.0           1.0    0.0  \n",
              "4              0.0           1.0    0.0  "
            ],
            "text/html": [
              "\n",
              "  <div id=\"df-804248d3-9a44-43d7-a12d-7f72b6a0b242\">\n",
              "    <div class=\"colab-df-container\">\n",
              "      <div>\n",
              "<style scoped>\n",
              "    .dataframe tbody tr th:only-of-type {\n",
              "        vertical-align: middle;\n",
              "    }\n",
              "\n",
              "    .dataframe tbody tr th {\n",
              "        vertical-align: top;\n",
              "    }\n",
              "\n",
              "    .dataframe thead th {\n",
              "        text-align: right;\n",
              "    }\n",
              "</style>\n",
              "<table border=\"1\" class=\"dataframe\">\n",
              "  <thead>\n",
              "    <tr style=\"text-align: right;\">\n",
              "      <th></th>\n",
              "      <th>distance_from_home</th>\n",
              "      <th>distance_from_last_transaction</th>\n",
              "      <th>ratio_to_median_purchase_price</th>\n",
              "      <th>repeat_retailer</th>\n",
              "      <th>used_chip</th>\n",
              "      <th>used_pin_number</th>\n",
              "      <th>online_order</th>\n",
              "      <th>fraud</th>\n",
              "    </tr>\n",
              "  </thead>\n",
              "  <tbody>\n",
              "    <tr>\n",
              "      <th>0</th>\n",
              "      <td>57.877857</td>\n",
              "      <td>0.311140</td>\n",
              "      <td>1.945940</td>\n",
              "      <td>1.0</td>\n",
              "      <td>1.0</td>\n",
              "      <td>0.0</td>\n",
              "      <td>0.0</td>\n",
              "      <td>0.0</td>\n",
              "    </tr>\n",
              "    <tr>\n",
              "      <th>1</th>\n",
              "      <td>10.829943</td>\n",
              "      <td>0.175592</td>\n",
              "      <td>1.294219</td>\n",
              "      <td>1.0</td>\n",
              "      <td>0.0</td>\n",
              "      <td>0.0</td>\n",
              "      <td>0.0</td>\n",
              "      <td>0.0</td>\n",
              "    </tr>\n",
              "    <tr>\n",
              "      <th>2</th>\n",
              "      <td>5.091079</td>\n",
              "      <td>0.805153</td>\n",
              "      <td>0.427715</td>\n",
              "      <td>1.0</td>\n",
              "      <td>0.0</td>\n",
              "      <td>0.0</td>\n",
              "      <td>1.0</td>\n",
              "      <td>0.0</td>\n",
              "    </tr>\n",
              "    <tr>\n",
              "      <th>3</th>\n",
              "      <td>2.247564</td>\n",
              "      <td>5.600044</td>\n",
              "      <td>0.362663</td>\n",
              "      <td>1.0</td>\n",
              "      <td>1.0</td>\n",
              "      <td>0.0</td>\n",
              "      <td>1.0</td>\n",
              "      <td>0.0</td>\n",
              "    </tr>\n",
              "    <tr>\n",
              "      <th>4</th>\n",
              "      <td>44.190936</td>\n",
              "      <td>0.566486</td>\n",
              "      <td>2.222767</td>\n",
              "      <td>1.0</td>\n",
              "      <td>1.0</td>\n",
              "      <td>0.0</td>\n",
              "      <td>1.0</td>\n",
              "      <td>0.0</td>\n",
              "    </tr>\n",
              "  </tbody>\n",
              "</table>\n",
              "</div>\n",
              "      <button class=\"colab-df-convert\" onclick=\"convertToInteractive('df-804248d3-9a44-43d7-a12d-7f72b6a0b242')\"\n",
              "              title=\"Convert this dataframe to an interactive table.\"\n",
              "              style=\"display:none;\">\n",
              "        \n",
              "  <svg xmlns=\"http://www.w3.org/2000/svg\" height=\"24px\"viewBox=\"0 0 24 24\"\n",
              "       width=\"24px\">\n",
              "    <path d=\"M0 0h24v24H0V0z\" fill=\"none\"/>\n",
              "    <path d=\"M18.56 5.44l.94 2.06.94-2.06 2.06-.94-2.06-.94-.94-2.06-.94 2.06-2.06.94zm-11 1L8.5 8.5l.94-2.06 2.06-.94-2.06-.94L8.5 2.5l-.94 2.06-2.06.94zm10 10l.94 2.06.94-2.06 2.06-.94-2.06-.94-.94-2.06-.94 2.06-2.06.94z\"/><path d=\"M17.41 7.96l-1.37-1.37c-.4-.4-.92-.59-1.43-.59-.52 0-1.04.2-1.43.59L10.3 9.45l-7.72 7.72c-.78.78-.78 2.05 0 2.83L4 21.41c.39.39.9.59 1.41.59.51 0 1.02-.2 1.41-.59l7.78-7.78 2.81-2.81c.8-.78.8-2.07 0-2.86zM5.41 20L4 18.59l7.72-7.72 1.47 1.35L5.41 20z\"/>\n",
              "  </svg>\n",
              "      </button>\n",
              "      \n",
              "  <style>\n",
              "    .colab-df-container {\n",
              "      display:flex;\n",
              "      flex-wrap:wrap;\n",
              "      gap: 12px;\n",
              "    }\n",
              "\n",
              "    .colab-df-convert {\n",
              "      background-color: #E8F0FE;\n",
              "      border: none;\n",
              "      border-radius: 50%;\n",
              "      cursor: pointer;\n",
              "      display: none;\n",
              "      fill: #1967D2;\n",
              "      height: 32px;\n",
              "      padding: 0 0 0 0;\n",
              "      width: 32px;\n",
              "    }\n",
              "\n",
              "    .colab-df-convert:hover {\n",
              "      background-color: #E2EBFA;\n",
              "      box-shadow: 0px 1px 2px rgba(60, 64, 67, 0.3), 0px 1px 3px 1px rgba(60, 64, 67, 0.15);\n",
              "      fill: #174EA6;\n",
              "    }\n",
              "\n",
              "    [theme=dark] .colab-df-convert {\n",
              "      background-color: #3B4455;\n",
              "      fill: #D2E3FC;\n",
              "    }\n",
              "\n",
              "    [theme=dark] .colab-df-convert:hover {\n",
              "      background-color: #434B5C;\n",
              "      box-shadow: 0px 1px 3px 1px rgba(0, 0, 0, 0.15);\n",
              "      filter: drop-shadow(0px 1px 2px rgba(0, 0, 0, 0.3));\n",
              "      fill: #FFFFFF;\n",
              "    }\n",
              "  </style>\n",
              "\n",
              "      <script>\n",
              "        const buttonEl =\n",
              "          document.querySelector('#df-804248d3-9a44-43d7-a12d-7f72b6a0b242 button.colab-df-convert');\n",
              "        buttonEl.style.display =\n",
              "          google.colab.kernel.accessAllowed ? 'block' : 'none';\n",
              "\n",
              "        async function convertToInteractive(key) {\n",
              "          const element = document.querySelector('#df-804248d3-9a44-43d7-a12d-7f72b6a0b242');\n",
              "          const dataTable =\n",
              "            await google.colab.kernel.invokeFunction('convertToInteractive',\n",
              "                                                     [key], {});\n",
              "          if (!dataTable) return;\n",
              "\n",
              "          const docLinkHtml = 'Like what you see? Visit the ' +\n",
              "            '<a target=\"_blank\" href=https://colab.research.google.com/notebooks/data_table.ipynb>data table notebook</a>'\n",
              "            + ' to learn more about interactive tables.';\n",
              "          element.innerHTML = '';\n",
              "          dataTable['output_type'] = 'display_data';\n",
              "          await google.colab.output.renderOutput(dataTable, element);\n",
              "          const docLink = document.createElement('div');\n",
              "          docLink.innerHTML = docLinkHtml;\n",
              "          element.appendChild(docLink);\n",
              "        }\n",
              "      </script>\n",
              "    </div>\n",
              "  </div>\n",
              "  "
            ]
          },
          "metadata": {},
          "execution_count": 2
        }
      ]
    },
    {
      "cell_type": "code",
      "source": [
        "cc_data_set.shape #shape of the data\n",
        "#cc_data_set.info()\n",
        "#cc_data_set.describe()"
      ],
      "metadata": {
        "colab": {
          "base_uri": "https://localhost:8080/"
        },
        "id": "vSGYy-YSuWf0",
        "outputId": "58a84dfa-ad9e-451f-cedb-2fa782ebc1f0"
      },
      "execution_count": null,
      "outputs": [
        {
          "output_type": "execute_result",
          "data": {
            "text/plain": [
              "(1000000, 8)"
            ]
          },
          "metadata": {},
          "execution_count": 7
        }
      ]
    },
    {
      "cell_type": "code",
      "source": [
        "cc_data_set.isnull().values.any() #checking for any null data present"
      ],
      "metadata": {
        "colab": {
          "base_uri": "https://localhost:8080/"
        },
        "id": "WPwZ07GY0oO5",
        "outputId": "fc7160a4-30d5-449f-d59a-6615d3d2ffea"
      },
      "execution_count": null,
      "outputs": [
        {
          "output_type": "execute_result",
          "data": {
            "text/plain": [
              "False"
            ]
          },
          "metadata": {},
          "execution_count": 12
        }
      ]
    },
    {
      "cell_type": "code",
      "source": [
        "LABELS = [\"Normal\", \"Fraud\"]#Labeling into 2 category fraud or nornaml data"
      ],
      "metadata": {
        "id": "lXjmiuN50rK3"
      },
      "execution_count": null,
      "outputs": []
    },
    {
      "cell_type": "code",
      "source": [
        "count_classes = pd.value_counts(cc_data_set['fraud'], sort = True)\n",
        "fraud = cc_data_set[cc_data_set['fraud']==1] #segrigated data into 2 parts fraud and normal (1 is for fraud)(0 is for noral)\n",
        "normal = cc_data_set[cc_data_set['fraud']==0]"
      ],
      "metadata": {
        "id": "aC51ocDR2PXH"
      },
      "execution_count": null,
      "outputs": []
    },
    {
      "cell_type": "code",
      "source": [
        "print(fraud.shape,normal.shape)#printing shape of the data's"
      ],
      "metadata": {
        "colab": {
          "base_uri": "https://localhost:8080/"
        },
        "id": "GxBjvkET668E",
        "outputId": "8c55200e-9c7d-47f9-c49c-0ea48e6d73b8"
      },
      "execution_count": null,
      "outputs": [
        {
          "output_type": "stream",
          "name": "stdout",
          "text": [
            "(87403, 8) (912597, 8)\n"
          ]
        }
      ]
    },
    {
      "cell_type": "code",
      "source": [
        "fraud.ratio_to_median_purchase_price.describe() #description of fraud data"
      ],
      "metadata": {
        "colab": {
          "base_uri": "https://localhost:8080/"
        },
        "id": "MTx2EtPV7JqR",
        "outputId": "3147e631-f30b-47d9-a985-a15aeb4838f7"
      },
      "execution_count": null,
      "outputs": [
        {
          "output_type": "execute_result",
          "data": {
            "text/plain": [
              "count    87403.000000\n",
              "mean         6.006323\n",
              "std          5.564320\n",
              "min          0.011966\n",
              "25%          3.500270\n",
              "50%          5.071294\n",
              "75%          7.331222\n",
              "max        266.689692\n",
              "Name: ratio_to_median_purchase_price, dtype: float64"
            ]
          },
          "metadata": {},
          "execution_count": 19
        }
      ]
    },
    {
      "cell_type": "code",
      "source": [
        "normal.ratio_to_median_purchase_price.describe() #description of normal data"
      ],
      "metadata": {
        "colab": {
          "base_uri": "https://localhost:8080/"
        },
        "id": "ejKc8Ibb-GB5",
        "outputId": "8c4c3a5d-5731-4b99-c7ce-ce60e8048e02"
      },
      "execution_count": null,
      "outputs": [
        {
          "output_type": "execute_result",
          "data": {
            "text/plain": [
              "count    912597.000000\n",
              "mean          1.423642\n",
              "std           1.946152\n",
              "min           0.004399\n",
              "25%           0.449768\n",
              "50%           0.913950\n",
              "75%           1.788918\n",
              "max         267.802942\n",
              "Name: ratio_to_median_purchase_price, dtype: float64"
            ]
          },
          "metadata": {},
          "execution_count": 5
        }
      ]
    },
    {
      "cell_type": "code",
      "source": [
        "f, (ax1, ax2) = plt.subplots(2, 1, sharex=True)#to print subplots\n",
        "f.suptitle('Amount per transaction by class',color='Red')\n",
        "bins = 50 #storing binary of 50\n",
        "#plotting histograms\n",
        "ax1.hist(fraud.ratio_to_median_purchase_price, bins = bins)#for plotting subplot 1\n",
        "ax1.set_title('Fraud',color='Red')#title for subplot 1\n",
        "ax2.hist(normal.ratio_to_median_purchase_price, bins = bins)#for plotting subplot 2\n",
        "ax2.set_title('Normal',color='Red')#subplot 2 title\n",
        "plt.xlabel('Amount ($)',color=\"Red\")#label for x axis\n",
        "plt.ylabel('Number of Transactions',color='Red')#label for y axis\n",
        "plt.xlim((0, 300))#limit for x axis(highest value)\n",
        "plt.yscale('log')\n",
        "plt.show();#showing the plot"
      ],
      "metadata": {
        "colab": {
          "base_uri": "https://localhost:8080/",
          "height": 554
        },
        "id": "DV8WV2ONYGDR",
        "outputId": "357d1688-c073-4bed-c2c9-c91c3e58cc71"
      },
      "execution_count": null,
      "outputs": [
        {
          "output_type": "display_data",
          "data": {
            "text/plain": [
              "<Figure size 1008x576 with 2 Axes>"
            ],
            "image/png": "[encoded data removed]"
          },
          "metadata": {
            "needs_background": "light"
          }
        }
      ]
    },
    {
      "cell_type": "code",
      "source": [
        "data_frac = cc_data_set.sample(frac = 0.1, random_state = 1)#frac=0.1 is 0.1 fraction of axis items to return, random_state =1 is seeding for Random value.\n",
        "data_frac.shape #shape of the random sample"
      ],
      "metadata": {
        "colab": {
          "base_uri": "https://localhost:8080/"
        },
        "id": "GYGmXn0V_Qmz",
        "outputId": "129dc233-670b-41c7-aa94-d24127de4fcb"
      },
      "execution_count": null,
      "outputs": [
        {
          "output_type": "execute_result",
          "data": {
            "text/plain": [
              "(100000, 8)"
            ]
          },
          "metadata": {},
          "execution_count": 21
        }
      ]
    },
    {
      "cell_type": "code",
      "source": [
        "count_classes = pd.value_counts(cc_data_set['fraud'], sort = True)#plotting how many transactions(fraud or normal) as labelled in data set\n",
        "count_classes.plot(kind = 'bar', rot=0)\n",
        "plt.title(\"Transaction Class Distribution\",color='Red')\n",
        "plt.xticks(range(2), LABELS,color='Red')#heading\n",
        "plt.xlabel(\"Class\",color='Red')#left label\n",
        "plt.ylabel(\"Frequency\",color='Red')#down label"
      ],
      "metadata": {
        "colab": {
          "base_uri": "https://localhost:8080/",
          "height": 530
        },
        "id": "zEeEUz9tXQHy",
        "outputId": "345b7e57-ca5d-484b-bf70-8928cd7972c0"
      },
      "execution_count": null,
      "outputs": [
        {
          "output_type": "execute_result",
          "data": {
            "text/plain": [
              "Text(0, 0.5, 'Frequency')"
            ]
          },
          "metadata": {},
          "execution_count": 22
        },
        {
          "output_type": "display_data",
          "data": {
            "text/plain": [
              "<Figure size 1008x576 with 1 Axes>"
            ],
            "image/png": "[encoded data removed]"
          },
          "metadata": {
            "needs_background": "light"
          }
        }
      ]
    },
    {
      "cell_type": "code",
      "source": [
        "f, (ax1, ax2) = plt.subplots(2, 1, sharex=True)#to print subplots in scatter plot\n",
        "f.suptitle('distance_from_home vs distance_from_last_transaction',color='Red')#heading title\n",
        "ax1.scatter(fraud.distance_from_home, fraud.distance_from_last_transaction)#plotting scatter plot for subplot 1\n",
        "ax1.set_title('Fraud',color='Red')#subplot 1 title\n",
        "ax2.scatter(normal.distance_from_home, normal.distance_from_last_transaction)#second scatterplot subplot\n",
        "ax2.set_title('Normal',color='Red')#title for second subplot\n",
        "plt.xlabel('distance_from_home',color='Red')#label for x axis\n",
        "plt.ylabel('distance_from_last_transaction',color='Red')#label for y axis\n",
        "plt.show()"
      ],
      "metadata": {
        "colab": {
          "base_uri": "https://localhost:8080/",
          "height": 555
        },
        "id": "KG21h3cfbWM6",
        "outputId": "b2311d35-3d04-447e-e26e-8f17136342bf"
      },
      "execution_count": null,
      "outputs": [
        {
          "output_type": "display_data",
          "data": {
            "text/plain": [
              "<Figure size 1008x576 with 2 Axes>"
            ],
            "image/png": "[encoded data removed]"
          },
          "metadata": {
            "needs_background": "light"
          }
        }
      ]
    },
    {
      "cell_type": "code",
      "source": [
        "fraud = data_frac[data_frac['fraud']==1] #fraud =1 denoting fradulent transaction data from the random sample\n",
        "valid = data_frac[data_frac['fraud']==0] #fraud =0 denoting normal transaction data from the random sample\n",
        "outlier_fraction = len(fraud)/float(len(valid))#fraction or ratio of fraud is to valid is calculated\n",
        "print(outlier_fraction)"
      ],
      "metadata": {
        "colab": {
          "base_uri": "https://localhost:8080/"
        },
        "id": "FgaJfdARCVDa",
        "outputId": "95d4d0cc-c204-4e2f-fd8d-ec98e6ebbb32"
      },
      "execution_count": null,
      "outputs": [
        {
          "output_type": "stream",
          "name": "stdout",
          "text": [
            "0.09674376775353974\n"
          ]
        }
      ]
    },
    {
      "cell_type": "code",
      "source": [
        "print(\"Fraud Cases : {}\".format(len(fraud)))#no of fraud cases from random sample\n",
        "print(\"Valid Cases : {}\".format(len(valid)))#no of normal cases from random sample"
      ],
      "metadata": {
        "colab": {
          "base_uri": "https://localhost:8080/"
        },
        "id": "zlxBnmboIqua",
        "outputId": "3db0c4a3-ecb7-4a22-bfc9-63a32408ba2d"
      },
      "execution_count": null,
      "outputs": [
        {
          "output_type": "stream",
          "name": "stdout",
          "text": [
            "Fraud Cases : 8821\n",
            "Valid Cases : 91179\n"
          ]
        }
      ]
    },
    {
      "cell_type": "code",
      "source": [
        "corrmat = data_frac.corr()#calculating correlation coefficient\n",
        "top_corr_features = corrmat.index\n",
        "plt.figure(figsize=(10,10))\n",
        "g=sns.heatmap(cc_data_set[top_corr_features].corr(),annot=True,cmap=\"RdYlGn\")"
      ],
      "metadata": {
        "colab": {
          "base_uri": "https://localhost:8080/",
          "height": 747
        },
        "id": "NjGFVXlfI5h4",
        "outputId": "a9653af4-fea4-4871-99d8-1321f30bcdcf"
      },
      "execution_count": null,
      "outputs": [
        {
          "output_type": "display_data",
          "data": {
            "text/plain": [
              "<Figure size 720x720 with 2 Axes>"
            ],
            "image/png": "[encoded data removed]"
          },
          "metadata": {
            "needs_background": "light"
          }
        }
      ]
    },
    {
      "cell_type": "code",
      "source": [
        "columns = data_frac.columns.tolist()\n",
        "columns = [c for c in columns if c not in [\"fraud\"]]\n",
        "#Store the variable we are predicting\n",
        "target = \"fraud\"#our prediction is class , class 0 and class 1 i.e fraud and not fraud\n",
        "#Defining a random state\n",
        "state = np.random.RandomState(42)#using for pseudo random number generation\n",
        "X = data_frac[columns]#loading X\n",
        "Y = data_frac[target]#loading Y\n",
        "X_outliers = state.uniform(low = 0, high = 1, size = (X.shape[0], X.shape[1]))#drawing a sample from a uniform distribution. every value has  equal probability of being taken\n",
        "#Printing the shapes of X and Y\n",
        "print(X.shape)\n",
        "print(Y.shape)"
      ],
      "metadata": {
        "colab": {
          "base_uri": "https://localhost:8080/"
        },
        "id": "2csoERm9K5Lw",
        "outputId": "b07eb4d7-e8af-4639-9a41-48d8c116832d"
      },
      "execution_count": null,
      "outputs": [
        {
          "output_type": "stream",
          "name": "stdout",
          "text": [
            "(100000, 7)\n",
            "(100000,)\n"
          ]
        }
      ]
    },
    {
      "cell_type": "code",
      "source": [
        "classifier = IsolationForest(n_estimators = 100, max_samples = len(X),contamination = outlier_fraction, random_state = state, verbose=0)\n",
        "#Isolation forest is a algorithm used in Machine learning that is used to detect anomally\n",
        "#it detects anomally by isolation\n",
        "#example say there are 10 points 1 to 10 and all from 1 to 9 are clustered in nearby region but one point point 10 is separated \n",
        "#from other cluster of points. So this algorithm detects that how far this point is away from the cluster and tells this point is anomally or not\n",
        "type(classifier)#type of our classifier is Isolation forest\n",
        "#here the alternative algorithms that we can use except Isolation Forest algorithms are Robust Covarience, One class SVM,Local outlier factor.\n",
        "import warnings\n",
        "warnings.filterwarnings(\"ignore\")  #during running our code warnings may come.Here explicitly we are shutting up the warnings \n",
        "n_outliers = len(fraud)\n",
        "#Fitting data and tagging outliers\n",
        "classifier.fit(X)#training the model on training data\n",
        "scores_prediction = classifier.decision_function(X)#using desicion_function function for prediction\n",
        "y_pred = classifier.predict(X)\n",
        "#Reshape the prediction values to 0 for valid transactions, 1 for fraud transactions\n",
        "y_pred[y_pred == 1] = 0\n",
        "y_pred[y_pred == -1] = 1\n",
        "n_errors = (y_pred != Y).sum()\n",
        "#Running the Classification Metrics \n",
        "print(\"The number of Credit Card fraud cases as per the dataset are:\",\"{}: {}\".format(classifier,n_errors),sep=' ')\n",
        "print()\n",
        "print(\"Accuracy Score:\", accuracy_score(Y,y_pred), sep=' ')\n",
        "print() \n",
        "print(\"Accuracy Percentage of the Machine Learning Model:\", accuracy_score(Y,y_pred)*100, sep=' ')\n",
        "print()\n",
        "print(\"                       Classification Report                       \")\n",
        "print()\n",
        "print(classification_report(Y,y_pred))"
      ],
      "metadata": {
        "colab": {
          "base_uri": "https://localhost:8080/"
        },
        "id": "w0QUFj1PL1-L",
        "outputId": "6dde0365-a6d7-437e-b037-2f0777e21c9c"
      },
      "execution_count": null,
      "outputs": [
        {
          "output_type": "stream",
          "name": "stdout",
          "text": [
            "The number of Credit Card fraud cases as per the dataset are: IsolationForest(contamination=0.09674376775353974, max_samples=100000,\n",
            "                random_state=RandomState(MT19937) at 0x7F0744B4A7C0): 14698\n",
            "\n",
            "Accuracy Score: 0.85302\n",
            "\n",
            "Accuracy Percentage of the Machine Learning Model: 85.302\n",
            "\n",
            "                       Classification Report                       \n",
            "\n",
            "              precision    recall  f1-score   support\n",
            "\n",
            "         0.0       0.92      0.91      0.92     91179\n",
            "         1.0       0.20      0.22      0.21      8821\n",
            "\n",
            "    accuracy                           0.85    100000\n",
            "   macro avg       0.56      0.56      0.56    100000\n",
            "weighted avg       0.86      0.85      0.86    100000\n",
            "\n"
          ]
        }
      ]
    },
    {
      "cell_type": "markdown",
      "source": [
        "# **As the above result is not satisfactoy, accuracy is only 85.3% checking for other approaches**"
      ],
      "metadata": {
        "id": "2uJs-1hRgWz4"
      }
    },
    {
      "cell_type": "code",
      "source": [
        "x=cc_data_set.iloc[:,:-1] #taking all featres except last one and assigning to x\n",
        "x.head()\n",
        "y=cc_data_set.iloc[:,-1] #last column of data frame assigned to y\n",
        "x.shape,y.shape"
      ],
      "metadata": {
        "colab": {
          "base_uri": "https://localhost:8080/"
        },
        "id": "Fa64Z_4AgTZp",
        "outputId": "4eb58490-fd37-4451-8a94-f50bab049cc6"
      },
      "execution_count": null,
      "outputs": [
        {
          "output_type": "execute_result",
          "data": {
            "text/plain": [
              "((1000000, 7), (1000000,))"
            ]
          },
          "metadata": {},
          "execution_count": 30
        }
      ]
    },
    {
      "cell_type": "code",
      "source": [
        "xtrain,xtest,ytrain,ytest=train_test_split(x,y,test_size=0.20,random_state=23)#splitting training and testing data set\n",
        "xtrain.shape,xtest.shape,ytrain.shape,ytest.shape\n"
      ],
      "metadata": {
        "colab": {
          "base_uri": "https://localhost:8080/"
        },
        "id": "w-OaybPDhXrg",
        "outputId": "d88c44bd-f5ab-4c04-c43b-64c4d35d5670"
      },
      "execution_count": null,
      "outputs": [
        {
          "output_type": "execute_result",
          "data": {
            "text/plain": [
              "((800000, 7), (200000, 7), (800000,), (200000,))"
            ]
          },
          "metadata": {},
          "execution_count": 33
        }
      ]
    },
    {
      "cell_type": "code",
      "source": [
        "tree=DecisionTreeClassifier()# decision tree classfier algorith is used\n",
        "tree.fit(xtrain,ytrain)\n",
        "tree_predict=tree.predict(xtest)\n",
        "tree_accuracy=accuracy_score(tree_predict,ytest)\n",
        "print(tree_accuracy)"
      ],
      "metadata": {
        "colab": {
          "base_uri": "https://localhost:8080/"
        },
        "id": "MWdm3vW0h_74",
        "outputId": "bf37d726-5b2b-4f96-ceef-461ec6e814e9"
      },
      "execution_count": null,
      "outputs": [
        {
          "output_type": "stream",
          "name": "stdout",
          "text": [
            "0.999985\n"
          ]
        }
      ]
    },
    {
      "cell_type": "code",
      "source": [
        "knn=KNeighborsClassifier(n_neighbors=3)\n",
        "knn.fit(xtrain,ytrain)\n",
        "knn_predict=knn.predict(xtest)"
      ],
      "metadata": {
        "id": "sDHIjqdDiaid"
      },
      "execution_count": null,
      "outputs": []
    },
    {
      "cell_type": "code",
      "source": [
        "knn_accuracy=accuracy_score(knn_predict,ytest)\n",
        "print(knn_accuracy)"
      ],
      "metadata": {
        "colab": {
          "base_uri": "https://localhost:8080/"
        },
        "id": "HCj99cvgikoq",
        "outputId": "2780439f-fe1b-43d8-cf49-6d1f916504aa"
      },
      "execution_count": null,
      "outputs": [
        {
          "output_type": "stream",
          "name": "stdout",
          "text": [
            "0.98576\n"
          ]
        }
      ]
    },
    {
      "cell_type": "code",
      "source": [
        "rf=RandomForestClassifier(n_estimators=10)\n",
        "rf.fit(xtrain,ytrain)\n",
        "rf_predict=rf.predict(xtest)\n",
        "rf_accuracy=accuracy_score(rf_predict,ytest)\n",
        "print('Accuracy using Decision tree :',(accuracy_score(tree_predict,ytest)*100))\n",
        "print('Accuracy using Random forest :',(accuracy_score(rf_predict,ytest)*100))\n",
        "print('Accuracy using Knn :',(accuracy_score(knn_predict,ytest)*100))"
      ],
      "metadata": {
        "colab": {
          "base_uri": "https://localhost:8080/"
        },
        "id": "eIJug5T9iwR5",
        "outputId": "7e19e0b1-1320-4187-f5ba-abf89ab173b6"
      },
      "execution_count": null,
      "outputs": [
        {
          "output_type": "stream",
          "name": "stdout",
          "text": [
            "Accuracy using Decision tree : 99.9985\n",
            "Accuracy using Random forest : 100.0\n",
            "Accuracy using Knn : 98.576\n"
          ]
        }
      ]
    }
  ]
}