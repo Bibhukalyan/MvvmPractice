{
  "cells": [
    {
      "cell_type": "markdown",
      "metadata": {
        "id": "view-in-github",
        "colab_type": "text"
      },
      "source": [
        "<a href=\"https://colab.research.google.com/github/Bibhukalyan/MvvmPractice/blob/master/L1_Numpy_Tutorial.ipynb\" target=\"_parent\"><img src=\"https://colab.research.google.com/assets/colab-badge.svg\" alt=\"Open In Colab\"/></a>"
      ]
    },
    {
      "cell_type": "markdown",
      "id": "154b8974",
      "metadata": {
        "id": "154b8974"
      },
      "source": [
        "# Numpy Tutorial"
      ]
    },
    {
      "cell_type": "markdown",
      "id": "d294f3d7",
      "metadata": {
        "id": "d294f3d7"
      },
      "source": [
        "## 1. Basics"
      ]
    },
    {
      "cell_type": "code",
      "execution_count": null,
      "id": "12fb08dd",
      "metadata": {
        "ExecuteTime": {
          "end_time": "2021-09-25T08:50:04.370459Z",
          "start_time": "2021-09-25T08:50:04.357475Z"
        },
        "id": "12fb08dd"
      },
      "outputs": [],
      "source": [
        "import numpy as np"
      ]
    },
    {
      "cell_type": "markdown",
      "id": "bd329578",
      "metadata": {
        "id": "bd329578"
      },
      "source": [
        "## 2. Making arrays"
      ]
    },
    {
      "cell_type": "code",
      "execution_count": null,
      "id": "0575a481",
      "metadata": {
        "ExecuteTime": {
          "end_time": "2021-09-25T08:50:04.386462Z",
          "start_time": "2021-09-25T08:50:04.371459Z"
        },
        "id": "0575a481",
        "outputId": "e69b5d56-bcef-4ad2-85a9-95497a18480e"
      },
      "outputs": [
        {
          "name": "stdout",
          "output_type": "stream",
          "text": [
            "[1 2 3]\n"
          ]
        },
        {
          "data": {
            "text/plain": [
              "(3,)"
            ]
          },
          "execution_count": 5,
          "metadata": {},
          "output_type": "execute_result"
        }
      ],
      "source": [
        "a = np.array([1, 2, 3])\n",
        "print(a)"
      ]
    },
    {
      "cell_type": "code",
      "execution_count": null,
      "id": "cd3ef091",
      "metadata": {
        "ExecuteTime": {
          "end_time": "2021-09-25T08:50:04.402466Z",
          "start_time": "2021-09-25T08:50:04.388464Z"
        },
        "id": "cd3ef091",
        "outputId": "c1633d6d-d8ab-4e41-a4fc-35ea0683867d"
      },
      "outputs": [
        {
          "name": "stdout",
          "output_type": "stream",
          "text": [
            "[[[ 1.2  3.4  5.6]\n",
            "  [ 5.4  3.2  2.1]\n",
            "  [12.   1.   2. ]]\n",
            "\n",
            " [[ 1.2  3.4  5.6]\n",
            "  [ 5.4  3.2  2.1]\n",
            "  [12.   1.   2. ]]]\n",
            "[[ 1.2  3.4  5.6]\n",
            " [ 5.4  3.2  2.1]\n",
            " [12.   1.   2. ]]\n"
          ]
        }
      ],
      "source": [
        "lol1 = [[[1.2, 3.4, 5.6], [5.4,3.2,2.1], [12, 1, 2]], [[1.2, 3.4, 5.6], [5.4,3.2,2.1], [12, 1, 2]]]\n",
        "lol2 = [[1.2, 3.4, 5.6], [5.4,3.2,2.1], [12, 1, 2]]\n",
        "\n",
        "\n",
        "b1 = np.array(lol1)\n",
        "print(b1)\n",
        "b2 = np.array(lol2)\n",
        "print(b2)"
      ]
    },
    {
      "cell_type": "code",
      "execution_count": null,
      "id": "654245bb",
      "metadata": {
        "ExecuteTime": {
          "end_time": "2021-09-25T08:50:04.418470Z",
          "start_time": "2021-09-25T08:50:04.404467Z"
        },
        "id": "654245bb",
        "outputId": "ec01cf66-ede1-452e-a420-16edc32f93c6"
      },
      "outputs": [
        {
          "data": {
            "text/plain": [
              "(1, 3)"
            ]
          },
          "execution_count": 18,
          "metadata": {},
          "output_type": "execute_result"
        }
      ],
      "source": [
        "# Get Dimension\n",
        "a.ndim, b1.ndim"
      ]
    },
    {
      "cell_type": "code",
      "execution_count": null,
      "id": "f3f7016e",
      "metadata": {
        "ExecuteTime": {
          "end_time": "2021-09-25T08:50:04.434474Z",
          "start_time": "2021-09-25T08:50:04.420472Z"
        },
        "id": "f3f7016e",
        "outputId": "81256e69-5ca5-4fa3-902d-204bfa821393"
      },
      "outputs": [
        {
          "data": {
            "text/plain": [
              "((2, 3, 3), (3, 3))"
            ]
          },
          "execution_count": 19,
          "metadata": {},
          "output_type": "execute_result"
        }
      ],
      "source": [
        "# Get Shape\n",
        "b1.shape, b2.shape"
      ]
    },
    {
      "cell_type": "code",
      "execution_count": null,
      "id": "0c093d56",
      "metadata": {
        "ExecuteTime": {
          "end_time": "2021-09-25T08:50:04.450477Z",
          "start_time": "2021-09-25T08:50:04.435474Z"
        },
        "id": "0c093d56",
        "outputId": "9639d408-8c45-42a8-ada1-7f523d32fb64"
      },
      "outputs": [
        {
          "name": "stdout",
          "output_type": "stream",
          "text": [
            "int64\n",
            "int16\n",
            "float64\n"
          ]
        }
      ],
      "source": [
        "# Get type\n",
        "print(a.dtype)\n",
        "a = np.array([1, 2, 3], dtype=np.int16) # 'int16'\n",
        "print(a.dtype)\n",
        "print(b1.dtype)"
      ]
    },
    {
      "cell_type": "code",
      "execution_count": null,
      "id": "adab4ace",
      "metadata": {
        "ExecuteTime": {
          "end_time": "2021-09-25T08:50:04.466480Z",
          "start_time": "2021-09-25T08:50:04.451477Z"
        },
        "id": "adab4ace",
        "outputId": "aaae25a9-2704-454f-e555-b50787bb5596"
      },
      "outputs": [
        {
          "name": "stdout",
          "output_type": "stream",
          "text": [
            "3\n",
            "2\n",
            "8\n"
          ]
        }
      ],
      "source": [
        "# Get Size\n",
        "print(a.size)\n",
        "print(a.itemsize) # 2 because we have used int16, 4 if int32\n",
        "print(b1.itemsize)"
      ]
    },
    {
      "cell_type": "code",
      "execution_count": null,
      "id": "35f7dbdb",
      "metadata": {
        "ExecuteTime": {
          "end_time": "2021-09-25T08:50:04.482484Z",
          "start_time": "2021-09-25T08:50:04.468481Z"
        },
        "id": "35f7dbdb",
        "outputId": "fed95a98-2e52-47f5-e6c0-b59b5bf8eb77"
      },
      "outputs": [
        {
          "data": {
            "text/plain": [
              "(144, 144)"
            ]
          },
          "execution_count": 25,
          "metadata": {},
          "output_type": "execute_result"
        }
      ],
      "source": [
        "# Total Size\n",
        "b1.nbytes, (b1.itemsize*b1.size)"
      ]
    },
    {
      "cell_type": "markdown",
      "id": "78c2b5b3",
      "metadata": {
        "id": "78c2b5b3"
      },
      "source": [
        "### 2.1 Accessing/Changing Specefix Elements, rows, columns etc."
      ]
    },
    {
      "cell_type": "code",
      "execution_count": null,
      "id": "129f7ff7",
      "metadata": {
        "ExecuteTime": {
          "end_time": "2021-09-25T08:50:04.498489Z",
          "start_time": "2021-09-25T08:50:04.484485Z"
        },
        "id": "129f7ff7",
        "outputId": "39c317ab-b49b-4a69-b599-25f5cff840ae"
      },
      "outputs": [
        {
          "name": "stdout",
          "output_type": "stream",
          "text": [
            "[[ 1  2  3  4  5  6  7]\n",
            " [ 8  9 10 11 12 13 14]]\n"
          ]
        }
      ],
      "source": [
        "a = np.array([[1,2,3,4,5,6,7],[8,9,10,11,12,13,14]])\n",
        "print(a)"
      ]
    },
    {
      "cell_type": "code",
      "execution_count": null,
      "id": "785e2b76",
      "metadata": {
        "id": "785e2b76",
        "outputId": "6a8659b2-a74b-400d-af08-3771762cbfe6"
      },
      "outputs": [
        {
          "name": "stdout",
          "output_type": "stream",
          "text": [
            "50\n",
            "[[1.2, 3.4, 5.6], [5.4, 3.2, 2.1], [12, 1, 2]]\n",
            "[5.4, 3.2, 2.1]\n",
            "2.1\n"
          ]
        }
      ],
      "source": [
        "a1 = list(range(1, 100))\n",
        "print(a1[49])\n",
        "print(lol1[0])\n",
        "print(lol1[0][1])\n",
        "print(lol1[0][1][2])"
      ]
    },
    {
      "cell_type": "code",
      "execution_count": null,
      "id": "87c28408",
      "metadata": {
        "ExecuteTime": {
          "end_time": "2021-09-25T08:50:04.514490Z",
          "start_time": "2021-09-25T08:50:04.499491Z"
        },
        "id": "87c28408",
        "outputId": "30cfd3f8-65d5-4398-ac67-00a3e0207c20"
      },
      "outputs": [
        {
          "data": {
            "text/plain": [
              "13"
            ]
          },
          "execution_count": 36,
          "metadata": {},
          "output_type": "execute_result"
        }
      ],
      "source": [
        "# get a specefic element\n",
        "a[1,5]"
      ]
    },
    {
      "cell_type": "code",
      "execution_count": null,
      "id": "dd7007fd",
      "metadata": {
        "ExecuteTime": {
          "end_time": "2021-09-25T08:50:04.530494Z",
          "start_time": "2021-09-25T08:50:04.516493Z"
        },
        "id": "dd7007fd",
        "outputId": "56225628-a6d1-484f-d541-81248b782629"
      },
      "outputs": [
        {
          "data": {
            "text/plain": [
              "array([ 8,  9, 10, 11, 12, 13, 14])"
            ]
          },
          "execution_count": 51,
          "metadata": {},
          "output_type": "execute_result"
        }
      ],
      "source": [
        "a1[:]\n",
        "a1[0:len(a1)]\n",
        "a1[0:-1]\n",
        "\n",
        "\n",
        "# get a specefic row\n",
        "a[1, :]\n",
        "# get a specefic col\n",
        "# a[:, 2]"
      ]
    },
    {
      "cell_type": "code",
      "execution_count": null,
      "id": "6cdca704",
      "metadata": {
        "ExecuteTime": {
          "end_time": "2021-09-25T08:50:04.546497Z",
          "start_time": "2021-09-25T08:50:04.532497Z"
        },
        "id": "6cdca704",
        "outputId": "0df393dc-37ac-4b36-fe7e-a08f8e40dea4"
      },
      "outputs": [
        {
          "data": {
            "text/plain": [
              "array([ 4, 11])"
            ]
          },
          "execution_count": 58,
          "metadata": {},
          "output_type": "execute_result"
        }
      ],
      "source": [
        "# get a specefic column\n",
        "a[:, 3]"
      ]
    },
    {
      "cell_type": "code",
      "execution_count": null,
      "id": "555bd064",
      "metadata": {
        "ExecuteTime": {
          "end_time": "2021-09-25T08:50:04.562510Z",
          "start_time": "2021-09-25T08:50:04.548500Z"
        },
        "id": "555bd064",
        "outputId": "d68af485-9a7a-49ed-832e-8ea91c9e6a0b"
      },
      "outputs": [
        {
          "name": "stdout",
          "output_type": "stream",
          "text": [
            "[[ 1  2  3  4  5  6  7]\n",
            " [ 8  9 10 11 12 13 14]]\n"
          ]
        },
        {
          "data": {
            "text/plain": [
              "array([2, 4, 6])"
            ]
          },
          "execution_count": 61,
          "metadata": {},
          "output_type": "execute_result"
        }
      ],
      "source": [
        "a1[0:25:5]\n",
        "print(a)\n",
        "# getting little more fancy, [startindex:endindex:stepsize]\n",
        "a[0, 1:-1:2] #a[0, 1:6:2]"
      ]
    },
    {
      "cell_type": "code",
      "execution_count": null,
      "id": "f6346f63",
      "metadata": {
        "ExecuteTime": {
          "end_time": "2021-09-25T08:50:04.578506Z",
          "start_time": "2021-09-25T08:50:04.563503Z"
        },
        "id": "f6346f63",
        "outputId": "0f03728f-f7fb-485f-9ec5-88814f689bed"
      },
      "outputs": [
        {
          "name": "stdout",
          "output_type": "stream",
          "text": [
            "[[ 1  2  1  2  5  6  7]\n",
            " [ 8  9 68 21 12 20 14]]\n",
            "\n",
            "[[ 1  2 34  2  5  6  7]\n",
            " [ 8  9 68 21 12 20 14]]\n"
          ]
        },
        {
          "data": {
            "text/plain": [
              "array([[ 1,  2,  1,  2,  5,  6,  7],\n",
              "       [ 8,  9, 68, 21, 12, 20, 14]])"
            ]
          },
          "execution_count": 68,
          "metadata": {},
          "output_type": "execute_result"
        }
      ],
      "source": [
        "# change\n",
        "a[1, 3] = 21.2\n",
        "a[1,5] = 20\n",
        "print(a)\n",
        "print()\n",
        "a[:, 2] = [34,68]\n",
        "print(a)\n",
        "\n",
        "a[0, 2:4] = [1, 2]\n",
        "a"
      ]
    },
    {
      "cell_type": "code",
      "execution_count": null,
      "id": "4b6ae0a7",
      "metadata": {
        "ExecuteTime": {
          "end_time": "2021-09-25T08:50:04.594510Z",
          "start_time": "2021-09-25T08:50:04.579506Z"
        },
        "id": "4b6ae0a7",
        "outputId": "a45364ca-250d-437f-ab0a-98ae2457fbb3"
      },
      "outputs": [
        {
          "name": "stdout",
          "output_type": "stream",
          "text": [
            "[[[1 2]\n",
            "  [3 4]]\n",
            "\n",
            " [[5 6]\n",
            "  [7 8]]]\n"
          ]
        }
      ],
      "source": [
        "# 3d array\n",
        "c = np.array([[[1,2],[3,4]],[[5,6],[7,8]]])\n",
        "print(c)"
      ]
    },
    {
      "cell_type": "code",
      "execution_count": null,
      "id": "26cdca2b",
      "metadata": {
        "ExecuteTime": {
          "end_time": "2021-09-25T08:50:04.610513Z",
          "start_time": "2021-09-25T08:50:04.596511Z"
        },
        "scrolled": true,
        "id": "26cdca2b",
        "outputId": "9e6b65fa-e78a-435f-dd6c-67dce140820a"
      },
      "outputs": [
        {
          "data": {
            "text/plain": [
              "4"
            ]
          },
          "execution_count": 62,
          "metadata": {},
          "output_type": "execute_result"
        }
      ],
      "source": [
        "c[0,1,1] # from 0th clusters/dimension 2nd row get 2nd element i.e 4"
      ]
    },
    {
      "cell_type": "code",
      "execution_count": null,
      "id": "fae2e2ac",
      "metadata": {
        "ExecuteTime": {
          "end_time": "2021-09-25T08:50:04.625518Z",
          "start_time": "2021-09-25T08:50:04.611514Z"
        },
        "id": "fae2e2ac",
        "outputId": "b6830a87-df87-49f4-852f-029871713f08"
      },
      "outputs": [
        {
          "name": "stdout",
          "output_type": "stream",
          "text": [
            "[[3 4]\n",
            " [7 8]]\n",
            "\n",
            " [[2 4]\n",
            " [6 8]]\n"
          ]
        }
      ],
      "source": [
        "print(c[:,1,:]) # from both clusters get 2nd row\n",
        "print(\"\\n\", c[:,:,1]) # from all clusters all rows get 2nd column"
      ]
    },
    {
      "cell_type": "markdown",
      "id": "c2607b5e",
      "metadata": {
        "id": "c2607b5e"
      },
      "source": [
        "### 2.2 Initializing different types of arrays"
      ]
    },
    {
      "cell_type": "code",
      "execution_count": null,
      "id": "66763e3b",
      "metadata": {
        "ExecuteTime": {
          "end_time": "2021-09-25T08:50:04.641520Z",
          "start_time": "2021-09-25T08:50:04.627517Z"
        },
        "id": "66763e3b",
        "outputId": "7561dd94-2e27-4562-e615-34ba3ed486a8"
      },
      "outputs": [
        {
          "name": "stdout",
          "output_type": "stream",
          "text": [
            "[[[0. 0. 0.]\n",
            "  [0. 0. 0.]\n",
            "  [0. 0. 0.]]\n",
            "\n",
            " [[0. 0. 0.]\n",
            "  [0. 0. 0.]\n",
            "  [0. 0. 0.]]\n",
            "\n",
            " [[0. 0. 0.]\n",
            "  [0. 0. 0.]\n",
            "  [0. 0. 0.]]]\n",
            "\n",
            " [[0. 0.]\n",
            " [0. 0.]]\n"
          ]
        },
        {
          "data": {
            "text/plain": [
              "dtype('float64')"
            ]
          },
          "execution_count": 70,
          "metadata": {},
          "output_type": "execute_result"
        }
      ],
      "source": [
        "# all zeros\n",
        "z1 = np.zeros((3,3,3)) # basically a  cube containing zeros\n",
        "print(z1)\n",
        "z2 = np.zeros((2,2))\n",
        "print(\"\\n\", z2)\n",
        "z1.dtype"
      ]
    },
    {
      "cell_type": "code",
      "execution_count": null,
      "id": "f924c5ab",
      "metadata": {
        "ExecuteTime": {
          "end_time": "2021-09-25T08:50:04.657539Z",
          "start_time": "2021-09-25T08:50:04.642521Z"
        },
        "id": "f924c5ab",
        "outputId": "aca1a51d-ffb5-4cdc-f3b2-a8b563487ca3"
      },
      "outputs": [
        {
          "data": {
            "text/plain": [
              "array([[1, 1, 1],\n",
              "       [1, 1, 1],\n",
              "       [1, 1, 1]], dtype=int32)"
            ]
          },
          "execution_count": 65,
          "metadata": {},
          "output_type": "execute_result"
        }
      ],
      "source": [
        "# all ones\n",
        "np.ones((3,3), dtype='int32')"
      ]
    },
    {
      "cell_type": "code",
      "execution_count": null,
      "id": "8424f6be",
      "metadata": {
        "ExecuteTime": {
          "end_time": "2021-09-25T08:50:04.673527Z",
          "start_time": "2021-09-25T08:50:04.660526Z"
        },
        "id": "8424f6be",
        "outputId": "80e5cbac-02e0-491a-8693-2eaba7a13a3c"
      },
      "outputs": [
        {
          "data": {
            "text/plain": [
              "array([[[9, 9, 9],\n",
              "        [9, 9, 9]]])"
            ]
          },
          "execution_count": 71,
          "metadata": {},
          "output_type": "execute_result"
        }
      ],
      "source": [
        "# any other numbers\n",
        "np.full((2,2), 32, dtype='float32')"
      ]
    },
    {
      "cell_type": "code",
      "execution_count": null,
      "id": "6c3b3ef5",
      "metadata": {
        "ExecuteTime": {
          "end_time": "2021-09-25T08:50:04.688531Z",
          "start_time": "2021-09-25T08:50:04.674527Z"
        },
        "id": "6c3b3ef5",
        "outputId": "86517f7f-5b3e-48df-c1bc-94ca9acd5c40"
      },
      "outputs": [
        {
          "data": {
            "text/plain": [
              "array([[4, 4, 4, 4, 4, 4, 4],\n",
              "       [4, 4, 4, 4, 4, 4, 4]])"
            ]
          },
          "execution_count": 67,
          "metadata": {},
          "output_type": "execute_result"
        }
      ],
      "source": [
        "# full_like\n",
        "np.full_like(a,4) #np.full(a.shape, 4)"
      ]
    },
    {
      "cell_type": "code",
      "execution_count": null,
      "id": "b9d7a9e9",
      "metadata": {
        "ExecuteTime": {
          "end_time": "2021-09-25T08:50:04.704533Z",
          "start_time": "2021-09-25T08:50:04.690531Z"
        },
        "id": "b9d7a9e9",
        "outputId": "7fdef85b-afaa-40f4-e3da-a627d61bf4ac"
      },
      "outputs": [
        {
          "name": "stdout",
          "output_type": "stream",
          "text": [
            "[[-1.45304628 -0.6942839   0.5659518  -1.26863294 -1.83904919]\n",
            " [ 0.87894335  0.57835336  0.84737431 -0.55545749 -0.70870905]\n",
            " [-2.36532764  0.60401145  2.40402197  1.29168546 -0.6824735 ]\n",
            " [-0.42236112 -0.92256689  0.19947151 -0.26560625 -0.60845275]]\n"
          ]
        }
      ],
      "source": [
        "# array of random numbers\n",
        "# r21 = np.random.randint(0, 10, (2, 2))\n",
        "\n",
        "r1 = np.random.randn(4,5)\n",
        "# r1 = np.random.rand(4,2) # Uniform Distribution\n",
        "print(r1)\n",
        "# r2 = np.random.random_sample(a.shape)\n",
        "# print(\"\\n\", r2)"
      ]
    },
    {
      "cell_type": "code",
      "execution_count": null,
      "id": "c96d8685",
      "metadata": {
        "ExecuteTime": {
          "end_time": "2021-09-25T08:50:04.720538Z",
          "start_time": "2021-09-25T08:50:04.708535Z"
        },
        "id": "c96d8685",
        "outputId": "3c2c4c27-8632-431d-a992-24d854b4eadc"
      },
      "outputs": [
        {
          "data": {
            "text/plain": [
              "array([[0, 2, 9],\n",
              "       [6, 7, 4],\n",
              "       [1, 5, 6]])"
            ]
          },
          "execution_count": 69,
          "metadata": {},
          "output_type": "execute_result"
        }
      ],
      "source": [
        "# random int array\n",
        "np.random.randint(10, size=(3,3))"
      ]
    },
    {
      "cell_type": "code",
      "execution_count": null,
      "id": "b6e2385b",
      "metadata": {
        "ExecuteTime": {
          "end_time": "2021-09-25T08:50:04.736541Z",
          "start_time": "2021-09-25T08:50:04.723538Z"
        },
        "scrolled": true,
        "id": "b6e2385b",
        "outputId": "abd8013b-071c-4681-fe93-bb078e75814e"
      },
      "outputs": [
        {
          "data": {
            "text/plain": [
              "array([[1., 0., 0.],\n",
              "       [0., 1., 0.],\n",
              "       [0., 0., 1.]])"
            ]
          },
          "execution_count": 70,
          "metadata": {},
          "output_type": "execute_result"
        }
      ],
      "source": [
        "# identity matrix\n",
        "np.identity(3)"
      ]
    },
    {
      "cell_type": "code",
      "execution_count": null,
      "id": "4c33e5ea",
      "metadata": {
        "ExecuteTime": {
          "end_time": "2021-09-25T08:50:04.752548Z",
          "start_time": "2021-09-25T08:50:04.738542Z"
        },
        "id": "4c33e5ea",
        "outputId": "170e1f03-c472-45c9-a05d-ae0484423a57"
      },
      "outputs": [
        {
          "name": "stdout",
          "output_type": "stream",
          "text": [
            "[1 1 1 2 2 2 3 3 3]\n",
            "\n",
            " [[1 2 3]\n",
            " [1 2 3]\n",
            " [1 2 3]]\n"
          ]
        }
      ],
      "source": [
        "# repeat an array\n",
        "arr = np.array([1,2,3])\n",
        "rep = np.repeat(arr, 3, axis=0)\n",
        "print(rep)\n",
        "\n",
        "arr = np.array([[1,2,3]])\n",
        "rep2 = np.repeat(arr, 3, axis=0)\n",
        "print(\"\\n\",rep2)"
      ]
    },
    {
      "cell_type": "code",
      "execution_count": null,
      "id": "b83b012d",
      "metadata": {
        "ExecuteTime": {
          "end_time": "2021-09-25T08:50:04.768549Z",
          "start_time": "2021-09-25T08:50:04.754547Z"
        },
        "id": "b83b012d",
        "outputId": "abe4790c-6bf2-4f60-cc99-b2e077fabd1e"
      },
      "outputs": [
        {
          "name": "stdout",
          "output_type": "stream",
          "text": [
            "[[1. 1. 1. 1. 1.]\n",
            " [1. 1. 1. 1. 1.]\n",
            " [1. 1. 1. 1. 1.]\n",
            " [1. 1. 1. 1. 1.]\n",
            " [1. 1. 1. 1. 1.]] \n",
            "\n",
            "[[1. 1. 1. 1. 1.]\n",
            " [1. 0. 0. 0. 1.]\n",
            " [1. 0. 9. 0. 1.]\n",
            " [1. 0. 0. 0. 1.]\n",
            " [1. 1. 1. 1. 1.]] \n",
            "\n"
          ]
        }
      ],
      "source": [
        "# problem 1: generate the array usnig initialization methods\n",
        "# 1 1 1 1 1\n",
        "# 1 0 0 0 1\n",
        "# 1 0 9 0 1\n",
        "# 1 0 0 0 1\n",
        "# 1 1 1 1 1\n",
        "\n",
        "output = np.ones((5,5))\n",
        "print(f\"{output} \\n\")\n",
        "\n",
        "z = np.zeros((3,3))\n",
        "z[1,1] = 9\n",
        "output[1:-1, 1:-1] = z\n",
        "print(f\"{output} \\n\")"
      ]
    },
    {
      "cell_type": "markdown",
      "id": "ee8a3b04",
      "metadata": {
        "id": "ee8a3b04"
      },
      "source": [
        "### 2.3 Be careful while copying arrays !!!"
      ]
    },
    {
      "cell_type": "code",
      "execution_count": null,
      "id": "2757cfcd",
      "metadata": {
        "ExecuteTime": {
          "end_time": "2021-09-25T08:50:04.784551Z",
          "start_time": "2021-09-25T08:50:04.769549Z"
        },
        "id": "2757cfcd",
        "outputId": "c91d3035-1acb-41e5-9f22-57942f6b2615"
      },
      "outputs": [
        {
          "name": "stdout",
          "output_type": "stream",
          "text": [
            "POINTING!\n",
            "b.initial = [1 2 3]\n",
            "b = [100   2   3]\n",
            "a = [100   2   3] \n",
            "\n",
            "COPYING!\n",
            "n.initial = [10 20 30]\n",
            "n = [1000   20   30]\n",
            "m = [10 20 30]\n"
          ]
        }
      ],
      "source": [
        "print(\"POINTING!\")\n",
        "a = np.array([1,2,3])\n",
        "b = a \n",
        "print(f\"b.initial = {b}\")\n",
        "b[0] = 100\n",
        "print(f\"b = {b}\")\n",
        "# Assignment did not copy it pointed b to a, thus change in b means change in a\n",
        "print(f\"a = {a} \\n\")\n",
        "\n",
        "print(\"COPYING!\")\n",
        "m = np.array([10,20,30])\n",
        "n = m.copy() \n",
        "print(f\"n.initial = {n}\")\n",
        "n[0] = 1000\n",
        "print(f\"n = {n}\")\n",
        "# Assignment did not copy it pointed b to a, thus change in b means change in a\n",
        "print(f\"m = {m}\")"
      ]
    },
    {
      "cell_type": "markdown",
      "id": "e5fa2c20",
      "metadata": {
        "id": "e5fa2c20"
      },
      "source": [
        "## 3. Mathematics"
      ]
    },
    {
      "cell_type": "code",
      "execution_count": null,
      "id": "5eaad44a",
      "metadata": {
        "ExecuteTime": {
          "end_time": "2021-09-25T08:50:04.800557Z",
          "start_time": "2021-09-25T08:50:04.786556Z"
        },
        "id": "5eaad44a",
        "outputId": "84554f7c-67a5-43f9-8754-9bc029475913"
      },
      "outputs": [
        {
          "name": "stdout",
          "output_type": "stream",
          "text": [
            "[1 2 3 4]\n"
          ]
        }
      ],
      "source": [
        "a = np.array([1,2,3,4])\n",
        "print(a)"
      ]
    },
    {
      "cell_type": "code",
      "execution_count": null,
      "id": "2407dd5e",
      "metadata": {
        "ExecuteTime": {
          "end_time": "2021-09-25T08:50:04.816559Z",
          "start_time": "2021-09-25T08:50:04.802558Z"
        },
        "id": "2407dd5e",
        "outputId": "88b8671f-7c48-45f4-a3f1-9f7be7b9f58c"
      },
      "outputs": [
        {
          "data": {
            "text/plain": [
              "array([3, 4, 5, 6])"
            ]
          },
          "execution_count": 90,
          "metadata": {},
          "output_type": "execute_result"
        }
      ],
      "source": [
        "a += 2\n",
        "a"
      ]
    },
    {
      "cell_type": "code",
      "execution_count": null,
      "id": "e11f170c",
      "metadata": {
        "ExecuteTime": {
          "end_time": "2021-09-25T08:50:04.832564Z",
          "start_time": "2021-09-25T08:50:04.818563Z"
        },
        "id": "e11f170c",
        "outputId": "5d254b5a-236b-4861-fdf7-6a74f52ba77c"
      },
      "outputs": [
        {
          "data": {
            "text/plain": [
              "array([1, 2, 3, 4])"
            ]
          },
          "execution_count": 91,
          "metadata": {},
          "output_type": "execute_result"
        }
      ],
      "source": [
        "a -= 2\n",
        "a"
      ]
    },
    {
      "cell_type": "code",
      "execution_count": null,
      "id": "2cb9cfc0",
      "metadata": {
        "ExecuteTime": {
          "end_time": "2021-09-25T08:50:04.847567Z",
          "start_time": "2021-09-25T08:50:04.833564Z"
        },
        "id": "2cb9cfc0",
        "outputId": "bf5d7f5f-478f-493c-e04c-f20b876af674"
      },
      "outputs": [
        {
          "data": {
            "text/plain": [
              "array([2, 4, 6, 8])"
            ]
          },
          "execution_count": 92,
          "metadata": {},
          "output_type": "execute_result"
        }
      ],
      "source": [
        "a*2"
      ]
    },
    {
      "cell_type": "code",
      "execution_count": null,
      "id": "8bbcf320",
      "metadata": {
        "id": "8bbcf320",
        "outputId": "059efc99-6b6d-4f6e-f5f1-45e416fec7f1"
      },
      "outputs": [
        {
          "data": {
            "text/plain": [
              "0.5"
            ]
          },
          "execution_count": 93,
          "metadata": {},
          "output_type": "execute_result"
        }
      ],
      "source": [
        "1/2"
      ]
    },
    {
      "cell_type": "code",
      "execution_count": null,
      "id": "9f3970f0",
      "metadata": {
        "ExecuteTime": {
          "end_time": "2021-09-25T08:50:04.863571Z",
          "start_time": "2021-09-25T08:50:04.848568Z"
        },
        "id": "9f3970f0",
        "outputId": "336b854c-ae36-4bfc-b245-06605b30b512"
      },
      "outputs": [
        {
          "data": {
            "text/plain": [
              "array([0.5, 1. , 1.5, 2. ])"
            ]
          },
          "execution_count": 94,
          "metadata": {},
          "output_type": "execute_result"
        }
      ],
      "source": [
        "a/2"
      ]
    },
    {
      "cell_type": "code",
      "execution_count": null,
      "id": "28f18731",
      "metadata": {
        "id": "28f18731",
        "outputId": "86d475b6-1aad-4d54-bdb4-ba1c0969bac5"
      },
      "outputs": [
        {
          "data": {
            "text/plain": [
              "array([1, 2, 3, 4])"
            ]
          },
          "execution_count": 95,
          "metadata": {},
          "output_type": "execute_result"
        }
      ],
      "source": [
        "a"
      ]
    },
    {
      "cell_type": "code",
      "execution_count": null,
      "id": "649f1fda",
      "metadata": {
        "ExecuteTime": {
          "end_time": "2021-09-25T08:50:04.879577Z",
          "start_time": "2021-09-25T08:50:04.864570Z"
        },
        "id": "649f1fda",
        "outputId": "40a08911-a245-4fe3-80d9-af199bbeade8"
      },
      "outputs": [
        {
          "data": {
            "text/plain": [
              "array([2, 2, 4, 4])"
            ]
          },
          "execution_count": 79,
          "metadata": {},
          "output_type": "execute_result"
        }
      ],
      "source": [
        "b = np.array([1,0,1,0])\n",
        "a + b"
      ]
    },
    {
      "cell_type": "code",
      "execution_count": null,
      "id": "7321ada8",
      "metadata": {
        "ExecuteTime": {
          "end_time": "2021-09-25T08:50:04.895578Z",
          "start_time": "2021-09-25T08:50:04.880574Z"
        },
        "id": "7321ada8",
        "outputId": "d13f5074-2f6b-4911-8839-585601499879"
      },
      "outputs": [
        {
          "data": {
            "text/plain": [
              "array([ 1,  4,  9, 16])"
            ]
          },
          "execution_count": 96,
          "metadata": {},
          "output_type": "execute_result"
        }
      ],
      "source": [
        "a ** 2\n",
        "\n",
        "np.power(a, 2)"
      ]
    },
    {
      "cell_type": "code",
      "execution_count": null,
      "id": "d82f50e7",
      "metadata": {
        "ExecuteTime": {
          "end_time": "2021-09-25T08:50:04.911585Z",
          "start_time": "2021-09-25T08:50:04.897581Z"
        },
        "id": "d82f50e7",
        "outputId": "8a52c895-d576-4a8b-bece-1f5b8f9562d6"
      },
      "outputs": [
        {
          "data": {
            "text/plain": [
              "array([ 0.84147098,  0.90929743,  0.14112001, -0.7568025 ])"
            ]
          },
          "execution_count": 81,
          "metadata": {},
          "output_type": "execute_result"
        }
      ],
      "source": [
        "# trigonometry\n",
        "np.sin(a)"
      ]
    },
    {
      "cell_type": "markdown",
      "id": "ae526e5f",
      "metadata": {
        "id": "ae526e5f"
      },
      "source": [
        "### 3.1 Linear Algebra"
      ]
    },
    {
      "cell_type": "code",
      "execution_count": null,
      "id": "9a7e267f",
      "metadata": {
        "ExecuteTime": {
          "end_time": "2021-09-25T08:50:04.927587Z",
          "start_time": "2021-09-25T08:50:04.913586Z"
        },
        "scrolled": true,
        "id": "9a7e267f",
        "outputId": "bf3a0645-40eb-49d1-9dbe-95bcba4af193"
      },
      "outputs": [
        {
          "name": "stdout",
          "output_type": "stream",
          "text": [
            "[[1. 1. 1.]\n",
            " [1. 1. 1.]]\n",
            "\n",
            " [[2 2]\n",
            " [2 2]\n",
            " [2 2]]\n"
          ]
        }
      ],
      "source": [
        "a = np.ones((2,3))\n",
        "print(a)\n",
        "\n",
        "b = np.full((3,2), 2)\n",
        "print(f\"\\n {b}\")"
      ]
    },
    {
      "cell_type": "code",
      "execution_count": null,
      "id": "b3596039",
      "metadata": {
        "ExecuteTime": {
          "end_time": "2021-09-25T08:50:04.943589Z",
          "start_time": "2021-09-25T08:50:04.929586Z"
        },
        "id": "b3596039",
        "outputId": "4ac14dc2-20d0-47e2-91ad-36f6485082fa"
      },
      "outputs": [
        {
          "data": {
            "text/plain": [
              "array([[6., 6.],\n",
              "       [6., 6.]])"
            ]
          },
          "execution_count": 100,
          "metadata": {},
          "output_type": "execute_result"
        }
      ],
      "source": [
        "# matrix multiplication\n",
        "np.matmul(a,b)"
      ]
    },
    {
      "cell_type": "code",
      "execution_count": null,
      "id": "6cfeb826",
      "metadata": {
        "ExecuteTime": {
          "end_time": "2021-09-25T08:50:04.959594Z",
          "start_time": "2021-09-25T08:50:04.945590Z"
        },
        "id": "6cfeb826",
        "outputId": "fba9d0f4-1d1f-496d-a0d2-5ae6e54fd89c"
      },
      "outputs": [
        {
          "data": {
            "text/plain": [
              "-2.0000000000000004"
            ]
          },
          "execution_count": 104,
          "metadata": {},
          "output_type": "execute_result"
        }
      ],
      "source": [
        "# determinant\n",
        "a23 = np.array([[1, 2], [3, 4]])\n",
        "\n",
        "c = np.full((3, 3), 2)\n",
        "np.linalg.det(a23)"
      ]
    },
    {
      "cell_type": "code",
      "execution_count": null,
      "id": "44b844c4",
      "metadata": {
        "id": "44b844c4",
        "outputId": "f0031c06-027d-4b5c-cc1b-6ae947f0f442"
      },
      "outputs": [
        {
          "data": {
            "text/plain": [
              "array([[1., 1.],\n",
              "       [1., 1.],\n",
              "       [1., 1.]])"
            ]
          },
          "execution_count": 106,
          "metadata": {},
          "output_type": "execute_result"
        }
      ],
      "source": [
        "np.dot(a, a.transpose())\n",
        "a.transpose()"
      ]
    },
    {
      "cell_type": "code",
      "execution_count": null,
      "id": "8e77a84f",
      "metadata": {
        "ExecuteTime": {
          "end_time": "2021-09-25T08:50:04.975598Z",
          "start_time": "2021-09-25T08:50:04.961594Z"
        },
        "id": "8e77a84f"
      },
      "outputs": [],
      "source": [
        "# reference docs : https://numpy.org/doc/stable/reference/routines.linalg.html"
      ]
    },
    {
      "cell_type": "markdown",
      "id": "395a9bce",
      "metadata": {
        "id": "395a9bce"
      },
      "source": [
        "### 3.2 Statistics"
      ]
    },
    {
      "cell_type": "code",
      "execution_count": null,
      "id": "4f66182d",
      "metadata": {
        "ExecuteTime": {
          "end_time": "2021-09-25T08:50:04.990601Z",
          "start_time": "2021-09-25T08:50:04.976599Z"
        },
        "id": "4f66182d",
        "outputId": "0e07c4af-a23d-44b6-c153-1f3deb0e5f95"
      },
      "outputs": [
        {
          "data": {
            "text/plain": [
              "array([[1, 2, 3],\n",
              "       [5, 6, 7]])"
            ]
          },
          "execution_count": 108,
          "metadata": {},
          "output_type": "execute_result"
        }
      ],
      "source": [
        "stats = np.array([[1,2,3], [5,6,7]])\n",
        "stats"
      ]
    },
    {
      "cell_type": "code",
      "execution_count": null,
      "id": "fb4105c3",
      "metadata": {
        "ExecuteTime": {
          "end_time": "2021-09-25T08:50:05.006606Z",
          "start_time": "2021-09-25T08:50:04.992606Z"
        },
        "id": "fb4105c3",
        "outputId": "e7425bce-af66-481b-ac27-fbe8e7efa24a"
      },
      "outputs": [
        {
          "name": "stdout",
          "output_type": "stream",
          "text": [
            "[1 2 3]\n",
            "[1 5]\n"
          ]
        }
      ],
      "source": [
        "min1 = np.min(stats, axis=0) # returns min of each row\n",
        "min2 = np.min(stats, axis=1) # returns a list containing min for each column\n",
        "print(min1) \n",
        "print(min2)"
      ]
    },
    {
      "cell_type": "code",
      "execution_count": null,
      "id": "cc7e13b4-a5e7-44ca-8dc9-69dfc0deba53",
      "metadata": {
        "ExecuteTime": {
          "end_time": "2021-09-25T08:50:05.022608Z",
          "start_time": "2021-09-25T08:50:05.008607Z"
        },
        "id": "cc7e13b4-a5e7-44ca-8dc9-69dfc0deba53",
        "outputId": "08602c5c-91ac-43e9-ad21-cfc960f45ed2"
      },
      "outputs": [
        {
          "data": {
            "text/plain": [
              "7"
            ]
          },
          "execution_count": 110,
          "metadata": {},
          "output_type": "execute_result"
        }
      ],
      "source": [
        "m = np.max(stats)\n",
        "m"
      ]
    },
    {
      "cell_type": "code",
      "execution_count": null,
      "id": "da569338-b92c-47ff-b046-3d5c606af137",
      "metadata": {
        "ExecuteTime": {
          "end_time": "2021-09-25T08:50:05.038609Z",
          "start_time": "2021-09-25T08:50:05.024611Z"
        },
        "id": "da569338-b92c-47ff-b046-3d5c606af137",
        "outputId": "295c0ecb-c08f-4022-8629-90f1cb6090fd"
      },
      "outputs": [
        {
          "name": "stdout",
          "output_type": "stream",
          "text": [
            "24\n",
            "[ 6  8 10]\n"
          ]
        }
      ],
      "source": [
        "print(np.sum(stats))\n",
        "print(np.sum(stats, axis=0)) # sum of all the rows"
      ]
    },
    {
      "cell_type": "code",
      "execution_count": null,
      "id": "553ec58a-1218-47d7-8260-6d0ef35f96e8",
      "metadata": {
        "ExecuteTime": {
          "end_time": "2021-09-25T08:50:05.054613Z",
          "start_time": "2021-09-25T08:50:05.040612Z"
        },
        "id": "553ec58a-1218-47d7-8260-6d0ef35f96e8",
        "outputId": "0afa1b6d-386c-4cc3-bf65-02c715d23c38"
      },
      "outputs": [
        {
          "name": "stdout",
          "output_type": "stream",
          "text": [
            "[[1 2 3 4]\n",
            " [5 6 7 8]] \n",
            "\n",
            "[[1]\n",
            " [2]\n",
            " [3]\n",
            " [4]\n",
            " [5]\n",
            " [6]\n",
            " [7]\n",
            " [8]] \n",
            "\n",
            "[[[1 2]\n",
            "  [3 4]]\n",
            "\n",
            " [[5 6]\n",
            "  [7 8]]]\n"
          ]
        }
      ],
      "source": [
        "before = np.array([[1,2,3,4], [5,6,7,8]])\n",
        "print(f\"{before} \\n\")\n",
        "\n",
        "after = before.reshape((8,1))\n",
        "print(f\"{after} \\n\") #column vector\n",
        "\n",
        "print(before.reshape((2,-1,2)))"
      ]
    },
    {
      "cell_type": "code",
      "execution_count": null,
      "id": "58c26ea4-ef32-4c0b-8ba2-7e14170a5155",
      "metadata": {
        "ExecuteTime": {
          "end_time": "2021-09-25T08:50:05.070637Z",
          "start_time": "2021-09-25T08:50:05.055614Z"
        },
        "id": "58c26ea4-ef32-4c0b-8ba2-7e14170a5155",
        "outputId": "1dff9e55-87c7-4541-c008-61cd33e54745"
      },
      "outputs": [
        {
          "name": "stdout",
          "output_type": "stream",
          "text": [
            "[1 2 3 4] [5 6 7 8] [[1 2 3 4]\n",
            " [5 6 7 8]]\n",
            "\n",
            " [[1. 1. 1. 1. 0. 0.]\n",
            " [1. 1. 1. 1. 0. 0.]]\n"
          ]
        }
      ],
      "source": [
        "# Vertically stacking vectors\n",
        "v1 = np.array([1,2,3,4])\n",
        "v2 = np.array([5,6,7,8])\n",
        "\n",
        "print(v1, v2, np.vstack([v1, v2])) # combines array vertically\n",
        "\n",
        "# Horizontal Stack\n",
        "h1 = np.ones((2,4))\n",
        "h2 = np.zeros((2,2))\n",
        "\n",
        "print(f\"\\n {np.hstack([h1,h2])}\")"
      ]
    },
    {
      "cell_type": "markdown",
      "id": "cf051561-6093-435f-97f0-d9aa3fd57120",
      "metadata": {
        "id": "cf051561-6093-435f-97f0-d9aa3fd57120"
      },
      "source": [
        "## 4. Miscellaneous"
      ]
    },
    {
      "cell_type": "markdown",
      "id": "ff72cfbc-fc71-4d76-88c8-76d8d39513f2",
      "metadata": {
        "id": "ff72cfbc-fc71-4d76-88c8-76d8d39513f2"
      },
      "source": [
        "#### Load Data from a File"
      ]
    },
    {
      "cell_type": "code",
      "execution_count": null,
      "id": "b92efbd6-609c-49d1-a931-c390a3a407d7",
      "metadata": {
        "ExecuteTime": {
          "end_time": "2021-09-25T08:50:05.086622Z",
          "start_time": "2021-09-25T08:50:05.072620Z"
        },
        "id": "b92efbd6-609c-49d1-a931-c390a3a407d7",
        "outputId": "5958ea84-7453-4035-d2b3-ba0d8464a258"
      },
      "outputs": [
        {
          "data": {
            "text/plain": [
              "array([[  1,  13,  21,  11, 196,  75,   4,   3,  34,   6,   7,   8,   0,\n",
              "          1,   2,   3,   4,   5],\n",
              "       [  3,  42,  12,  33, 766,  75,   4,  55,   6,   4,   3,   4,   5,\n",
              "          6,   7,   0,  11,  12],\n",
              "       [  1,  22,  33,  11, 999,  11,   2,   1,  78,   0,   1,   2,   9,\n",
              "          8,   7,   1,  76,  88]], dtype=int32)"
            ]
          },
          "execution_count": 114,
          "metadata": {},
          "output_type": "execute_result"
        }
      ],
      "source": [
        "filedata = np.genfromtxt('data/data.txt', delimiter=',').astype('int32') \n",
        "filedata"
      ]
    },
    {
      "cell_type": "markdown",
      "id": "fa073ad8-c65f-40a7-b691-4b4690bb7706",
      "metadata": {
        "id": "fa073ad8-c65f-40a7-b691-4b4690bb7706"
      },
      "source": [
        "#### Boolean Masking and Advanced Indexing"
      ]
    },
    {
      "cell_type": "code",
      "execution_count": null,
      "id": "193cc225-3522-4961-a22c-ee1b21c70038",
      "metadata": {
        "ExecuteTime": {
          "end_time": "2021-09-25T08:50:05.102625Z",
          "start_time": "2021-09-25T08:50:05.088622Z"
        },
        "id": "193cc225-3522-4961-a22c-ee1b21c70038",
        "outputId": "8f78e10a-2959-4e18-da11-be901a42b805"
      },
      "outputs": [
        {
          "data": {
            "text/plain": [
              "array([2, 3, 4, 5])"
            ]
          },
          "execution_count": 115,
          "metadata": {},
          "output_type": "execute_result"
        }
      ],
      "source": [
        "# you can index with a list in numpy\n",
        "# example\n",
        "a = np.array([1,2,3,4,5,6,7,8,9])\n",
        "a[[1,2,3,4]]"
      ]
    },
    {
      "cell_type": "code",
      "execution_count": null,
      "id": "c400c228-bcf2-493a-a166-30ffabe95364",
      "metadata": {
        "ExecuteTime": {
          "end_time": "2021-09-25T08:50:05.118647Z",
          "start_time": "2021-09-25T08:50:05.104626Z"
        },
        "id": "c400c228-bcf2-493a-a166-30ffabe95364",
        "outputId": "dee47990-7c56-44fc-b66b-00dbae499797"
      },
      "outputs": [
        {
          "name": "stdout",
          "output_type": "stream",
          "text": [
            "[[False False False False  True  True False False False False False False\n",
            "  False False False False False False]\n",
            " [False False False False  True  True False  True False False False False\n",
            "  False False False False False False]\n",
            " [False False False False  True False False False  True False False False\n",
            "  False False False False  True  True]]\n",
            "\n",
            " [196  75 766  75  55 999  78  76  88]\n"
          ]
        }
      ],
      "source": [
        "z = filedata > 50\n",
        "print(z)\n",
        "zee = filedata[filedata > 50] # you can index with a list in numpy\n",
        "print(f\"\\n {zee}\") "
      ]
    },
    {
      "cell_type": "code",
      "execution_count": null,
      "id": "f8d1d72b-e4e7-4fd0-bc32-de93aba03e17",
      "metadata": {
        "ExecuteTime": {
          "end_time": "2021-09-25T08:50:05.134633Z",
          "start_time": "2021-09-25T08:50:05.120629Z"
        },
        "id": "f8d1d72b-e4e7-4fd0-bc32-de93aba03e17",
        "outputId": "7ec7581d-c99f-4f16-be98-508b2995492a"
      },
      "outputs": [
        {
          "data": {
            "text/plain": [
              "array([False, False, False, False,  True,  True, False,  True,  True,\n",
              "       False, False, False, False, False, False, False,  True,  True])"
            ]
          },
          "execution_count": 117,
          "metadata": {},
          "output_type": "execute_result"
        }
      ],
      "source": [
        "np.any(filedata>50, axis=0) # axis = 0 means in the column "
      ]
    },
    {
      "cell_type": "code",
      "execution_count": null,
      "id": "eff98136-4941-4a27-9bc8-6daa0c671851",
      "metadata": {
        "ExecuteTime": {
          "end_time": "2021-09-25T08:50:05.150654Z",
          "start_time": "2021-09-25T08:50:05.135632Z"
        },
        "id": "eff98136-4941-4a27-9bc8-6daa0c671851",
        "outputId": "05edcd2e-1079-4a12-9d25-4e2a26479850"
      },
      "outputs": [
        {
          "data": {
            "text/plain": [
              "array([False, False, False])"
            ]
          },
          "execution_count": 118,
          "metadata": {},
          "output_type": "execute_result"
        }
      ],
      "source": [
        "np.all(filedata>25, axis=1) # axis = 0 means in the column "
      ]
    },
    {
      "cell_type": "code",
      "execution_count": null,
      "id": "bd5cd5d4-b6ea-4347-b52a-e206e1189482",
      "metadata": {
        "ExecuteTime": {
          "end_time": "2021-09-25T08:50:05.165638Z",
          "start_time": "2021-09-25T08:50:05.152644Z"
        },
        "id": "bd5cd5d4-b6ea-4347-b52a-e206e1189482",
        "outputId": "3e8c8c9c-47f7-45c5-e2f0-81200d98d786"
      },
      "outputs": [
        {
          "data": {
            "text/plain": [
              "array([[ True,  True,  True,  True,  True, False,  True,  True,  True,\n",
              "         True,  True,  True,  True,  True,  True,  True,  True,  True],\n",
              "       [ True,  True,  True,  True,  True, False,  True, False,  True,\n",
              "         True,  True,  True,  True,  True,  True,  True,  True,  True],\n",
              "       [ True,  True,  True,  True,  True,  True,  True,  True, False,\n",
              "         True,  True,  True,  True,  True,  True,  True, False, False]])"
            ]
          },
          "execution_count": 119,
          "metadata": {},
          "output_type": "execute_result"
        }
      ],
      "source": [
        "(~((filedata>50) & (filedata <100))) # ~ means not"
      ]
    },
    {
      "cell_type": "markdown",
      "id": "385f1c69-9367-4a23-89d4-b6da68e0d067",
      "metadata": {
        "id": "385f1c69-9367-4a23-89d4-b6da68e0d067"
      },
      "source": [
        "## 5. Problems"
      ]
    },
    {
      "cell_type": "markdown",
      "id": "93c19d63-e581-4d08-a284-d54138927e6c",
      "metadata": {
        "id": "93c19d63-e581-4d08-a284-d54138927e6c"
      },
      "source": [
        "**Q: Index the highlighted elements of the array**"
      ]
    },
    {
      "cell_type": "markdown",
      "id": "ca7bfc8f-4834-4a87-9134-237820015724",
      "metadata": {
        "tags": [],
        "id": "ca7bfc8f-4834-4a87-9134-237820015724"
      },
      "source": [
        "![image.png](attachment:fa600173-43b0-482b-9d88-32c15ba01ada.png)"
      ]
    },
    {
      "cell_type": "code",
      "execution_count": null,
      "id": "e606f29a-791a-4f33-9c5a-f11550ad01d6",
      "metadata": {
        "ExecuteTime": {
          "end_time": "2021-09-25T08:50:05.180795Z",
          "start_time": "2021-09-25T08:50:05.167640Z"
        },
        "id": "e606f29a-791a-4f33-9c5a-f11550ad01d6",
        "outputId": "0c873b70-3ba9-4321-d43c-3f9982b125ee"
      },
      "outputs": [
        {
          "data": {
            "text/plain": [
              "array([[ 1,  2,  3,  4,  5],\n",
              "       [ 6,  7,  8,  9, 10],\n",
              "       [11, 12, 13, 14, 15],\n",
              "       [16, 17, 18, 19, 20],\n",
              "       [21, 22, 23, 24, 25],\n",
              "       [26, 27, 28, 29, 30]])"
            ]
          },
          "execution_count": 120,
          "metadata": {},
          "output_type": "execute_result"
        }
      ],
      "source": [
        "a = np.array([[1,2,3,4,5], [6,7,8,9,10], [11,12,13,14,15],[16,17,18,19,20],[21,22,23,24,25],[26,27,28,29,30]])\n",
        "a"
      ]
    },
    {
      "cell_type": "code",
      "execution_count": null,
      "id": "fc8fadc0-7ac9-47dd-989f-acdcfae002a2",
      "metadata": {
        "ExecuteTime": {
          "end_time": "2021-09-25T08:50:05.196798Z",
          "start_time": "2021-09-25T08:50:05.182794Z"
        },
        "id": "fc8fadc0-7ac9-47dd-989f-acdcfae002a2",
        "outputId": "4ce4bd20-5604-410b-8936-56df75d646c1"
      },
      "outputs": [
        {
          "data": {
            "text/plain": [
              "array([[11, 12],\n",
              "       [16, 17]])"
            ]
          },
          "execution_count": 121,
          "metadata": {},
          "output_type": "execute_result"
        }
      ],
      "source": [
        "# Solution 1\n",
        "a[2:4, 0:2] "
      ]
    },
    {
      "cell_type": "code",
      "execution_count": null,
      "id": "9e410fde-aba2-4992-a5f6-e14219dc3146",
      "metadata": {
        "ExecuteTime": {
          "end_time": "2021-09-25T08:50:05.212802Z",
          "start_time": "2021-09-25T08:50:05.197799Z"
        },
        "id": "9e410fde-aba2-4992-a5f6-e14219dc3146",
        "outputId": "c6d5b388-ff1d-49e0-907d-5be7b5c9d479"
      },
      "outputs": [
        {
          "data": {
            "text/plain": [
              "array([ 2,  8, 14, 20])"
            ]
          },
          "execution_count": 122,
          "metadata": {},
          "output_type": "execute_result"
        }
      ],
      "source": [
        "# solution 2\n",
        "a[[0,1,2,3],[1,2,3,4]]"
      ]
    },
    {
      "cell_type": "code",
      "execution_count": null,
      "id": "739dd2d1-76a9-4989-a60d-2b4a415bf0ba",
      "metadata": {
        "ExecuteTime": {
          "end_time": "2021-09-25T08:50:05.228815Z",
          "start_time": "2021-09-25T08:50:05.214802Z"
        },
        "id": "739dd2d1-76a9-4989-a60d-2b4a415bf0ba",
        "outputId": "8d16ac46-e05d-4aee-bbc6-03b432b2e93d"
      },
      "outputs": [
        {
          "data": {
            "text/plain": [
              "array([[ 4,  5],\n",
              "       [24, 25],\n",
              "       [29, 30]])"
            ]
          },
          "execution_count": 123,
          "metadata": {},
          "output_type": "execute_result"
        }
      ],
      "source": [
        "# Solution 3\n",
        "a[[0,4,5],3:]"
      ]
    },
    {
      "cell_type": "markdown",
      "id": "556561d5",
      "metadata": {
        "pycharm": {
          "name": "#%% md\n"
        },
        "id": "556561d5"
      },
      "source": [
        "## 6. Exercises"
      ]
    },
    {
      "cell_type": "markdown",
      "id": "19193501-8b68-4cfa-ad75-01fed200c264",
      "metadata": {
        "id": "19193501-8b68-4cfa-ad75-01fed200c264"
      },
      "source": [
        "### 6.1: Circle Fitting"
      ]
    },
    {
      "cell_type": "markdown",
      "id": "3be5cc41-0377-42af-8dd6-2f1cddd737de",
      "metadata": {
        "id": "3be5cc41-0377-42af-8dd6-2f1cddd737de"
      },
      "source": [
        "Fit a circle through points a1 = (0,0), a2 = (1/2,0), a3 = (1,0), a4 = (1,1), a5 = (0,1)"
      ]
    },
    {
      "cell_type": "markdown",
      "id": "1b0dde94-2cb2-4251-b192-4717da928d0b",
      "metadata": {
        "id": "1b0dde94-2cb2-4251-b192-4717da928d0b"
      },
      "source": [
        "Formula is :   \n",
        "$y = (A^TA)^{-1}A^Tb $"
      ]
    },
    {
      "cell_type": "code",
      "execution_count": null,
      "id": "fec23879-60c0-40f7-aacc-e36532ff0735",
      "metadata": {
        "ExecuteTime": {
          "end_time": "2021-09-25T08:50:05.244808Z",
          "start_time": "2021-09-25T08:50:05.230807Z"
        },
        "id": "fec23879-60c0-40f7-aacc-e36532ff0735",
        "outputId": "a9b990d2-0024-4cac-ec21-569dc2d2432e"
      },
      "outputs": [
        {
          "name": "stdout",
          "output_type": "stream",
          "text": [
            "A_star:  [[ 9  4 -5]\n",
            " [ 4  8 -4]\n",
            " [-5 -4  5]]\n",
            "\n",
            "y = [0.5        0.54166667 0.08333333]\n",
            "Centres (x, y) are: (0.500, 0.542)\n",
            "Radius of the circle is 0.68\n"
          ]
        }
      ],
      "source": [
        "A = np.array([[0,0,-1], [1,0,-1], [2,0,-1], [2,2,-1], [0,2,-1]]) # making the A array\n",
        "A_star = np.matmul(A.T, A) # (AA^T)\n",
        "A_inv = np.linalg.inv(A_star) # (AA^T)^(-1)\n",
        "b = np.array([0, 0.25, 1,  2, 1]) # b vector\n",
        "f = np.matmul(A_inv, A.T) # final multiplication before multiplying to b\n",
        "y = np.matmul(f, b.T) # calculation of y\n",
        "x_hat = y[0:2]\n",
        "R = y[2]\n",
        "r = np.sqrt(np.linalg.norm(x_hat)**2 - R)\n",
        "\n",
        "print(\"A_star: \", A_star)\n",
        "#print(\"A_inv: \", A_inv)\n",
        "#print(\"\\nf: \", f)\n",
        "print(f'\\ny = {y}')\n",
        "print('Centres (x, y) are: ({:.3f}, {:.3f})'.format(x_hat[0],x_hat[1]))\n",
        "print('Radius of the circle is {:.2f}'.format(r))"
      ]
    },
    {
      "cell_type": "markdown",
      "id": "c904cd5f-e6ce-42c7-981b-b9c9dc5983e1",
      "metadata": {
        "id": "c904cd5f-e6ce-42c7-981b-b9c9dc5983e1"
      },
      "source": [
        "### 6.2: DFP Method"
      ]
    },
    {
      "cell_type": "code",
      "execution_count": null,
      "id": "b05d076a-5e05-4c13-a2cb-58eda3c4ab6f",
      "metadata": {
        "ExecuteTime": {
          "end_time": "2021-09-25T08:50:05.260812Z",
          "start_time": "2021-09-25T08:50:05.246809Z"
        },
        "id": "b05d076a-5e05-4c13-a2cb-58eda3c4ab6f"
      },
      "outputs": [],
      "source": [
        "p = np.array([[84/17], [-42/17]])\n",
        "q = np.array([[56/17], [41/17]])\n",
        "\n",
        "A1 = np.matmul(p, p.T)\n",
        "A2 = np.matmul(p.T, q)"
      ]
    },
    {
      "cell_type": "code",
      "execution_count": null,
      "id": "294e415b-f87a-425f-9780-90ebd00c7325",
      "metadata": {
        "ExecuteTime": {
          "end_time": "2021-09-25T08:50:05.276831Z",
          "start_time": "2021-09-25T08:50:05.261814Z"
        },
        "id": "294e415b-f87a-425f-9780-90ebd00c7325",
        "outputId": "40caae70-1ca9-4e26-f628-70259a703211"
      },
      "outputs": [
        {
          "data": {
            "text/plain": [
              "array([[ 2.36619718, -1.18309859],\n",
              "       [-1.18309859,  0.5915493 ]])"
            ]
          },
          "execution_count": 126,
          "metadata": {},
          "output_type": "execute_result"
        }
      ],
      "source": [
        "x = float(A2)\n",
        "A = A1/x\n",
        "A"
      ]
    },
    {
      "cell_type": "code",
      "execution_count": null,
      "id": "81c81ca3-2464-41ab-b01f-88f9ebe04007",
      "metadata": {
        "ExecuteTime": {
          "end_time": "2021-09-25T08:50:05.292828Z",
          "start_time": "2021-09-25T08:50:05.278817Z"
        },
        "id": "81c81ca3-2464-41ab-b01f-88f9ebe04007"
      },
      "outputs": [],
      "source": [
        "S = np.identity(2)\n",
        "B1_1 = np.matmul(S, q)\n",
        "B1_2 = np.matmul(q.T, S.T)\n",
        "B1 = np.matmul(B1_1, B1_2)\n",
        "B2_1 = np.matmul(q.T, S)\n",
        "B2 = np.matmul(B2_1, q)\n",
        "B2 = float(B2)\n",
        "#B = B1/B2\n",
        "#S + A - B\n",
        "grad_X1 = np.array([[90/17], [24/17]])"
      ]
    },
    {
      "cell_type": "code",
      "execution_count": null,
      "id": "3825d873-ec00-4e08-987f-0663d4f491f3",
      "metadata": {
        "ExecuteTime": {
          "end_time": "2021-09-25T08:50:05.308837Z",
          "start_time": "2021-09-25T08:50:05.294822Z"
        },
        "id": "3825d873-ec00-4e08-987f-0663d4f491f3",
        "outputId": "73031f2d-b638-4d53-b938-ccd85897f77f"
      },
      "outputs": [
        {
          "data": {
            "text/plain": [
              "array([[-12.03      ],\n",
              "       [  7.03482353]])"
            ]
          },
          "execution_count": 128,
          "metadata": {},
          "output_type": "execute_result"
        }
      ],
      "source": [
        "s1 = np.array([[2.715, -1.66], [-1.66, 1.242]])\n",
        "d1 = -np.matmul(s1, grad_X1)\n",
        "x1 = np.array([50/17, 26/17])\n",
        "d1"
      ]
    },
    {
      "cell_type": "markdown",
      "id": "61395d7a",
      "metadata": {
        "pycharm": {
          "name": "#%% md\n"
        },
        "id": "61395d7a"
      },
      "source": [
        "### 6.3: Goodman's Co-efficient"
      ]
    },
    {
      "cell_type": "code",
      "execution_count": null,
      "id": "6ab441b7",
      "metadata": {
        "ExecuteTime": {
          "end_time": "2021-09-25T08:50:05.323826Z",
          "start_time": "2021-09-25T08:50:05.310823Z"
        },
        "pycharm": {
          "name": "#%%\n"
        },
        "id": "6ab441b7",
        "outputId": "bbe56f89-56b2-40e4-ea11-e69f99b5dcab"
      },
      "outputs": [
        {
          "name": "stdout",
          "output_type": "stream",
          "text": [
            "16.0\n",
            "49.33333333333332\n",
            "92.0\n",
            "106.66666666666667\n",
            "129.33333333333334\n",
            "153.33333333333334\n",
            "182.66666666666669\n",
            "213.33333333333334\n",
            "241.33333333333334\n",
            "264.0\n",
            "285.3333333333333\n",
            "320.0\n",
            "320.0\n"
          ]
        }
      ],
      "source": [
        "# Goodmans Coefficient\n",
        "\n",
        "observation = [[12, 25, 32, 11], [17, 18, 22, 23], [21, 17, 16, 26]]\n",
        "expectation = [[4, 25/3, 32/3, 11/3], [17/3, 6, 22/3, 23/3], [7, 17/3, 16/3, 26/3]]\n",
        "\n",
        "def goodman(observation, expectation):\n",
        "    G=0\n",
        "    for i in range(len(observation)):\n",
        "        for j in range(len(observation[0])):\n",
        "            G += ((observation[i][j] - expectation[i][j])**2)/expectation[i][j]\n",
        "            print(G)\n",
        "    return G\n",
        "\n",
        "print(goodman(observation, expectation))"
      ]
    },
    {
      "cell_type": "code",
      "execution_count": null,
      "id": "89adf0be",
      "metadata": {
        "ExecuteTime": {
          "end_time": "2021-09-25T08:50:05.339830Z",
          "start_time": "2021-09-25T08:50:05.325834Z"
        },
        "pycharm": {
          "name": "#%%\n"
        },
        "id": "89adf0be",
        "outputId": "ff5e7577-b25c-446c-a436-a70075a88944"
      },
      "outputs": [
        {
          "name": "stdout",
          "output_type": "stream",
          "text": [
            "3.6818181818181817\n",
            "9.204545454545453\n",
            "20.25\n",
            "25.62777777777778\n",
            "37.05555555555556\n",
            "50.5\n",
            "50.5\n"
          ]
        }
      ],
      "source": [
        "O = [[10, 15, 30], [8, 17, 20]]\n",
        "E = [[5.5, 8.25, 16.5], [3.6, 7.65, 9]]\n",
        "\n",
        "print(goodman(O, E))"
      ]
    },
    {
      "cell_type": "code",
      "execution_count": null,
      "id": "75f5b304",
      "metadata": {
        "ExecuteTime": {
          "end_time": "2021-09-25T08:50:05.355833Z",
          "start_time": "2021-09-25T08:50:05.340829Z"
        },
        "pycharm": {
          "name": "#%%\n"
        },
        "id": "75f5b304",
        "outputId": "abc70060-93fb-4aab-c26b-7adb96328be5"
      },
      "outputs": [
        {
          "data": {
            "text/plain": [
              "(6.5,\n",
              " 6.0,\n",
              " 11.45,\n",
              " 11.0,\n",
              " array(12.72222222),\n",
              " array(12.22222222),\n",
              " array([[12.72222222, -9.22222222],\n",
              "        [-9.22222222, 12.22222222]]))"
            ]
          },
          "execution_count": 131,
          "metadata": {},
          "output_type": "execute_result"
        }
      ],
      "source": [
        "# Correlation Coefficient\n",
        "X = [1,2,7,4,6,8,11,5,10,11]\n",
        "Y = [7,11,4,10,8,9,2,5,1,3]\n",
        "X = np.array(X)\n",
        "Y = np.array(Y)\n",
        "\n",
        "np.mean(X), np.mean(Y), np.var(X), np.var(Y), np.cov(X), np.cov(Y), np.cov(X, Y)"
      ]
    }
  ],
  "metadata": {
    "kernelspec": {
      "display_name": "taenv",
      "language": "python",
      "name": "python3"
    },
    "language_info": {
      "codemirror_mode": {
        "name": "ipython",
        "version": 3
      },
      "file_extension": ".py",
      "mimetype": "text/x-python",
      "name": "python",
      "nbconvert_exporter": "python",
      "pygments_lexer": "ipython3",
      "version": "3.9.16"
    },
    "toc": {
      "base_numbering": 1,
      "nav_menu": {},
      "number_sections": true,
      "sideBar": true,
      "skip_h1_title": false,
      "title_cell": "Table of Contents",
      "title_sidebar": "Contents",
      "toc_cell": false,
      "toc_position": {},
      "toc_section_display": true,
      "toc_window_display": true
    },
    "varInspector": {
      "cols": {
        "lenName": 16,
        "lenType": 16,
        "lenVar": 40
      },
      "kernels_config": {
        "python": {
          "delete_cmd_postfix": "",
          "delete_cmd_prefix": "del ",
          "library": "var_list.py",
          "varRefreshCmd": "print(var_dic_list())"
        },
        "r": {
          "delete_cmd_postfix": ") ",
          "delete_cmd_prefix": "rm(",
          "library": "var_list.r",
          "varRefreshCmd": "cat(var_dic_list()) "
        }
      },
      "types_to_exclude": [
        "module",
        "function",
        "builtin_function_or_method",
        "instance",
        "_Feature"
      ],
      "window_display": false
    },
    "vscode": {
      "interpreter": {
        "hash": "9b8226127030747ee900e67acb5f7a6c4b6e7e1bf9a457fcf4f7c05c355ccba0"
      }
    },
    "colab": {
      "provenance": [],
      "include_colab_link": true
    }
  },
  "nbformat": 4,
  "nbformat_minor": 5
}