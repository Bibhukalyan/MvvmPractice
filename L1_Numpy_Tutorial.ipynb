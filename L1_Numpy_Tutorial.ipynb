{
  "cells": [
    {
      "cell_type": "markdown",
      "metadata": {
        "id": "view-in-github",
        "colab_type": "text"
      },
      "source": [
        "<a href=\"https://colab.research.google.com/github/Bibhukalyan/MvvmPractice/blob/master/L1_Numpy_Tutorial.ipynb\" target=\"_parent\"><img src=\"https://colab.research.google.com/assets/colab-badge.svg\" alt=\"Open In Colab\"/></a>"
      ]
    },
    {
      "cell_type": "markdown",
      "id": "154b8974",
      "metadata": {
        "id": "154b8974"
      },
      "source": [
        "# Numpy Tutorial"
      ]
    },
    {
      "cell_type": "markdown",
      "id": "d294f3d7",
      "metadata": {
        "id": "d294f3d7"
      },
      "source": [
        "## 1. Basics"
      ]
    },
    {
      "cell_type": "code",
      "execution_count": null,
      "id": "12fb08dd",
      "metadata": {
        "ExecuteTime": {
          "end_time": "2021-09-25T08:50:04.370459Z",
          "start_time": "2021-09-25T08:50:04.357475Z"
        },
        "id": "12fb08dd"
      },
      "outputs": [],
      "source": [
        "import numpy as np"
      ]
    },
    {
      "cell_type": "markdown",
      "id": "bd329578",
      "metadata": {
        "id": "bd329578"
      },
      "source": [
        "## 2. Making arrays"
      ]
    },
    {
      "cell_type": "code",
      "execution_count": null,
      "id": "0575a481",
      "metadata": {
        "ExecuteTime": {
          "end_time": "2021-09-25T08:50:04.386462Z",
          "start_time": "2021-09-25T08:50:04.371459Z"
        },
        "id": "0575a481",
        "outputId": "29923be0-fda6-45d4-e78f-4210063c15c0"
      },
      "outputs": [
        {
          "name": "stdout",
          "output_type": "stream",
          "text": [
            "[1 2 3]\n"
          ]
        },
        {
          "data": {
            "text/plain": [
              "(3,)"
            ]
          },
          "execution_count": 5,
          "metadata": {},
          "output_type": "execute_result"
        }
      ],
      "source": [
        "a = np.array([1, 2, 3])\n",
        "print(a)"
      ]
    },
    {
      "cell_type": "code",
      "execution_count": null,
      "id": "cd3ef091",
      "metadata": {
        "ExecuteTime": {
          "end_time": "2021-09-25T08:50:04.402466Z",
          "start_time": "2021-09-25T08:50:04.388464Z"
        },
        "id": "cd3ef091",
        "outputId": "8d9059d0-f4f3-4747-884c-9279168b74ff"
      },
      "outputs": [
        {
          "name": "stdout",
          "output_type": "stream",
          "text": [
            "[[[ 1.2  3.4  5.6]\n",
            "  [ 5.4  3.2  2.1]\n",
            "  [12.   1.   2. ]]\n",
            "\n",
            " [[ 1.2  3.4  5.6]\n",
            "  [ 5.4  3.2  2.1]\n",
            "  [12.   1.   2. ]]]\n",
            "[[ 1.2  3.4  5.6]\n",
            " [ 5.4  3.2  2.1]\n",
            " [12.   1.   2. ]]\n"
          ]
        }
      ],
      "source": [
        "lol1 = [[[1.2, 3.4, 5.6], [5.4,3.2,2.1], [12, 1, 2]], [[1.2, 3.4, 5.6], [5.4,3.2,2.1], [12, 1, 2]]]\n",
        "lol2 = [[1.2, 3.4, 5.6], [5.4,3.2,2.1], [12, 1, 2]]\n",
        "\n",
        "\n",
        "b1 = np.array(lol1)\n",
        "print(b1)\n",
        "b2 = np.array(lol2)\n",
        "print(b2)"
      ]
    },
    {
      "cell_type": "code",
      "execution_count": null,
      "id": "654245bb",
      "metadata": {
        "ExecuteTime": {
          "end_time": "2021-09-25T08:50:04.418470Z",
          "start_time": "2021-09-25T08:50:04.404467Z"
        },
        "id": "654245bb",
        "outputId": "102297a1-e2f5-45e7-9f32-4c1da1ae5e49"
      },
      "outputs": [
        {
          "data": {
            "text/plain": [
              "(1, 3)"
            ]
          },
          "execution_count": 18,
          "metadata": {},
          "output_type": "execute_result"
        }
      ],
      "source": [
        "# Get Dimension\n",
        "a.ndim, b1.ndim"
      ]
    },
    {
      "cell_type": "code",
      "execution_count": null,
      "id": "f3f7016e",
      "metadata": {
        "ExecuteTime": {
          "end_time": "2021-09-25T08:50:04.434474Z",
          "start_time": "2021-09-25T08:50:04.420472Z"
        },
        "id": "f3f7016e",
        "outputId": "2d99ae83-8cee-40be-aa98-4b92565c499c"
      },
      "outputs": [
        {
          "data": {
            "text/plain": [
              "((2, 3, 3), (3, 3))"
            ]
          },
          "execution_count": 19,
          "metadata": {},
          "output_type": "execute_result"
        }
      ],
      "source": [
        "# Get Shape\n",
        "b1.shape, b2.shape"
      ]
    },
    {
      "cell_type": "code",
      "execution_count": null,
      "id": "0c093d56",
      "metadata": {
        "ExecuteTime": {
          "end_time": "2021-09-25T08:50:04.450477Z",
          "start_time": "2021-09-25T08:50:04.435474Z"
        },
        "id": "0c093d56",
        "outputId": "e5a3415e-bcd1-4a39-eb35-d9242d168546"
      },
      "outputs": [
        {
          "name": "stdout",
          "output_type": "stream",
          "text": [
            "int64\n",
            "int16\n",
            "float64\n"
          ]
        }
      ],
      "source": [
        "# Get type\n",
        "print(a.dtype)\n",
        "a = np.array([1, 2, 3], dtype=np.int16) # 'int16'\n",
        "print(a.dtype)\n",
        "print(b1.dtype)"
      ]
    },
    {
      "cell_type": "code",
      "execution_count": null,
      "id": "adab4ace",
      "metadata": {
        "ExecuteTime": {
          "end_time": "2021-09-25T08:50:04.466480Z",
          "start_time": "2021-09-25T08:50:04.451477Z"
        },
        "id": "adab4ace",
        "outputId": "fff8930f-4591-4283-f61d-9b5f937ffcbf"
      },
      "outputs": [
        {
          "name": "stdout",
          "output_type": "stream",
          "text": [
            "3\n",
            "2\n",
            "8\n"
          ]
        }
      ],
      "source": [
        "# Get Size\n",
        "print(a.size)\n",
        "print(a.itemsize) # 2 because we have used int16, 4 if int32\n",
        "print(b1.itemsize)"
      ]
    },
    {
      "cell_type": "code",
      "execution_count": null,
      "id": "35f7dbdb",
      "metadata": {
        "ExecuteTime": {
          "end_time": "2021-09-25T08:50:04.482484Z",
          "start_time": "2021-09-25T08:50:04.468481Z"
        },
        "id": "35f7dbdb",
        "outputId": "88efc1f9-e34c-4b4a-85dd-bc7a06fecfa0"
      },
      "outputs": [
        {
          "data": {
            "text/plain": [
              "(144, 144)"
            ]
          },
          "execution_count": 25,
          "metadata": {},
          "output_type": "execute_result"
        }
      ],
      "source": [
        "# Total Size\n",
        "b1.nbytes, (b1.itemsize*b1.size)"
      ]
    },
    {
      "cell_type": "markdown",
      "id": "78c2b5b3",
      "metadata": {
        "id": "78c2b5b3"
      },
      "source": [
        "### 2.1 Accessing/Changing Specefix Elements, rows, columns etc."
      ]
    },
    {
      "cell_type": "code",
      "execution_count": null,
      "id": "129f7ff7",
      "metadata": {
        "ExecuteTime": {
          "end_time": "2021-09-25T08:50:04.498489Z",
          "start_time": "2021-09-25T08:50:04.484485Z"
        },
        "id": "129f7ff7",
        "outputId": "a415d5c1-36e5-4b78-814e-f0aa22239df0"
      },
      "outputs": [
        {
          "name": "stdout",
          "output_type": "stream",
          "text": [
            "[[ 1  2  3  4  5  6  7]\n",
            " [ 8  9 10 11 12 13 14]]\n"
          ]
        }
      ],
      "source": [
        "a = np.array([[1,2,3,4,5,6,7],[8,9,10,11,12,13,14]])\n",
        "print(a)"
      ]
    },
    {
      "cell_type": "code",
      "execution_count": null,
      "id": "785e2b76",
      "metadata": {
        "id": "785e2b76",
        "outputId": "f0d95e27-1a91-4d28-9559-a9023af4af72"
      },
      "outputs": [
        {
          "name": "stdout",
          "output_type": "stream",
          "text": [
            "50\n",
            "[[1.2, 3.4, 5.6], [5.4, 3.2, 2.1], [12, 1, 2]]\n",
            "[5.4, 3.2, 2.1]\n",
            "2.1\n"
          ]
        }
      ],
      "source": [
        "a1 = list(range(1, 100))\n",
        "print(a1[49])\n",
        "print(lol1[0])\n",
        "print(lol1[0][1])\n",
        "print(lol1[0][1][2])"
      ]
    },
    {
      "cell_type": "code",
      "execution_count": null,
      "id": "87c28408",
      "metadata": {
        "ExecuteTime": {
          "end_time": "2021-09-25T08:50:04.514490Z",
          "start_time": "2021-09-25T08:50:04.499491Z"
        },
        "id": "87c28408",
        "outputId": "28c62546-0e78-4385-a695-1208f3c85578"
      },
      "outputs": [
        {
          "data": {
            "text/plain": [
              "13"
            ]
          },
          "execution_count": 36,
          "metadata": {},
          "output_type": "execute_result"
        }
      ],
      "source": [
        "# get a specefic element\n",
        "a[1,5]"
      ]
    },
    {
      "cell_type": "code",
      "execution_count": null,
      "id": "dd7007fd",
      "metadata": {
        "ExecuteTime": {
          "end_time": "2021-09-25T08:50:04.530494Z",
          "start_time": "2021-09-25T08:50:04.516493Z"
        },
        "id": "dd7007fd",
        "outputId": "1a33e9a6-1859-4cfb-eb54-1935a2794926"
      },
      "outputs": [
        {
          "data": {
            "text/plain": [
              "array([ 8,  9, 10, 11, 12, 13, 14])"
            ]
          },
          "execution_count": 51,
          "metadata": {},
          "output_type": "execute_result"
        }
      ],
      "source": [
        "a1[:]\n",
        "a1[0:len(a1)]\n",
        "a1[0:-1]\n",
        "\n",
        "\n",
        "# get a specefic row\n",
        "a[1, :]\n",
        "# get a specefic col\n",
        "# a[:, 2]"
      ]
    },
    {
      "cell_type": "code",
      "execution_count": null,
      "id": "6cdca704",
      "metadata": {
        "ExecuteTime": {
          "end_time": "2021-09-25T08:50:04.546497Z",
          "start_time": "2021-09-25T08:50:04.532497Z"
        },
        "id": "6cdca704",
        "outputId": "943baf46-f419-44c9-b5c6-7833f3d53b1e"
      },
      "outputs": [
        {
          "data": {
            "text/plain": [
              "array([ 4, 11])"
            ]
          },
          "execution_count": 58,
          "metadata": {},
          "output_type": "execute_result"
        }
      ],
      "source": [
        "# get a specefic column\n",
        "a[:, 3]"
      ]
    },
    {
      "cell_type": "code",
      "execution_count": null,
      "id": "555bd064",
      "metadata": {
        "ExecuteTime": {
          "end_time": "2021-09-25T08:50:04.562510Z",
          "start_time": "2021-09-25T08:50:04.548500Z"
        },
        "id": "555bd064",
        "outputId": "eadcf7cf-36a6-4648-a449-e6c955c05ede"
      },
      "outputs": [
        {
          "name": "stdout",
          "output_type": "stream",
          "text": [
            "[[ 1  2  3  4  5  6  7]\n",
            " [ 8  9 10 11 12 13 14]]\n"
          ]
        },
        {
          "data": {
            "text/plain": [
              "array([2, 4, 6])"
            ]
          },
          "execution_count": 61,
          "metadata": {},
          "output_type": "execute_result"
        }
      ],
      "source": [
        "a1[0:25:5]\n",
        "print(a)\n",
        "# getting little more fancy, [startindex:endindex:stepsize]\n",
        "a[0, 1:-1:2] #a[0, 1:6:2]"
      ]
    },
    {
      "cell_type": "code",
      "execution_count": null,
      "id": "f6346f63",
      "metadata": {
        "ExecuteTime": {
          "end_time": "2021-09-25T08:50:04.578506Z",
          "start_time": "2021-09-25T08:50:04.563503Z"
        },
        "id": "f6346f63",
        "outputId": "9f6d3bee-33b5-4a1f-afa0-f65f99afb181"
      },
      "outputs": [
        {
          "name": "stdout",
          "output_type": "stream",
          "text": [
            "[[ 1  2  1  2  5  6  7]\n",
            " [ 8  9 68 21 12 20 14]]\n",
            "\n",
            "[[ 1  2 34  2  5  6  7]\n",
            " [ 8  9 68 21 12 20 14]]\n"
          ]
        },
        {
          "data": {
            "text/plain": [
              "array([[ 1,  2,  1,  2,  5,  6,  7],\n",
              "       [ 8,  9, 68, 21, 12, 20, 14]])"
            ]
          },
          "execution_count": 68,
          "metadata": {},
          "output_type": "execute_result"
        }
      ],
      "source": [
        "# change\n",
        "a[1, 3] = 21.2\n",
        "a[1,5] = 20\n",
        "print(a)\n",
        "print()\n",
        "a[:, 2] = [34,68]\n",
        "print(a)\n",
        "\n",
        "a[0, 2:4] = [1, 2]\n",
        "a"
      ]
    },
    {
      "cell_type": "code",
      "execution_count": null,
      "id": "4b6ae0a7",
      "metadata": {
        "ExecuteTime": {
          "end_time": "2021-09-25T08:50:04.594510Z",
          "start_time": "2021-09-25T08:50:04.579506Z"
        },
        "id": "4b6ae0a7",
        "outputId": "476b3052-a85a-41dc-c8c4-852676b886fc"
      },
      "outputs": [
        {
          "name": "stdout",
          "output_type": "stream",
          "text": [
            "[[[1 2]\n",
            "  [3 4]]\n",
            "\n",
            " [[5 6]\n",
            "  [7 8]]]\n"
          ]
        }
      ],
      "source": [
        "# 3d array\n",
        "c = np.array([[[1,2],[3,4]],[[5,6],[7,8]]])\n",
        "print(c)"
      ]
    },
    {
      "cell_type": "code",
      "execution_count": null,
      "id": "26cdca2b",
      "metadata": {
        "ExecuteTime": {
          "end_time": "2021-09-25T08:50:04.610513Z",
          "start_time": "2021-09-25T08:50:04.596511Z"
        },
        "scrolled": true,
        "id": "26cdca2b",
        "outputId": "073bfb64-a972-48f1-b99e-646feff01b07"
      },
      "outputs": [
        {
          "data": {
            "text/plain": [
              "4"
            ]
          },
          "execution_count": 62,
          "metadata": {},
          "output_type": "execute_result"
        }
      ],
      "source": [
        "c[0,1,1] # from 0th clusters/dimension 2nd row get 2nd element i.e 4"
      ]
    },
    {
      "cell_type": "code",
      "execution_count": null,
      "id": "fae2e2ac",
      "metadata": {
        "ExecuteTime": {
          "end_time": "2021-09-25T08:50:04.625518Z",
          "start_time": "2021-09-25T08:50:04.611514Z"
        },
        "id": "fae2e2ac",
        "outputId": "c435585e-6b37-40f9-dd3a-37e88841d510"
      },
      "outputs": [
        {
          "name": "stdout",
          "output_type": "stream",
          "text": [
            "[[3 4]\n",
            " [7 8]]\n",
            "\n",
            " [[2 4]\n",
            " [6 8]]\n"
          ]
        }
      ],
      "source": [
        "print(c[:,1,:]) # from both clusters get 2nd row\n",
        "print(\"\\n\", c[:,:,1]) # from all clusters all rows get 2nd column"
      ]
    },
    {
      "cell_type": "markdown",
      "id": "c2607b5e",
      "metadata": {
        "id": "c2607b5e"
      },
      "source": [
        "### 2.2 Initializing different types of arrays"
      ]
    },
    {
      "cell_type": "code",
      "execution_count": null,
      "id": "66763e3b",
      "metadata": {
        "ExecuteTime": {
          "end_time": "2021-09-25T08:50:04.641520Z",
          "start_time": "2021-09-25T08:50:04.627517Z"
        },
        "id": "66763e3b",
        "outputId": "6867b801-8daa-4345-8ac9-3ac5362614bf"
      },
      "outputs": [
        {
          "name": "stdout",
          "output_type": "stream",
          "text": [
            "[[[0. 0. 0.]\n",
            "  [0. 0. 0.]\n",
            "  [0. 0. 0.]]\n",
            "\n",
            " [[0. 0. 0.]\n",
            "  [0. 0. 0.]\n",
            "  [0. 0. 0.]]\n",
            "\n",
            " [[0. 0. 0.]\n",
            "  [0. 0. 0.]\n",
            "  [0. 0. 0.]]]\n",
            "\n",
            " [[0. 0.]\n",
            " [0. 0.]]\n"
          ]
        },
        {
          "data": {
            "text/plain": [
              "dtype('float64')"
            ]
          },
          "execution_count": 70,
          "metadata": {},
          "output_type": "execute_result"
        }
      ],
      "source": [
        "# all zeros\n",
        "z1 = np.zeros((3,3,3)) # basically a  cube containing zeros\n",
        "print(z1)\n",
        "z2 = np.zeros((2,2))\n",
        "print(\"\\n\", z2)\n",
        "z1.dtype"
      ]
    },
    {
      "cell_type": "code",
      "execution_count": null,
      "id": "f924c5ab",
      "metadata": {
        "ExecuteTime": {
          "end_time": "2021-09-25T08:50:04.657539Z",
          "start_time": "2021-09-25T08:50:04.642521Z"
        },
        "id": "f924c5ab",
        "outputId": "fc1d1da2-9d7c-498e-af1d-c4bd34492516"
      },
      "outputs": [
        {
          "data": {
            "text/plain": [
              "array([[1, 1, 1],\n",
              "       [1, 1, 1],\n",
              "       [1, 1, 1]], dtype=int32)"
            ]
          },
          "execution_count": 65,
          "metadata": {},
          "output_type": "execute_result"
        }
      ],
      "source": [
        "# all ones\n",
        "np.ones((3,3), dtype='int32')"
      ]
    },
    {
      "cell_type": "code",
      "execution_count": null,
      "id": "8424f6be",
      "metadata": {
        "ExecuteTime": {
          "end_time": "2021-09-25T08:50:04.673527Z",
          "start_time": "2021-09-25T08:50:04.660526Z"
        },
        "id": "8424f6be",
        "outputId": "a90ee9cc-98b2-4e79-a64a-1d1479bbf6ff"
      },
      "outputs": [
        {
          "data": {
            "text/plain": [
              "array([[[9, 9, 9],\n",
              "        [9, 9, 9]]])"
            ]
          },
          "execution_count": 71,
          "metadata": {},
          "output_type": "execute_result"
        }
      ],
      "source": [
        "# any other numbers\n",
        "np.full((2,2), 32, dtype='float32')"
      ]
    },
    {
      "cell_type": "code",
      "execution_count": null,
      "id": "6c3b3ef5",
      "metadata": {
        "ExecuteTime": {
          "end_time": "2021-09-25T08:50:04.688531Z",
          "start_time": "2021-09-25T08:50:04.674527Z"
        },
        "id": "6c3b3ef5",
        "outputId": "cbb64e8a-6398-4732-ba94-6bb25425c2dd"
      },
      "outputs": [
        {
          "data": {
            "text/plain": [
              "array([[4, 4, 4, 4, 4, 4, 4],\n",
              "       [4, 4, 4, 4, 4, 4, 4]])"
            ]
          },
          "execution_count": 67,
          "metadata": {},
          "output_type": "execute_result"
        }
      ],
      "source": [
        "# full_like\n",
        "np.full_like(a,4) #np.full(a.shape, 4)"
      ]
    },
    {
      "cell_type": "code",
      "execution_count": null,
      "id": "b9d7a9e9",
      "metadata": {
        "ExecuteTime": {
          "end_time": "2021-09-25T08:50:04.704533Z",
          "start_time": "2021-09-25T08:50:04.690531Z"
        },
        "id": "b9d7a9e9",
        "outputId": "8c99e40e-de3b-4a92-b85c-557fa340a1d4"
      },
      "outputs": [
        {
          "name": "stdout",
          "output_type": "stream",
          "text": [
            "[[-1.45304628 -0.6942839   0.5659518  -1.26863294 -1.83904919]\n",
            " [ 0.87894335  0.57835336  0.84737431 -0.55545749 -0.70870905]\n",
            " [-2.36532764  0.60401145  2.40402197  1.29168546 -0.6824735 ]\n",
            " [-0.42236112 -0.92256689  0.19947151 -0.26560625 -0.60845275]]\n"
          ]
        }
      ],
      "source": [
        "# array of random numbers\n",
        "# r21 = np.random.randint(0, 10, (2, 2))\n",
        "\n",
        "r1 = np.random.randn(4,5)\n",
        "# r1 = np.random.rand(4,2) # Uniform Distribution\n",
        "print(r1)\n",
        "# r2 = np.random.random_sample(a.shape)\n",
        "# print(\"\\n\", r2)"
      ]
    },
    {
      "cell_type": "code",
      "execution_count": null,
      "id": "c96d8685",
      "metadata": {
        "ExecuteTime": {
          "end_time": "2021-09-25T08:50:04.720538Z",
          "start_time": "2021-09-25T08:50:04.708535Z"
        },
        "id": "c96d8685",
        "outputId": "30399401-b222-4896-a777-fb2278fd0931"
      },
      "outputs": [
        {
          "data": {
            "text/plain": [
              "array([[0, 2, 9],\n",
              "       [6, 7, 4],\n",
              "       [1, 5, 6]])"
            ]
          },
          "execution_count": 69,
          "metadata": {},
          "output_type": "execute_result"
        }
      ],
      "source": [
        "# random int array\n",
        "np.random.randint(10, size=(3,3))"
      ]
    },
    {
      "cell_type": "code",
      "execution_count": null,
      "id": "b6e2385b",
      "metadata": {
        "ExecuteTime": {
          "end_time": "2021-09-25T08:50:04.736541Z",
          "start_time": "2021-09-25T08:50:04.723538Z"
        },
        "scrolled": true,
        "id": "b6e2385b",
        "outputId": "c85c3165-d131-4692-af07-4e405d2a7ea7"
      },
      "outputs": [
        {
          "data": {
            "text/plain": [
              "array([[1., 0., 0.],\n",
              "       [0., 1., 0.],\n",
              "       [0., 0., 1.]])"
            ]
          },
          "execution_count": 70,
          "metadata": {},
          "output_type": "execute_result"
        }
      ],
      "source": [
        "# identity matrix\n",
        "np.identity(3)"
      ]
    },
    {
      "cell_type": "code",
      "execution_count": null,
      "id": "4c33e5ea",
      "metadata": {
        "ExecuteTime": {
          "end_time": "2021-09-25T08:50:04.752548Z",
          "start_time": "2021-09-25T08:50:04.738542Z"
        },
        "id": "4c33e5ea",
        "outputId": "7b2c3ef5-0575-4a10-9263-291ec53ac563"
      },
      "outputs": [
        {
          "name": "stdout",
          "output_type": "stream",
          "text": [
            "[1 1 1 2 2 2 3 3 3]\n",
            "\n",
            " [[1 2 3]\n",
            " [1 2 3]\n",
            " [1 2 3]]\n"
          ]
        }
      ],
      "source": [
        "# repeat an array\n",
        "arr = np.array([1,2,3])\n",
        "rep = np.repeat(arr, 3, axis=0)\n",
        "print(rep)\n",
        "\n",
        "arr = np.array([[1,2,3]])\n",
        "rep2 = np.repeat(arr, 3, axis=0)\n",
        "print(\"\\n\",rep2)"
      ]
    },
    {
      "cell_type": "code",
      "execution_count": null,
      "id": "b83b012d",
      "metadata": {
        "ExecuteTime": {
          "end_time": "2021-09-25T08:50:04.768549Z",
          "start_time": "2021-09-25T08:50:04.754547Z"
        },
        "id": "b83b012d",
        "outputId": "9f54a56f-0e16-4265-8475-c1e94458d26e"
      },
      "outputs": [
        {
          "name": "stdout",
          "output_type": "stream",
          "text": [
            "[[1. 1. 1. 1. 1.]\n",
            " [1. 1. 1. 1. 1.]\n",
            " [1. 1. 1. 1. 1.]\n",
            " [1. 1. 1. 1. 1.]\n",
            " [1. 1. 1. 1. 1.]] \n",
            "\n",
            "[[1. 1. 1. 1. 1.]\n",
            " [1. 0. 0. 0. 1.]\n",
            " [1. 0. 9. 0. 1.]\n",
            " [1. 0. 0. 0. 1.]\n",
            " [1. 1. 1. 1. 1.]] \n",
            "\n"
          ]
        }
      ],
      "source": [
        "# problem 1: generate the array usnig initialization methods\n",
        "# 1 1 1 1 1\n",
        "# 1 0 0 0 1\n",
        "# 1 0 9 0 1\n",
        "# 1 0 0 0 1\n",
        "# 1 1 1 1 1\n",
        "\n",
        "output = np.ones((5,5))\n",
        "print(f\"{output} \\n\")\n",
        "\n",
        "z = np.zeros((3,3))\n",
        "z[1,1] = 9\n",
        "output[1:-1, 1:-1] = z\n",
        "print(f\"{output} \\n\")"
      ]
    },
    {
      "cell_type": "markdown",
      "id": "ee8a3b04",
      "metadata": {
        "id": "ee8a3b04"
      },
      "source": [
        "### 2.3 Be careful while copying arrays !!!"
      ]
    },
    {
      "cell_type": "code",
      "execution_count": null,
      "id": "2757cfcd",
      "metadata": {
        "ExecuteTime": {
          "end_time": "2021-09-25T08:50:04.784551Z",
          "start_time": "2021-09-25T08:50:04.769549Z"
        },
        "id": "2757cfcd",
        "outputId": "75888c40-f820-4ea1-aaf5-fa4fde3c184d"
      },
      "outputs": [
        {
          "name": "stdout",
          "output_type": "stream",
          "text": [
            "POINTING!\n",
            "b.initial = [1 2 3]\n",
            "b = [100   2   3]\n",
            "a = [100   2   3] \n",
            "\n",
            "COPYING!\n",
            "n.initial = [10 20 30]\n",
            "n = [1000   20   30]\n",
            "m = [10 20 30]\n"
          ]
        }
      ],
      "source": [
        "print(\"POINTING!\")\n",
        "a = np.array([1,2,3])\n",
        "b = a \n",
        "print(f\"b.initial = {b}\")\n",
        "b[0] = 100\n",
        "print(f\"b = {b}\")\n",
        "# Assignment did not copy it pointed b to a, thus change in b means change in a\n",
        "print(f\"a = {a} \\n\")\n",
        "\n",
        "print(\"COPYING!\")\n",
        "m = np.array([10,20,30])\n",
        "n = m.copy() \n",
        "print(f\"n.initial = {n}\")\n",
        "n[0] = 1000\n",
        "print(f\"n = {n}\")\n",
        "# Assignment did not copy it pointed b to a, thus change in b means change in a\n",
        "print(f\"m = {m}\")"
      ]
    },
    {
      "cell_type": "markdown",
      "id": "e5fa2c20",
      "metadata": {
        "id": "e5fa2c20"
      },
      "source": [
        "## 3. Mathematics"
      ]
    },
    {
      "cell_type": "code",
      "execution_count": null,
      "id": "5eaad44a",
      "metadata": {
        "ExecuteTime": {
          "end_time": "2021-09-25T08:50:04.800557Z",
          "start_time": "2021-09-25T08:50:04.786556Z"
        },
        "id": "5eaad44a",
        "outputId": "e11e9ffe-8637-49a1-e7f1-4e15272d8363"
      },
      "outputs": [
        {
          "name": "stdout",
          "output_type": "stream",
          "text": [
            "[1 2 3 4]\n"
          ]
        }
      ],
      "source": [
        "a = np.array([1,2,3,4])\n",
        "print(a)"
      ]
    },
    {
      "cell_type": "code",
      "execution_count": null,
      "id": "2407dd5e",
      "metadata": {
        "ExecuteTime": {
          "end_time": "2021-09-25T08:50:04.816559Z",
          "start_time": "2021-09-25T08:50:04.802558Z"
        },
        "id": "2407dd5e",
        "outputId": "ed1a4905-5e39-4550-8181-d8008ca13806"
      },
      "outputs": [
        {
          "data": {
            "text/plain": [
              "array([3, 4, 5, 6])"
            ]
          },
          "execution_count": 90,
          "metadata": {},
          "output_type": "execute_result"
        }
      ],
      "source": [
        "a += 2\n",
        "a"
      ]
    },
    {
      "cell_type": "code",
      "execution_count": null,
      "id": "e11f170c",
      "metadata": {
        "ExecuteTime": {
          "end_time": "2021-09-25T08:50:04.832564Z",
          "start_time": "2021-09-25T08:50:04.818563Z"
        },
        "id": "e11f170c",
        "outputId": "01b9520e-5abf-4b8c-a9d7-1269aaf9a1ab"
      },
      "outputs": [
        {
          "data": {
            "text/plain": [
              "array([1, 2, 3, 4])"
            ]
          },
          "execution_count": 91,
          "metadata": {},
          "output_type": "execute_result"
        }
      ],
      "source": [
        "a -= 2\n",
        "a"
      ]
    },
    {
      "cell_type": "code",
      "execution_count": null,
      "id": "2cb9cfc0",
      "metadata": {
        "ExecuteTime": {
          "end_time": "2021-09-25T08:50:04.847567Z",
          "start_time": "2021-09-25T08:50:04.833564Z"
        },
        "id": "2cb9cfc0",
        "outputId": "3533ec81-510d-4dfe-c892-9f7f2d4ebb77"
      },
      "outputs": [
        {
          "data": {
            "text/plain": [
              "array([2, 4, 6, 8])"
            ]
          },
          "execution_count": 92,
          "metadata": {},
          "output_type": "execute_result"
        }
      ],
      "source": [
        "a*2"
      ]
    },
    {
      "cell_type": "code",
      "execution_count": null,
      "id": "8bbcf320",
      "metadata": {
        "id": "8bbcf320",
        "outputId": "055f5d5d-80be-4094-81b4-7a410907d816"
      },
      "outputs": [
        {
          "data": {
            "text/plain": [
              "0.5"
            ]
          },
          "execution_count": 93,
          "metadata": {},
          "output_type": "execute_result"
        }
      ],
      "source": [
        "1/2"
      ]
    },
    {
      "cell_type": "code",
      "execution_count": null,
      "id": "9f3970f0",
      "metadata": {
        "ExecuteTime": {
          "end_time": "2021-09-25T08:50:04.863571Z",
          "start_time": "2021-09-25T08:50:04.848568Z"
        },
        "id": "9f3970f0",
        "outputId": "e7085bc5-67eb-4fe0-c664-78969cd25111"
      },
      "outputs": [
        {
          "data": {
            "text/plain": [
              "array([0.5, 1. , 1.5, 2. ])"
            ]
          },
          "execution_count": 94,
          "metadata": {},
          "output_type": "execute_result"
        }
      ],
      "source": [
        "a/2"
      ]
    },
    {
      "cell_type": "code",
      "execution_count": null,
      "id": "28f18731",
      "metadata": {
        "id": "28f18731",
        "outputId": "1193c877-7b45-49ef-90d9-d9936c466ac0"
      },
      "outputs": [
        {
          "data": {
            "text/plain": [
              "array([1, 2, 3, 4])"
            ]
          },
          "execution_count": 95,
          "metadata": {},
          "output_type": "execute_result"
        }
      ],
      "source": [
        "a"
      ]
    },
    {
      "cell_type": "code",
      "execution_count": null,
      "id": "649f1fda",
      "metadata": {
        "ExecuteTime": {
          "end_time": "2021-09-25T08:50:04.879577Z",
          "start_time": "2021-09-25T08:50:04.864570Z"
        },
        "id": "649f1fda",
        "outputId": "19f807f5-6cb2-464f-e8eb-813b6975d275"
      },
      "outputs": [
        {
          "data": {
            "text/plain": [
              "array([2, 2, 4, 4])"
            ]
          },
          "execution_count": 79,
          "metadata": {},
          "output_type": "execute_result"
        }
      ],
      "source": [
        "b = np.array([1,0,1,0])\n",
        "a + b"
      ]
    },
    {
      "cell_type": "code",
      "execution_count": null,
      "id": "7321ada8",
      "metadata": {
        "ExecuteTime": {
          "end_time": "2021-09-25T08:50:04.895578Z",
          "start_time": "2021-09-25T08:50:04.880574Z"
        },
        "id": "7321ada8",
        "outputId": "9391cef6-2b2e-4ca7-adfa-95c46e8070e6"
      },
      "outputs": [
        {
          "data": {
            "text/plain": [
              "array([ 1,  4,  9, 16])"
            ]
          },
          "execution_count": 96,
          "metadata": {},
          "output_type": "execute_result"
        }
      ],
      "source": [
        "a ** 2\n",
        "\n",
        "np.power(a, 2)"
      ]
    },
    {
      "cell_type": "code",
      "execution_count": null,
      "id": "d82f50e7",
      "metadata": {
        "ExecuteTime": {
          "end_time": "2021-09-25T08:50:04.911585Z",
          "start_time": "2021-09-25T08:50:04.897581Z"
        },
        "id": "d82f50e7",
        "outputId": "94dbd362-425c-4f88-ca73-9f9c1e5a38cd"
      },
      "outputs": [
        {
          "data": {
            "text/plain": [
              "array([ 0.84147098,  0.90929743,  0.14112001, -0.7568025 ])"
            ]
          },
          "execution_count": 81,
          "metadata": {},
          "output_type": "execute_result"
        }
      ],
      "source": [
        "# trigonometry\n",
        "np.sin(a)"
      ]
    },
    {
      "cell_type": "markdown",
      "id": "ae526e5f",
      "metadata": {
        "id": "ae526e5f"
      },
      "source": [
        "### 3.1 Linear Algebra"
      ]
    },
    {
      "cell_type": "code",
      "execution_count": null,
      "id": "9a7e267f",
      "metadata": {
        "ExecuteTime": {
          "end_time": "2021-09-25T08:50:04.927587Z",
          "start_time": "2021-09-25T08:50:04.913586Z"
        },
        "scrolled": true,
        "id": "9a7e267f",
        "outputId": "660ef543-0d0a-49b0-97e8-8f616e52254b"
      },
      "outputs": [
        {
          "name": "stdout",
          "output_type": "stream",
          "text": [
            "[[1. 1. 1.]\n",
            " [1. 1. 1.]]\n",
            "\n",
            " [[2 2]\n",
            " [2 2]\n",
            " [2 2]]\n"
          ]
        }
      ],
      "source": [
        "a = np.ones((2,3))\n",
        "print(a)\n",
        "\n",
        "b = np.full((3,2), 2)\n",
        "print(f\"\\n {b}\")"
      ]
    },
    {
      "cell_type": "code",
      "execution_count": null,
      "id": "b3596039",
      "metadata": {
        "ExecuteTime": {
          "end_time": "2021-09-25T08:50:04.943589Z",
          "start_time": "2021-09-25T08:50:04.929586Z"
        },
        "id": "b3596039",
        "outputId": "0ec338b4-1d37-4ae0-b166-b70c4238faa7"
      },
      "outputs": [
        {
          "data": {
            "text/plain": [
              "array([[6., 6.],\n",
              "       [6., 6.]])"
            ]
          },
          "execution_count": 100,
          "metadata": {},
          "output_type": "execute_result"
        }
      ],
      "source": [
        "# matrix multiplication\n",
        "np.matmul(a,b)"
      ]
    },
    {
      "cell_type": "code",
      "execution_count": null,
      "id": "6cfeb826",
      "metadata": {
        "ExecuteTime": {
          "end_time": "2021-09-25T08:50:04.959594Z",
          "start_time": "2021-09-25T08:50:04.945590Z"
        },
        "id": "6cfeb826",
        "outputId": "ebf78cb9-761a-4218-f1ce-95952b854a6c"
      },
      "outputs": [
        {
          "data": {
            "text/plain": [
              "-2.0000000000000004"
            ]
          },
          "execution_count": 104,
          "metadata": {},
          "output_type": "execute_result"
        }
      ],
      "source": [
        "# determinant\n",
        "a23 = np.array([[1, 2], [3, 4]])\n",
        "\n",
        "c = np.full((3, 3), 2)\n",
        "np.linalg.det(a23)"
      ]
    },
    {
      "cell_type": "code",
      "execution_count": null,
      "id": "44b844c4",
      "metadata": {
        "id": "44b844c4",
        "outputId": "a5a8474a-3b59-46a8-cdf8-aeb9c6ac9a53"
      },
      "outputs": [
        {
          "data": {
            "text/plain": [
              "array([[1., 1.],\n",
              "       [1., 1.],\n",
              "       [1., 1.]])"
            ]
          },
          "execution_count": 106,
          "metadata": {},
          "output_type": "execute_result"
        }
      ],
      "source": [
        "np.dot(a, a.transpose())\n",
        "a.transpose()"
      ]
    },
    {
      "cell_type": "code",
      "execution_count": null,
      "id": "8e77a84f",
      "metadata": {
        "ExecuteTime": {
          "end_time": "2021-09-25T08:50:04.975598Z",
          "start_time": "2021-09-25T08:50:04.961594Z"
        },
        "id": "8e77a84f"
      },
      "outputs": [],
      "source": [
        "# reference docs : https://numpy.org/doc/stable/reference/routines.linalg.html"
      ]
    },
    {
      "cell_type": "markdown",
      "id": "395a9bce",
      "metadata": {
        "id": "395a9bce"
      },
      "source": [
        "### 3.2 Statistics"
      ]
    },
    {
      "cell_type": "code",
      "execution_count": null,
      "id": "4f66182d",
      "metadata": {
        "ExecuteTime": {
          "end_time": "2021-09-25T08:50:04.990601Z",
          "start_time": "2021-09-25T08:50:04.976599Z"
        },
        "id": "4f66182d",
        "outputId": "b3c12276-c3bd-43b4-e1f4-92084143b06f"
      },
      "outputs": [
        {
          "data": {
            "text/plain": [
              "array([[1, 2, 3],\n",
              "       [5, 6, 7]])"
            ]
          },
          "execution_count": 108,
          "metadata": {},
          "output_type": "execute_result"
        }
      ],
      "source": [
        "stats = np.array([[1,2,3], [5,6,7]])\n",
        "stats"
      ]
    },
    {
      "cell_type": "code",
      "execution_count": null,
      "id": "fb4105c3",
      "metadata": {
        "ExecuteTime": {
          "end_time": "2021-09-25T08:50:05.006606Z",
          "start_time": "2021-09-25T08:50:04.992606Z"
        },
        "id": "fb4105c3",
        "outputId": "fdb8a958-ec31-4ad5-8e24-47c268fe3fd1"
      },
      "outputs": [
        {
          "name": "stdout",
          "output_type": "stream",
          "text": [
            "[1 2 3]\n",
            "[1 5]\n"
          ]
        }
      ],
      "source": [
        "min1 = np.min(stats, axis=0) # returns min of each row\n",
        "min2 = np.min(stats, axis=1) # returns a list containing min for each column\n",
        "print(min1) \n",
        "print(min2)"
      ]
    },
    {
      "cell_type": "code",
      "execution_count": null,
      "id": "cc7e13b4-a5e7-44ca-8dc9-69dfc0deba53",
      "metadata": {
        "ExecuteTime": {
          "end_time": "2021-09-25T08:50:05.022608Z",
          "start_time": "2021-09-25T08:50:05.008607Z"
        },
        "id": "cc7e13b4-a5e7-44ca-8dc9-69dfc0deba53",
        "outputId": "f34b5a79-420a-4cd2-ea35-3202ee8054d6"
      },
      "outputs": [
        {
          "data": {
            "text/plain": [
              "7"
            ]
          },
          "execution_count": 110,
          "metadata": {},
          "output_type": "execute_result"
        }
      ],
      "source": [
        "m = np.max(stats)\n",
        "m"
      ]
    },
    {
      "cell_type": "code",
      "execution_count": null,
      "id": "da569338-b92c-47ff-b046-3d5c606af137",
      "metadata": {
        "ExecuteTime": {
          "end_time": "2021-09-25T08:50:05.038609Z",
          "start_time": "2021-09-25T08:50:05.024611Z"
        },
        "id": "da569338-b92c-47ff-b046-3d5c606af137",
        "outputId": "b8b83243-9b7c-43fc-f86a-a63ef53285fd"
      },
      "outputs": [
        {
          "name": "stdout",
          "output_type": "stream",
          "text": [
            "24\n",
            "[ 6  8 10]\n"
          ]
        }
      ],
      "source": [
        "print(np.sum(stats))\n",
        "print(np.sum(stats, axis=0)) # sum of all the rows"
      ]
    },
    {
      "cell_type": "code",
      "execution_count": null,
      "id": "553ec58a-1218-47d7-8260-6d0ef35f96e8",
      "metadata": {
        "ExecuteTime": {
          "end_time": "2021-09-25T08:50:05.054613Z",
          "start_time": "2021-09-25T08:50:05.040612Z"
        },
        "id": "553ec58a-1218-47d7-8260-6d0ef35f96e8",
        "outputId": "5e2cbec3-49b2-486f-a34e-f804c79120ea"
      },
      "outputs": [
        {
          "name": "stdout",
          "output_type": "stream",
          "text": [
            "[[1 2 3 4]\n",
            " [5 6 7 8]] \n",
            "\n",
            "[[1]\n",
            " [2]\n",
            " [3]\n",
            " [4]\n",
            " [5]\n",
            " [6]\n",
            " [7]\n",
            " [8]] \n",
            "\n",
            "[[[1 2]\n",
            "  [3 4]]\n",
            "\n",
            " [[5 6]\n",
            "  [7 8]]]\n"
          ]
        }
      ],
      "source": [
        "before = np.array([[1,2,3,4], [5,6,7,8]])\n",
        "print(f\"{before} \\n\")\n",
        "\n",
        "after = before.reshape((8,1))\n",
        "print(f\"{after} \\n\") #column vector\n",
        "\n",
        "print(before.reshape((2,-1,2)))"
      ]
    },
    {
      "cell_type": "code",
      "execution_count": null,
      "id": "58c26ea4-ef32-4c0b-8ba2-7e14170a5155",
      "metadata": {
        "ExecuteTime": {
          "end_time": "2021-09-25T08:50:05.070637Z",
          "start_time": "2021-09-25T08:50:05.055614Z"
        },
        "id": "58c26ea4-ef32-4c0b-8ba2-7e14170a5155",
        "outputId": "59ed8c1e-91d6-44f4-e9ab-745462285e0d"
      },
      "outputs": [
        {
          "name": "stdout",
          "output_type": "stream",
          "text": [
            "[1 2 3 4] [5 6 7 8] [[1 2 3 4]\n",
            " [5 6 7 8]]\n",
            "\n",
            " [[1. 1. 1. 1. 0. 0.]\n",
            " [1. 1. 1. 1. 0. 0.]]\n"
          ]
        }
      ],
      "source": [
        "# Vertically stacking vectors\n",
        "v1 = np.array([1,2,3,4])\n",
        "v2 = np.array([5,6,7,8])\n",
        "\n",
        "print(v1, v2, np.vstack([v1, v2])) # combines array vertically\n",
        "\n",
        "# Horizontal Stack\n",
        "h1 = np.ones((2,4))\n",
        "h2 = np.zeros((2,2))\n",
        "\n",
        "print(f\"\\n {np.hstack([h1,h2])}\")"
      ]
    },
    {
      "cell_type": "markdown",
      "id": "cf051561-6093-435f-97f0-d9aa3fd57120",
      "metadata": {
        "id": "cf051561-6093-435f-97f0-d9aa3fd57120"
      },
      "source": [
        "## 4. Miscellaneous"
      ]
    },
    {
      "cell_type": "markdown",
      "id": "ff72cfbc-fc71-4d76-88c8-76d8d39513f2",
      "metadata": {
        "id": "ff72cfbc-fc71-4d76-88c8-76d8d39513f2"
      },
      "source": [
        "#### Load Data from a File"
      ]
    },
    {
      "cell_type": "code",
      "execution_count": null,
      "id": "b92efbd6-609c-49d1-a931-c390a3a407d7",
      "metadata": {
        "ExecuteTime": {
          "end_time": "2021-09-25T08:50:05.086622Z",
          "start_time": "2021-09-25T08:50:05.072620Z"
        },
        "id": "b92efbd6-609c-49d1-a931-c390a3a407d7",
        "outputId": "0ab837dd-3498-4406-efd1-fd36bd29e164"
      },
      "outputs": [
        {
          "data": {
            "text/plain": [
              "array([[  1,  13,  21,  11, 196,  75,   4,   3,  34,   6,   7,   8,   0,\n",
              "          1,   2,   3,   4,   5],\n",
              "       [  3,  42,  12,  33, 766,  75,   4,  55,   6,   4,   3,   4,   5,\n",
              "          6,   7,   0,  11,  12],\n",
              "       [  1,  22,  33,  11, 999,  11,   2,   1,  78,   0,   1,   2,   9,\n",
              "          8,   7,   1,  76,  88]], dtype=int32)"
            ]
          },
          "execution_count": 114,
          "metadata": {},
          "output_type": "execute_result"
        }
      ],
      "source": [
        "filedata = np.genfromtxt('data/data.txt', delimiter=',').astype('int32') \n",
        "filedata"
      ]
    },
    {
      "cell_type": "markdown",
      "id": "fa073ad8-c65f-40a7-b691-4b4690bb7706",
      "metadata": {
        "id": "fa073ad8-c65f-40a7-b691-4b4690bb7706"
      },
      "source": [
        "#### Boolean Masking and Advanced Indexing"
      ]
    },
    {
      "cell_type": "code",
      "execution_count": null,
      "id": "193cc225-3522-4961-a22c-ee1b21c70038",
      "metadata": {
        "ExecuteTime": {
          "end_time": "2021-09-25T08:50:05.102625Z",
          "start_time": "2021-09-25T08:50:05.088622Z"
        },
        "id": "193cc225-3522-4961-a22c-ee1b21c70038",
        "outputId": "04eaac72-1b95-4a94-bcd4-50c8647053c0"
      },
      "outputs": [
        {
          "data": {
            "text/plain": [
              "array([2, 3, 4, 5])"
            ]
          },
          "execution_count": 115,
          "metadata": {},
          "output_type": "execute_result"
        }
      ],
      "source": [
        "# you can index with a list in numpy\n",
        "# example\n",
        "a = np.array([1,2,3,4,5,6,7,8,9])\n",
        "a[[1,2,3,4]]"
      ]
    },
    {
      "cell_type": "code",
      "execution_count": null,
      "id": "c400c228-bcf2-493a-a166-30ffabe95364",
      "metadata": {
        "ExecuteTime": {
          "end_time": "2021-09-25T08:50:05.118647Z",
          "start_time": "2021-09-25T08:50:05.104626Z"
        },
        "id": "c400c228-bcf2-493a-a166-30ffabe95364",
        "outputId": "b4f7ce26-c1d4-49ba-97ac-1c60cd29c2bf"
      },
      "outputs": [
        {
          "name": "stdout",
          "output_type": "stream",
          "text": [
            "[[False False False False  True  True False False False False False False\n",
            "  False False False False False False]\n",
            " [False False False False  True  True False  True False False False False\n",
            "  False False False False False False]\n",
            " [False False False False  True False False False  True False False False\n",
            "  False False False False  True  True]]\n",
            "\n",
            " [196  75 766  75  55 999  78  76  88]\n"
          ]
        }
      ],
      "source": [
        "z = filedata > 50\n",
        "print(z)\n",
        "zee = filedata[filedata > 50] # you can index with a list in numpy\n",
        "print(f\"\\n {zee}\") "
      ]
    },
    {
      "cell_type": "code",
      "execution_count": null,
      "id": "f8d1d72b-e4e7-4fd0-bc32-de93aba03e17",
      "metadata": {
        "ExecuteTime": {
          "end_time": "2021-09-25T08:50:05.134633Z",
          "start_time": "2021-09-25T08:50:05.120629Z"
        },
        "id": "f8d1d72b-e4e7-4fd0-bc32-de93aba03e17",
        "outputId": "16a7e4a7-4ea6-4d8a-df69-3a826e78fe51"
      },
      "outputs": [
        {
          "data": {
            "text/plain": [
              "array([False, False, False, False,  True,  True, False,  True,  True,\n",
              "       False, False, False, False, False, False, False,  True,  True])"
            ]
          },
          "execution_count": 117,
          "metadata": {},
          "output_type": "execute_result"
        }
      ],
      "source": [
        "np.any(filedata>50, axis=0) # axis = 0 means in the column "
      ]
    },
    {
      "cell_type": "code",
      "execution_count": null,
      "id": "eff98136-4941-4a27-9bc8-6daa0c671851",
      "metadata": {
        "ExecuteTime": {
          "end_time": "2021-09-25T08:50:05.150654Z",
          "start_time": "2021-09-25T08:50:05.135632Z"
        },
        "id": "eff98136-4941-4a27-9bc8-6daa0c671851",
        "outputId": "d4fbd96e-9acd-4483-b522-801ee80ff2a0"
      },
      "outputs": [
        {
          "data": {
            "text/plain": [
              "array([False, False, False])"
            ]
          },
          "execution_count": 118,
          "metadata": {},
          "output_type": "execute_result"
        }
      ],
      "source": [
        "np.all(filedata>25, axis=1) # axis = 0 means in the column "
      ]
    },
    {
      "cell_type": "code",
      "execution_count": null,
      "id": "bd5cd5d4-b6ea-4347-b52a-e206e1189482",
      "metadata": {
        "ExecuteTime": {
          "end_time": "2021-09-25T08:50:05.165638Z",
          "start_time": "2021-09-25T08:50:05.152644Z"
        },
        "id": "bd5cd5d4-b6ea-4347-b52a-e206e1189482",
        "outputId": "a9f27f8e-a970-4dc1-9a7c-39b96ccbafc7"
      },
      "outputs": [
        {
          "data": {
            "text/plain": [
              "array([[ True,  True,  True,  True,  True, False,  True,  True,  True,\n",
              "         True,  True,  True,  True,  True,  True,  True,  True,  True],\n",
              "       [ True,  True,  True,  True,  True, False,  True, False,  True,\n",
              "         True,  True,  True,  True,  True,  True,  True,  True,  True],\n",
              "       [ True,  True,  True,  True,  True,  True,  True,  True, False,\n",
              "         True,  True,  True,  True,  True,  True,  True, False, False]])"
            ]
          },
          "execution_count": 119,
          "metadata": {},
          "output_type": "execute_result"
        }
      ],
      "source": [
        "(~((filedata>50) & (filedata <100))) # ~ means not"
      ]
    },
    {
      "cell_type": "markdown",
      "id": "385f1c69-9367-4a23-89d4-b6da68e0d067",
      "metadata": {
        "id": "385f1c69-9367-4a23-89d4-b6da68e0d067"
      },
      "source": [
        "## 5. Problems"
      ]
    },
    {
      "cell_type": "markdown",
      "id": "93c19d63-e581-4d08-a284-d54138927e6c",
      "metadata": {
        "id": "93c19d63-e581-4d08-a284-d54138927e6c"
      },
      "source": [
        "**Q: Index the highlighted elements of the array**"
      ]
    },
    {
      "cell_type": "markdown",
      "id": "ca7bfc8f-4834-4a87-9134-237820015724",
      "metadata": {
        "tags": [],
        "id": "ca7bfc8f-4834-4a87-9134-237820015724"
      },
      "source": [
        "![image.png](attachment:fa600173-43b0-482b-9d88-32c15ba01ada.png)"
      ]
    },
    {
      "cell_type": "code",
      "execution_count": null,
      "id": "e606f29a-791a-4f33-9c5a-f11550ad01d6",
      "metadata": {
        "ExecuteTime": {
          "end_time": "2021-09-25T08:50:05.180795Z",
          "start_time": "2021-09-25T08:50:05.167640Z"
        },
        "id": "e606f29a-791a-4f33-9c5a-f11550ad01d6",
        "outputId": "fffa7b5b-83fd-4831-c539-00aef2b2370c"
      },
      "outputs": [
        {
          "data": {
            "text/plain": [
              "array([[ 1,  2,  3,  4,  5],\n",
              "       [ 6,  7,  8,  9, 10],\n",
              "       [11, 12, 13, 14, 15],\n",
              "       [16, 17, 18, 19, 20],\n",
              "       [21, 22, 23, 24, 25],\n",
              "       [26, 27, 28, 29, 30]])"
            ]
          },
          "execution_count": 120,
          "metadata": {},
          "output_type": "execute_result"
        }
      ],
      "source": [
        "a = np.array([[1,2,3,4,5], [6,7,8,9,10], [11,12,13,14,15],[16,17,18,19,20],[21,22,23,24,25],[26,27,28,29,30]])\n",
        "a"
      ]
    },
    {
      "cell_type": "code",
      "execution_count": null,
      "id": "fc8fadc0-7ac9-47dd-989f-acdcfae002a2",
      "metadata": {
        "ExecuteTime": {
          "end_time": "2021-09-25T08:50:05.196798Z",
          "start_time": "2021-09-25T08:50:05.182794Z"
        },
        "id": "fc8fadc0-7ac9-47dd-989f-acdcfae002a2",
        "outputId": "376f10cc-a167-4cb3-875f-75ee77bbcaa4"
      },
      "outputs": [
        {
          "data": {
            "text/plain": [
              "array([[11, 12],\n",
              "       [16, 17]])"
            ]
          },
          "execution_count": 121,
          "metadata": {},
          "output_type": "execute_result"
        }
      ],
      "source": [
        "# Solution 1\n",
        "a[2:4, 0:2] "
      ]
    },
    {
      "cell_type": "code",
      "execution_count": null,
      "id": "9e410fde-aba2-4992-a5f6-e14219dc3146",
      "metadata": {
        "ExecuteTime": {
          "end_time": "2021-09-25T08:50:05.212802Z",
          "start_time": "2021-09-25T08:50:05.197799Z"
        },
        "id": "9e410fde-aba2-4992-a5f6-e14219dc3146",
        "outputId": "3d1cd43f-5260-4822-d9fc-3f7113bfabcd"
      },
      "outputs": [
        {
          "data": {
            "text/plain": [
              "array([ 2,  8, 14, 20])"
            ]
          },
          "execution_count": 122,
          "metadata": {},
          "output_type": "execute_result"
        }
      ],
      "source": [
        "# solution 2\n",
        "a[[0,1,2,3],[1,2,3,4]]"
      ]
    },
    {
      "cell_type": "code",
      "execution_count": null,
      "id": "739dd2d1-76a9-4989-a60d-2b4a415bf0ba",
      "metadata": {
        "ExecuteTime": {
          "end_time": "2021-09-25T08:50:05.228815Z",
          "start_time": "2021-09-25T08:50:05.214802Z"
        },
        "id": "739dd2d1-76a9-4989-a60d-2b4a415bf0ba",
        "outputId": "4266b8a5-25f3-4067-fd56-06f8c24f8959"
      },
      "outputs": [
        {
          "data": {
            "text/plain": [
              "array([[ 4,  5],\n",
              "       [24, 25],\n",
              "       [29, 30]])"
            ]
          },
          "execution_count": 123,
          "metadata": {},
          "output_type": "execute_result"
        }
      ],
      "source": [
        "# Solution 3\n",
        "a[[0,4,5],3:]"
      ]
    },
    {
      "cell_type": "markdown",
      "id": "556561d5",
      "metadata": {
        "pycharm": {
          "name": "#%% md\n"
        },
        "id": "556561d5"
      },
      "source": [
        "## 6. Exercises"
      ]
    },
    {
      "cell_type": "markdown",
      "id": "19193501-8b68-4cfa-ad75-01fed200c264",
      "metadata": {
        "id": "19193501-8b68-4cfa-ad75-01fed200c264"
      },
      "source": [
        "### 6.1: Circle Fitting"
      ]
    },
    {
      "cell_type": "markdown",
      "id": "3be5cc41-0377-42af-8dd6-2f1cddd737de",
      "metadata": {
        "id": "3be5cc41-0377-42af-8dd6-2f1cddd737de"
      },
      "source": [
        "Fit a circle through points a1 = (0,0), a2 = (1/2,0), a3 = (1,0), a4 = (1,1), a5 = (0,1)"
      ]
    },
    {
      "cell_type": "markdown",
      "id": "1b0dde94-2cb2-4251-b192-4717da928d0b",
      "metadata": {
        "id": "1b0dde94-2cb2-4251-b192-4717da928d0b"
      },
      "source": [
        "Formula is :   \n",
        "$y = (A^TA)^{-1}A^Tb $"
      ]
    },
    {
      "cell_type": "code",
      "execution_count": null,
      "id": "fec23879-60c0-40f7-aacc-e36532ff0735",
      "metadata": {
        "ExecuteTime": {
          "end_time": "2021-09-25T08:50:05.244808Z",
          "start_time": "2021-09-25T08:50:05.230807Z"
        },
        "id": "fec23879-60c0-40f7-aacc-e36532ff0735",
        "outputId": "d6a95df1-2432-46b8-8e59-1ade5a8de95e"
      },
      "outputs": [
        {
          "name": "stdout",
          "output_type": "stream",
          "text": [
            "A_star:  [[ 9  4 -5]\n",
            " [ 4  8 -4]\n",
            " [-5 -4  5]]\n",
            "\n",
            "y = [0.5        0.54166667 0.08333333]\n",
            "Centres (x, y) are: (0.500, 0.542)\n",
            "Radius of the circle is 0.68\n"
          ]
        }
      ],
      "source": [
        "A = np.array([[0,0,-1], [1,0,-1], [2,0,-1], [2,2,-1], [0,2,-1]]) # making the A array\n",
        "A_star = np.matmul(A.T, A) # (AA^T)\n",
        "A_inv = np.linalg.inv(A_star) # (AA^T)^(-1)\n",
        "b = np.array([0, 0.25, 1,  2, 1]) # b vector\n",
        "f = np.matmul(A_inv, A.T) # final multiplication before multiplying to b\n",
        "y = np.matmul(f, b.T) # calculation of y\n",
        "x_hat = y[0:2]\n",
        "R = y[2]\n",
        "r = np.sqrt(np.linalg.norm(x_hat)**2 - R)\n",
        "\n",
        "print(\"A_star: \", A_star)\n",
        "#print(\"A_inv: \", A_inv)\n",
        "#print(\"\\nf: \", f)\n",
        "print(f'\\ny = {y}')\n",
        "print('Centres (x, y) are: ({:.3f}, {:.3f})'.format(x_hat[0],x_hat[1]))\n",
        "print('Radius of the circle is {:.2f}'.format(r))"
      ]
    },
    {
      "cell_type": "markdown",
      "id": "c904cd5f-e6ce-42c7-981b-b9c9dc5983e1",
      "metadata": {
        "id": "c904cd5f-e6ce-42c7-981b-b9c9dc5983e1"
      },
      "source": [
        "### 6.2: DFP Method"
      ]
    },
    {
      "cell_type": "code",
      "execution_count": null,
      "id": "b05d076a-5e05-4c13-a2cb-58eda3c4ab6f",
      "metadata": {
        "ExecuteTime": {
          "end_time": "2021-09-25T08:50:05.260812Z",
          "start_time": "2021-09-25T08:50:05.246809Z"
        },
        "id": "b05d076a-5e05-4c13-a2cb-58eda3c4ab6f"
      },
      "outputs": [],
      "source": [
        "p = np.array([[84/17], [-42/17]])\n",
        "q = np.array([[56/17], [41/17]])\n",
        "\n",
        "A1 = np.matmul(p, p.T)\n",
        "A2 = np.matmul(p.T, q)"
      ]
    },
    {
      "cell_type": "code",
      "execution_count": null,
      "id": "294e415b-f87a-425f-9780-90ebd00c7325",
      "metadata": {
        "ExecuteTime": {
          "end_time": "2021-09-25T08:50:05.276831Z",
          "start_time": "2021-09-25T08:50:05.261814Z"
        },
        "id": "294e415b-f87a-425f-9780-90ebd00c7325",
        "outputId": "09c7fe8f-a74f-49cf-d4da-30cd47f07f7b"
      },
      "outputs": [
        {
          "data": {
            "text/plain": [
              "array([[ 2.36619718, -1.18309859],\n",
              "       [-1.18309859,  0.5915493 ]])"
            ]
          },
          "execution_count": 126,
          "metadata": {},
          "output_type": "execute_result"
        }
      ],
      "source": [
        "x = float(A2)\n",
        "A = A1/x\n",
        "A"
      ]
    },
    {
      "cell_type": "code",
      "execution_count": null,
      "id": "81c81ca3-2464-41ab-b01f-88f9ebe04007",
      "metadata": {
        "ExecuteTime": {
          "end_time": "2021-09-25T08:50:05.292828Z",
          "start_time": "2021-09-25T08:50:05.278817Z"
        },
        "id": "81c81ca3-2464-41ab-b01f-88f9ebe04007"
      },
      "outputs": [],
      "source": [
        "S = np.identity(2)\n",
        "B1_1 = np.matmul(S, q)\n",
        "B1_2 = np.matmul(q.T, S.T)\n",
        "B1 = np.matmul(B1_1, B1_2)\n",
        "B2_1 = np.matmul(q.T, S)\n",
        "B2 = np.matmul(B2_1, q)\n",
        "B2 = float(B2)\n",
        "#B = B1/B2\n",
        "#S + A - B\n",
        "grad_X1 = np.array([[90/17], [24/17]])"
      ]
    },
    {
      "cell_type": "code",
      "execution_count": null,
      "id": "3825d873-ec00-4e08-987f-0663d4f491f3",
      "metadata": {
        "ExecuteTime": {
          "end_time": "2021-09-25T08:50:05.308837Z",
          "start_time": "2021-09-25T08:50:05.294822Z"
        },
        "id": "3825d873-ec00-4e08-987f-0663d4f491f3",
        "outputId": "03ed3257-189f-41b2-8776-1bc5b1667b9b"
      },
      "outputs": [
        {
          "data": {
            "text/plain": [
              "array([[-12.03      ],\n",
              "       [  7.03482353]])"
            ]
          },
          "execution_count": 128,
          "metadata": {},
          "output_type": "execute_result"
        }
      ],
      "source": [
        "s1 = np.array([[2.715, -1.66], [-1.66, 1.242]])\n",
        "d1 = -np.matmul(s1, grad_X1)\n",
        "x1 = np.array([50/17, 26/17])\n",
        "d1"
      ]
    },
    {
      "cell_type": "markdown",
      "id": "61395d7a",
      "metadata": {
        "pycharm": {
          "name": "#%% md\n"
        },
        "id": "61395d7a"
      },
      "source": [
        "### 6.3: Goodman's Co-efficient"
      ]
    },
    {
      "cell_type": "code",
      "execution_count": null,
      "id": "6ab441b7",
      "metadata": {
        "ExecuteTime": {
          "end_time": "2021-09-25T08:50:05.323826Z",
          "start_time": "2021-09-25T08:50:05.310823Z"
        },
        "pycharm": {
          "name": "#%%\n"
        },
        "id": "6ab441b7",
        "outputId": "2d7cab8c-f816-4c41-e20a-18b354517389"
      },
      "outputs": [
        {
          "name": "stdout",
          "output_type": "stream",
          "text": [
            "16.0\n",
            "49.33333333333332\n",
            "92.0\n",
            "106.66666666666667\n",
            "129.33333333333334\n",
            "153.33333333333334\n",
            "182.66666666666669\n",
            "213.33333333333334\n",
            "241.33333333333334\n",
            "264.0\n",
            "285.3333333333333\n",
            "320.0\n",
            "320.0\n"
          ]
        }
      ],
      "source": [
        "# Goodmans Coefficient\n",
        "\n",
        "observation = [[12, 25, 32, 11], [17, 18, 22, 23], [21, 17, 16, 26]]\n",
        "expectation = [[4, 25/3, 32/3, 11/3], [17/3, 6, 22/3, 23/3], [7, 17/3, 16/3, 26/3]]\n",
        "\n",
        "def goodman(observation, expectation):\n",
        "    G=0\n",
        "    for i in range(len(observation)):\n",
        "        for j in range(len(observation[0])):\n",
        "            G += ((observation[i][j] - expectation[i][j])**2)/expectation[i][j]\n",
        "            print(G)\n",
        "    return G\n",
        "\n",
        "print(goodman(observation, expectation))"
      ]
    },
    {
      "cell_type": "code",
      "execution_count": null,
      "id": "89adf0be",
      "metadata": {
        "ExecuteTime": {
          "end_time": "2021-09-25T08:50:05.339830Z",
          "start_time": "2021-09-25T08:50:05.325834Z"
        },
        "pycharm": {
          "name": "#%%\n"
        },
        "id": "89adf0be",
        "outputId": "7be7532a-658e-4ba0-8507-3c0a96051f8c"
      },
      "outputs": [
        {
          "name": "stdout",
          "output_type": "stream",
          "text": [
            "3.6818181818181817\n",
            "9.204545454545453\n",
            "20.25\n",
            "25.62777777777778\n",
            "37.05555555555556\n",
            "50.5\n",
            "50.5\n"
          ]
        }
      ],
      "source": [
        "O = [[10, 15, 30], [8, 17, 20]]\n",
        "E = [[5.5, 8.25, 16.5], [3.6, 7.65, 9]]\n",
        "\n",
        "print(goodman(O, E))"
      ]
    },
    {
      "cell_type": "code",
      "execution_count": null,
      "id": "75f5b304",
      "metadata": {
        "ExecuteTime": {
          "end_time": "2021-09-25T08:50:05.355833Z",
          "start_time": "2021-09-25T08:50:05.340829Z"
        },
        "pycharm": {
          "name": "#%%\n"
        },
        "id": "75f5b304",
        "outputId": "910031c2-c934-4c2e-b04b-8deed4adbef6"
      },
      "outputs": [
        {
          "data": {
            "text/plain": [
              "(6.5,\n",
              " 6.0,\n",
              " 11.45,\n",
              " 11.0,\n",
              " array(12.72222222),\n",
              " array(12.22222222),\n",
              " array([[12.72222222, -9.22222222],\n",
              "        [-9.22222222, 12.22222222]]))"
            ]
          },
          "execution_count": 131,
          "metadata": {},
          "output_type": "execute_result"
        }
      ],
      "source": [
        "# Correlation Coefficient\n",
        "X = [1,2,7,4,6,8,11,5,10,11]\n",
        "Y = [7,11,4,10,8,9,2,5,1,3]\n",
        "X = np.array(X)\n",
        "Y = np.array(Y)\n",
        "\n",
        "np.mean(X), np.mean(Y), np.var(X), np.var(Y), np.cov(X), np.cov(Y), np.cov(X, Y)"
      ]
    }
  ],
  "metadata": {
    "kernelspec": {
      "display_name": "taenv",
      "language": "python",
      "name": "python3"
    },
    "language_info": {
      "codemirror_mode": {
        "name": "ipython",
        "version": 3
      },
      "file_extension": ".py",
      "mimetype": "text/x-python",
      "name": "python",
      "nbconvert_exporter": "python",
      "pygments_lexer": "ipython3",
      "version": "3.9.16"
    },
    "toc": {
      "base_numbering": 1,
      "nav_menu": {},
      "number_sections": true,
      "sideBar": true,
      "skip_h1_title": false,
      "title_cell": "Table of Contents",
      "title_sidebar": "Contents",
      "toc_cell": false,
      "toc_position": {},
      "toc_section_display": true,
      "toc_window_display": true
    },
    "varInspector": {
      "cols": {
        "lenName": 16,
        "lenType": 16,
        "lenVar": 40
      },
      "kernels_config": {
        "python": {
          "delete_cmd_postfix": "",
          "delete_cmd_prefix": "del ",
          "library": "var_list.py",
          "varRefreshCmd": "print(var_dic_list())"
        },
        "r": {
          "delete_cmd_postfix": ") ",
          "delete_cmd_prefix": "rm(",
          "library": "var_list.r",
          "varRefreshCmd": "cat(var_dic_list()) "
        }
      },
      "types_to_exclude": [
        "module",
        "function",
        "builtin_function_or_method",
        "instance",
        "_Feature"
      ],
      "window_display": false
    },
    "vscode": {
      "interpreter": {
        "hash": "9b8226127030747ee900e67acb5f7a6c4b6e7e1bf9a457fcf4f7c05c355ccba0"
      }
    },
    "colab": {
      "provenance": [],
      "include_colab_link": true
    }
  },
  "nbformat": 4,
  "nbformat_minor": 5
}