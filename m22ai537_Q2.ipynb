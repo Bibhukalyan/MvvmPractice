{
  "nbformat": 4,
  "nbformat_minor": 0,
  "metadata": {
    "colab": {
      "provenance": [],
      "authorship_tag": "ABX9TyN13oaGxwrATbMzpdIDmQQG",
      "include_colab_link": true
    },
    "kernelspec": {
      "name": "python3",
      "display_name": "Python 3"
    },
    "language_info": {
      "name": "python"
    }
  },
  "cells": [
    {
      "cell_type": "markdown",
      "metadata": {
        "id": "view-in-github",
        "colab_type": "text"
      },
      "source": [
        "<a href=\"https://colab.research.google.com/github/Bibhukalyan/MvvmPractice/blob/master/m22ai537_Q2.ipynb\" target=\"_parent\"><img src=\"https://colab.research.google.com/assets/colab-badge.svg\" alt=\"Open In Colab\"/></a>"
      ]
    },
    {
      "cell_type": "code",
      "execution_count": null,
      "metadata": {
        "colab": {
          "base_uri": "https://localhost:8080/"
        },
        "id": "fFq6LGga2DU1",
        "outputId": "7ef42749-47a9-4ded-8876-74bed5d56995"
      },
      "outputs": [
        {
          "output_type": "stream",
          "name": "stdout",
          "text": [
            "Drive already mounted at /content/drive; to attempt to forcibly remount, call drive.mount(\"/content/drive\", force_remount=True).\n"
          ]
        }
      ],
      "source": [
        "import pandas as pd\n",
        "import numpy as np\n",
        "from scipy.optimize import minimize\n",
        "import seaborn as sns\n",
        "from pandas import read_csv\n",
        "from google.colab import drive\n",
        "import matplotlib.pyplot as plt\n",
        "from sklearn.linear_model import LinearRegression\n",
        "from sklearn.metrics import r2_score\n",
        "from sklearn.model_selection import train_test_split\n",
        "\n",
        "drive.mount('/content/drive')\n",
        "salary_data_set = pd.read_csv('/content/drive/My Drive/programming_assignment_ml1_wine/Salary_dataset.csv')"
      ]
    },
    {
      "cell_type": "code",
      "source": [
        "# Get the heder info.\n",
        "salary_data_set.head(10)"
      ],
      "metadata": {
        "colab": {
          "base_uri": "https://localhost:8080/",
          "height": 363
        },
        "id": "PxzTl0B22eA2",
        "outputId": "158df3de-35ef-4912-f0ce-d5491de30ca8"
      },
      "execution_count": null,
      "outputs": [
        {
          "output_type": "execute_result",
          "data": {
            "text/plain": [
              "   Unnamed: 0  YearsExperience   Salary\n",
              "0           0              1.2  39344.0\n",
              "1           1              1.4  46206.0\n",
              "2           2              1.6  37732.0\n",
              "3           3              2.1  43526.0\n",
              "4           4              2.3  39892.0\n",
              "5           5              3.0  56643.0\n",
              "6           6              3.1  60151.0\n",
              "7           7              3.3  54446.0\n",
              "8           8              3.3  64446.0\n",
              "9           9              3.8  57190.0"
            ],
            "text/html": [
              "\n",
              "  <div id=\"df-c2caf37f-a363-44c3-9346-989ff5b8fda3\">\n",
              "    <div class=\"colab-df-container\">\n",
              "      <div>\n",
              "<style scoped>\n",
              "    .dataframe tbody tr th:only-of-type {\n",
              "        vertical-align: middle;\n",
              "    }\n",
              "\n",
              "    .dataframe tbody tr th {\n",
              "        vertical-align: top;\n",
              "    }\n",
              "\n",
              "    .dataframe thead th {\n",
              "        text-align: right;\n",
              "    }\n",
              "</style>\n",
              "<table border=\"1\" class=\"dataframe\">\n",
              "  <thead>\n",
              "    <tr style=\"text-align: right;\">\n",
              "      <th></th>\n",
              "      <th>Unnamed: 0</th>\n",
              "      <th>YearsExperience</th>\n",
              "      <th>Salary</th>\n",
              "    </tr>\n",
              "  </thead>\n",
              "  <tbody>\n",
              "    <tr>\n",
              "      <th>0</th>\n",
              "      <td>0</td>\n",
              "      <td>1.2</td>\n",
              "      <td>39344.0</td>\n",
              "    </tr>\n",
              "    <tr>\n",
              "      <th>1</th>\n",
              "      <td>1</td>\n",
              "      <td>1.4</td>\n",
              "      <td>46206.0</td>\n",
              "    </tr>\n",
              "    <tr>\n",
              "      <th>2</th>\n",
              "      <td>2</td>\n",
              "      <td>1.6</td>\n",
              "      <td>37732.0</td>\n",
              "    </tr>\n",
              "    <tr>\n",
              "      <th>3</th>\n",
              "      <td>3</td>\n",
              "      <td>2.1</td>\n",
              "      <td>43526.0</td>\n",
              "    </tr>\n",
              "    <tr>\n",
              "      <th>4</th>\n",
              "      <td>4</td>\n",
              "      <td>2.3</td>\n",
              "      <td>39892.0</td>\n",
              "    </tr>\n",
              "    <tr>\n",
              "      <th>5</th>\n",
              "      <td>5</td>\n",
              "      <td>3.0</td>\n",
              "      <td>56643.0</td>\n",
              "    </tr>\n",
              "    <tr>\n",
              "      <th>6</th>\n",
              "      <td>6</td>\n",
              "      <td>3.1</td>\n",
              "      <td>60151.0</td>\n",
              "    </tr>\n",
              "    <tr>\n",
              "      <th>7</th>\n",
              "      <td>7</td>\n",
              "      <td>3.3</td>\n",
              "      <td>54446.0</td>\n",
              "    </tr>\n",
              "    <tr>\n",
              "      <th>8</th>\n",
              "      <td>8</td>\n",
              "      <td>3.3</td>\n",
              "      <td>64446.0</td>\n",
              "    </tr>\n",
              "    <tr>\n",
              "      <th>9</th>\n",
              "      <td>9</td>\n",
              "      <td>3.8</td>\n",
              "      <td>57190.0</td>\n",
              "    </tr>\n",
              "  </tbody>\n",
              "</table>\n",
              "</div>\n",
              "      <button class=\"colab-df-convert\" onclick=\"convertToInteractive('df-c2caf37f-a363-44c3-9346-989ff5b8fda3')\"\n",
              "              title=\"Convert this dataframe to an interactive table.\"\n",
              "              style=\"display:none;\">\n",
              "        \n",
              "  <svg xmlns=\"http://www.w3.org/2000/svg\" height=\"24px\"viewBox=\"0 0 24 24\"\n",
              "       width=\"24px\">\n",
              "    <path d=\"M0 0h24v24H0V0z\" fill=\"none\"/>\n",
              "    <path d=\"M18.56 5.44l.94 2.06.94-2.06 2.06-.94-2.06-.94-.94-2.06-.94 2.06-2.06.94zm-11 1L8.5 8.5l.94-2.06 2.06-.94-2.06-.94L8.5 2.5l-.94 2.06-2.06.94zm10 10l.94 2.06.94-2.06 2.06-.94-2.06-.94-.94-2.06-.94 2.06-2.06.94z\"/><path d=\"M17.41 7.96l-1.37-1.37c-.4-.4-.92-.59-1.43-.59-.52 0-1.04.2-1.43.59L10.3 9.45l-7.72 7.72c-.78.78-.78 2.05 0 2.83L4 21.41c.39.39.9.59 1.41.59.51 0 1.02-.2 1.41-.59l7.78-7.78 2.81-2.81c.8-.78.8-2.07 0-2.86zM5.41 20L4 18.59l7.72-7.72 1.47 1.35L5.41 20z\"/>\n",
              "  </svg>\n",
              "      </button>\n",
              "      \n",
              "  <style>\n",
              "    .colab-df-container {\n",
              "      display:flex;\n",
              "      flex-wrap:wrap;\n",
              "      gap: 12px;\n",
              "    }\n",
              "\n",
              "    .colab-df-convert {\n",
              "      background-color: #E8F0FE;\n",
              "      border: none;\n",
              "      border-radius: 50%;\n",
              "      cursor: pointer;\n",
              "      display: none;\n",
              "      fill: #1967D2;\n",
              "      height: 32px;\n",
              "      padding: 0 0 0 0;\n",
              "      width: 32px;\n",
              "    }\n",
              "\n",
              "    .colab-df-convert:hover {\n",
              "      background-color: #E2EBFA;\n",
              "      box-shadow: 0px 1px 2px rgba(60, 64, 67, 0.3), 0px 1px 3px 1px rgba(60, 64, 67, 0.15);\n",
              "      fill: #174EA6;\n",
              "    }\n",
              "\n",
              "    [theme=dark] .colab-df-convert {\n",
              "      background-color: #3B4455;\n",
              "      fill: #D2E3FC;\n",
              "    }\n",
              "\n",
              "    [theme=dark] .colab-df-convert:hover {\n",
              "      background-color: #434B5C;\n",
              "      box-shadow: 0px 1px 3px 1px rgba(0, 0, 0, 0.15);\n",
              "      filter: drop-shadow(0px 1px 2px rgba(0, 0, 0, 0.3));\n",
              "      fill: #FFFFFF;\n",
              "    }\n",
              "  </style>\n",
              "\n",
              "      <script>\n",
              "        const buttonEl =\n",
              "          document.querySelector('#df-c2caf37f-a363-44c3-9346-989ff5b8fda3 button.colab-df-convert');\n",
              "        buttonEl.style.display =\n",
              "          google.colab.kernel.accessAllowed ? 'block' : 'none';\n",
              "\n",
              "        async function convertToInteractive(key) {\n",
              "          const element = document.querySelector('#df-c2caf37f-a363-44c3-9346-989ff5b8fda3');\n",
              "          const dataTable =\n",
              "            await google.colab.kernel.invokeFunction('convertToInteractive',\n",
              "                                                     [key], {});\n",
              "          if (!dataTable) return;\n",
              "\n",
              "          const docLinkHtml = 'Like what you see? Visit the ' +\n",
              "            '<a target=\"_blank\" href=https://colab.research.google.com/notebooks/data_table.ipynb>data table notebook</a>'\n",
              "            + ' to learn more about interactive tables.';\n",
              "          element.innerHTML = '';\n",
              "          dataTable['output_type'] = 'display_data';\n",
              "          await google.colab.output.renderOutput(dataTable, element);\n",
              "          const docLink = document.createElement('div');\n",
              "          docLink.innerHTML = docLinkHtml;\n",
              "          element.appendChild(docLink);\n",
              "        }\n",
              "      </script>\n",
              "    </div>\n",
              "  </div>\n",
              "  "
            ]
          },
          "metadata": {},
          "execution_count": 4
        }
      ]
    },
    {
      "cell_type": "code",
      "source": [
        "# Info. about dataset \n",
        "salary_data_set.info()"
      ],
      "metadata": {
        "colab": {
          "base_uri": "https://localhost:8080/"
        },
        "id": "L5HTD0DN88oS",
        "outputId": "3d41159b-7f6f-45f3-d674-a992695e9af8"
      },
      "execution_count": null,
      "outputs": [
        {
          "output_type": "stream",
          "name": "stdout",
          "text": [
            "<class 'pandas.core.frame.DataFrame'>\n",
            "RangeIndex: 30 entries, 0 to 29\n",
            "Data columns (total 3 columns):\n",
            " #   Column           Non-Null Count  Dtype  \n",
            "---  ------           --------------  -----  \n",
            " 0   Unnamed: 0       30 non-null     int64  \n",
            " 1   YearsExperience  30 non-null     float64\n",
            " 2   Salary           30 non-null     float64\n",
            "dtypes: float64(2), int64(1)\n",
            "memory usage: 848.0 bytes\n"
          ]
        }
      ]
    },
    {
      "cell_type": "code",
      "source": [
        "# finding presence of any null value\n",
        "salary_data_set.isnull().values.any()"
      ],
      "metadata": {
        "colab": {
          "base_uri": "https://localhost:8080/"
        },
        "id": "UW2REO4J9M_z",
        "outputId": "f16109b2-8fd4-47e8-ce4b-9c71c36f26f2"
      },
      "execution_count": null,
      "outputs": [
        {
          "output_type": "execute_result",
          "data": {
            "text/plain": [
              "False"
            ]
          },
          "metadata": {},
          "execution_count": 6
        }
      ]
    },
    {
      "cell_type": "code",
      "source": [
        "# checking corelation between Salary and YearsExperience\n",
        "sns.lmplot(x='YearsExperience',y='Salary',data=salary_data_set)"
      ],
      "metadata": {
        "colab": {
          "base_uri": "https://localhost:8080/",
          "height": 386
        },
        "id": "bOYWmARN9dg8",
        "outputId": "74baac78-186e-49a3-8fbc-2e59f4574376"
      },
      "execution_count": null,
      "outputs": [
        {
          "output_type": "execute_result",
          "data": {
            "text/plain": [
              "<seaborn.axisgrid.FacetGrid at 0x7fce153673d0>"
            ]
          },
          "metadata": {},
          "execution_count": 7
        },
        {
          "output_type": "display_data",
          "data": {
            "text/plain": [
              "<Figure size 360x360 with 1 Axes>"
            ],
            "image/png": "[encoded data removed]"
          },
          "metadata": {
            "needs_background": "light"
          }
        }
      ]
    },
    {
      "cell_type": "code",
      "source": [
        "# remove unwanted data\n",
        "salary_data_set.drop([\"Unnamed: 0\"],axis=1,inplace=True)\n",
        "salary_data_set.head()\n",
        "plt.scatter(salary_data_set.YearsExperience, salary_data_set.Salary)"
      ],
      "metadata": {
        "colab": {
          "base_uri": "https://localhost:8080/",
          "height": 282
        },
        "id": "o7drf2nx-Pvm",
        "outputId": "450ecba2-aadc-4bb3-ce5c-1034137d091c"
      },
      "execution_count": null,
      "outputs": [
        {
          "output_type": "execute_result",
          "data": {
            "text/plain": [
              "<matplotlib.collections.PathCollection at 0x7fce10c3c640>"
            ]
          },
          "metadata": {},
          "execution_count": 56
        },
        {
          "output_type": "display_data",
          "data": {
            "text/plain": [
              "<Figure size 432x288 with 1 Axes>"
            ],
            "image/png": "[encoded data removed]"
          },
          "metadata": {
            "needs_background": "light"
          }
        }
      ]
    },
    {
      "cell_type": "code",
      "source": [
        "# checking our feature and target set\n",
        "features = salary_data_set['YearsExperience']\n",
        "target = salary_data_set['Salary']\n",
        "print(\"Features: \",features)\n",
        "print(\"Target:\", target)"
      ],
      "metadata": {
        "colab": {
          "base_uri": "https://localhost:8080/"
        },
        "id": "Epx2g4wB-urJ",
        "outputId": "f1dbdb39-4368-4e2a-9203-16e59bb27b6c"
      },
      "execution_count": null,
      "outputs": [
        {
          "output_type": "stream",
          "name": "stdout",
          "text": [
            "Features:  0      1.2\n",
            "1      1.4\n",
            "2      1.6\n",
            "3      2.1\n",
            "4      2.3\n",
            "5      3.0\n",
            "6      3.1\n",
            "7      3.3\n",
            "8      3.3\n",
            "9      3.8\n",
            "10     4.0\n",
            "11     4.1\n",
            "12     4.1\n",
            "13     4.2\n",
            "14     4.6\n",
            "15     5.0\n",
            "16     5.2\n",
            "17     5.4\n",
            "18     6.0\n",
            "19     6.1\n",
            "20     6.9\n",
            "21     7.2\n",
            "22     8.0\n",
            "23     8.3\n",
            "24     8.8\n",
            "25     9.1\n",
            "26     9.6\n",
            "27     9.7\n",
            "28    10.4\n",
            "29    10.6\n",
            "Name: YearsExperience, dtype: float64\n",
            "Target: 0      39344.0\n",
            "1      46206.0\n",
            "2      37732.0\n",
            "3      43526.0\n",
            "4      39892.0\n",
            "5      56643.0\n",
            "6      60151.0\n",
            "7      54446.0\n",
            "8      64446.0\n",
            "9      57190.0\n",
            "10     63219.0\n",
            "11     55795.0\n",
            "12     56958.0\n",
            "13     57082.0\n",
            "14     61112.0\n",
            "15     67939.0\n",
            "16     66030.0\n",
            "17     83089.0\n",
            "18     81364.0\n",
            "19     93941.0\n",
            "20     91739.0\n",
            "21     98274.0\n",
            "22    101303.0\n",
            "23    113813.0\n",
            "24    109432.0\n",
            "25    105583.0\n",
            "26    116970.0\n",
            "27    112636.0\n",
            "28    122392.0\n",
            "29    121873.0\n",
            "Name: Salary, dtype: float64\n"
          ]
        }
      ]
    },
    {
      "cell_type": "code",
      "source": [
        "# checking correlation using pair plot\n",
        "sns.pairplot(salary_data_set)"
      ],
      "metadata": {
        "colab": {
          "base_uri": "https://localhost:8080/",
          "height": 391
        },
        "id": "mujAil-mUl3X",
        "outputId": "6cb7a256-3fd5-44b7-82a2-32b9e3026637"
      },
      "execution_count": null,
      "outputs": [
        {
          "output_type": "execute_result",
          "data": {
            "text/plain": [
              "<seaborn.axisgrid.PairGrid at 0x7fce10a73be0>"
            ]
          },
          "metadata": {},
          "execution_count": 60
        },
        {
          "output_type": "display_data",
          "data": {
            "text/plain": [
              "<Figure size 360x360 with 6 Axes>"
            ],
            "image/png": "[encoded data removed]"
          },
          "metadata": {
            "needs_background": "light"
          }
        }
      ]
    },
    {
      "cell_type": "code",
      "source": [
        "# training and test dataset\n",
        "X_train, X_test, y_train, y_test = train_test_split(features, target, test_size=0.2, random_state=45)"
      ],
      "metadata": {
        "id": "X4KyLtxcAoaz"
      },
      "execution_count": null,
      "outputs": []
    },
    {
      "cell_type": "code",
      "source": [
        "# use the linear regression and test the prediction and test the accuracy\n",
        "regression = LinearRegression()\n",
        "regression.fit(X_train,y_train)\n"
      ],
      "metadata": {
        "colab": {
          "base_uri": "https://localhost:8080/",
          "height": 415
        },
        "id": "_B3QM6wXKeWr",
        "outputId": "7b7fff63-0a69-488f-c42f-1f2e503f1b27"
      },
      "execution_count": null,
      "outputs": [
        {
          "output_type": "error",
          "ename": "ValueError",
          "evalue": "ignored",
          "traceback": [
            "\u001b[0;31m---------------------------------------------------------------------------\u001b[0m",
            "\u001b[0;31mValueError\u001b[0m                                Traceback (most recent call last)",
            "\u001b[0;32m<ipython-input-77-6c11ce70f91c>\u001b[0m in \u001b[0;36m<module>\u001b[0;34m\u001b[0m\n\u001b[1;32m      1\u001b[0m \u001b[0;31m# use the linear regression and test the prediction and test the accuracy\u001b[0m\u001b[0;34m\u001b[0m\u001b[0;34m\u001b[0m\u001b[0m\n\u001b[1;32m      2\u001b[0m \u001b[0mregression\u001b[0m \u001b[0;34m=\u001b[0m \u001b[0mLinearRegression\u001b[0m\u001b[0;34m(\u001b[0m\u001b[0;34m)\u001b[0m\u001b[0;34m\u001b[0m\u001b[0;34m\u001b[0m\u001b[0m\n\u001b[0;32m----> 3\u001b[0;31m \u001b[0mregression\u001b[0m\u001b[0;34m.\u001b[0m\u001b[0mfit\u001b[0m\u001b[0;34m(\u001b[0m\u001b[0mX_train\u001b[0m\u001b[0;34m,\u001b[0m\u001b[0my_train\u001b[0m\u001b[0;34m)\u001b[0m\u001b[0;34m\u001b[0m\u001b[0;34m\u001b[0m\u001b[0m\n\u001b[0m",
            "\u001b[0;32m/usr/local/lib/python3.9/dist-packages/sklearn/linear_model/_base.py\u001b[0m in \u001b[0;36mfit\u001b[0;34m(self, X, y, sample_weight)\u001b[0m\n\u001b[1;32m    646\u001b[0m         \u001b[0maccept_sparse\u001b[0m \u001b[0;34m=\u001b[0m \u001b[0;32mFalse\u001b[0m \u001b[0;32mif\u001b[0m \u001b[0mself\u001b[0m\u001b[0;34m.\u001b[0m\u001b[0mpositive\u001b[0m \u001b[0;32melse\u001b[0m \u001b[0;34m[\u001b[0m\u001b[0;34m\"csr\"\u001b[0m\u001b[0;34m,\u001b[0m \u001b[0;34m\"csc\"\u001b[0m\u001b[0;34m,\u001b[0m \u001b[0;34m\"coo\"\u001b[0m\u001b[0;34m]\u001b[0m\u001b[0;34m\u001b[0m\u001b[0;34m\u001b[0m\u001b[0m\n\u001b[1;32m    647\u001b[0m \u001b[0;34m\u001b[0m\u001b[0m\n\u001b[0;32m--> 648\u001b[0;31m         X, y = self._validate_data(\n\u001b[0m\u001b[1;32m    649\u001b[0m             \u001b[0mX\u001b[0m\u001b[0;34m,\u001b[0m \u001b[0my\u001b[0m\u001b[0;34m,\u001b[0m \u001b[0maccept_sparse\u001b[0m\u001b[0;34m=\u001b[0m\u001b[0maccept_sparse\u001b[0m\u001b[0;34m,\u001b[0m \u001b[0my_numeric\u001b[0m\u001b[0;34m=\u001b[0m\u001b[0;32mTrue\u001b[0m\u001b[0;34m,\u001b[0m \u001b[0mmulti_output\u001b[0m\u001b[0;34m=\u001b[0m\u001b[0;32mTrue\u001b[0m\u001b[0;34m\u001b[0m\u001b[0;34m\u001b[0m\u001b[0m\n\u001b[1;32m    650\u001b[0m         )\n",
            "\u001b[0;32m/usr/local/lib/python3.9/dist-packages/sklearn/base.py\u001b[0m in \u001b[0;36m_validate_data\u001b[0;34m(self, X, y, reset, validate_separately, **check_params)\u001b[0m\n\u001b[1;32m    563\u001b[0m                 \u001b[0my\u001b[0m \u001b[0;34m=\u001b[0m \u001b[0mcheck_array\u001b[0m\u001b[0;34m(\u001b[0m\u001b[0my\u001b[0m\u001b[0;34m,\u001b[0m \u001b[0minput_name\u001b[0m\u001b[0;34m=\u001b[0m\u001b[0;34m\"y\"\u001b[0m\u001b[0;34m,\u001b[0m \u001b[0;34m**\u001b[0m\u001b[0mcheck_y_params\u001b[0m\u001b[0;34m)\u001b[0m\u001b[0;34m\u001b[0m\u001b[0;34m\u001b[0m\u001b[0m\n\u001b[1;32m    564\u001b[0m             \u001b[0;32melse\u001b[0m\u001b[0;34m:\u001b[0m\u001b[0;34m\u001b[0m\u001b[0;34m\u001b[0m\u001b[0m\n\u001b[0;32m--> 565\u001b[0;31m                 \u001b[0mX\u001b[0m\u001b[0;34m,\u001b[0m \u001b[0my\u001b[0m \u001b[0;34m=\u001b[0m \u001b[0mcheck_X_y\u001b[0m\u001b[0;34m(\u001b[0m\u001b[0mX\u001b[0m\u001b[0;34m,\u001b[0m \u001b[0my\u001b[0m\u001b[0;34m,\u001b[0m \u001b[0;34m**\u001b[0m\u001b[0mcheck_params\u001b[0m\u001b[0;34m)\u001b[0m\u001b[0;34m\u001b[0m\u001b[0;34m\u001b[0m\u001b[0m\n\u001b[0m\u001b[1;32m    566\u001b[0m             \u001b[0mout\u001b[0m \u001b[0;34m=\u001b[0m \u001b[0mX\u001b[0m\u001b[0;34m,\u001b[0m \u001b[0my\u001b[0m\u001b[0;34m\u001b[0m\u001b[0;34m\u001b[0m\u001b[0m\n\u001b[1;32m    567\u001b[0m \u001b[0;34m\u001b[0m\u001b[0m\n",
            "\u001b[0;32m/usr/local/lib/python3.9/dist-packages/sklearn/utils/validation.py\u001b[0m in \u001b[0;36mcheck_X_y\u001b[0;34m(X, y, accept_sparse, accept_large_sparse, dtype, order, copy, force_all_finite, ensure_2d, allow_nd, multi_output, ensure_min_samples, ensure_min_features, y_numeric, estimator)\u001b[0m\n\u001b[1;32m   1104\u001b[0m         )\n\u001b[1;32m   1105\u001b[0m \u001b[0;34m\u001b[0m\u001b[0m\n\u001b[0;32m-> 1106\u001b[0;31m     X = check_array(\n\u001b[0m\u001b[1;32m   1107\u001b[0m         \u001b[0mX\u001b[0m\u001b[0;34m,\u001b[0m\u001b[0;34m\u001b[0m\u001b[0;34m\u001b[0m\u001b[0m\n\u001b[1;32m   1108\u001b[0m         \u001b[0maccept_sparse\u001b[0m\u001b[0;34m=\u001b[0m\u001b[0maccept_sparse\u001b[0m\u001b[0;34m,\u001b[0m\u001b[0;34m\u001b[0m\u001b[0;34m\u001b[0m\u001b[0m\n",
            "\u001b[0;32m/usr/local/lib/python3.9/dist-packages/sklearn/utils/validation.py\u001b[0m in \u001b[0;36mcheck_array\u001b[0;34m(array, accept_sparse, accept_large_sparse, dtype, order, copy, force_all_finite, ensure_2d, allow_nd, ensure_min_samples, ensure_min_features, estimator, input_name)\u001b[0m\n\u001b[1;32m    900\u001b[0m             \u001b[0;31m# If input is 1D raise error\u001b[0m\u001b[0;34m\u001b[0m\u001b[0;34m\u001b[0m\u001b[0m\n\u001b[1;32m    901\u001b[0m             \u001b[0;32mif\u001b[0m \u001b[0marray\u001b[0m\u001b[0;34m.\u001b[0m\u001b[0mndim\u001b[0m \u001b[0;34m==\u001b[0m \u001b[0;36m1\u001b[0m\u001b[0;34m:\u001b[0m\u001b[0;34m\u001b[0m\u001b[0;34m\u001b[0m\u001b[0m\n\u001b[0;32m--> 902\u001b[0;31m                 raise ValueError(\n\u001b[0m\u001b[1;32m    903\u001b[0m                     \u001b[0;34m\"Expected 2D array, got 1D array instead:\\narray={}.\\n\"\u001b[0m\u001b[0;34m\u001b[0m\u001b[0;34m\u001b[0m\u001b[0m\n\u001b[1;32m    904\u001b[0m                     \u001b[0;34m\"Reshape your data either using array.reshape(-1, 1) if \"\u001b[0m\u001b[0;34m\u001b[0m\u001b[0;34m\u001b[0m\u001b[0m\n",
            "\u001b[0;31mValueError\u001b[0m: Expected 2D array, got 1D array instead:\narray=[10.6  3.3  4.   6.1  8.8  3.1  8.   8.3  6.   5.4  1.6  4.1  6.9  9.6\n  3.3  4.6  1.4  5.   2.3 10.4  7.2  1.2  2.1  4.1].\nReshape your data either using array.reshape(-1, 1) if your data has a single feature or array.reshape(1, -1) if it contains a single sample."
          ]
        }
      ]
    },
    {
      "cell_type": "code",
      "source": [
        "# transforming to 2D array\n",
        "X_train = np.array(X_train).reshape((len(X_train),1))\n",
        "y_train = np.array(y_train).reshape((len(y_train),1))\n",
        "X_train,y_train\n",
        "X_test = np.array(X_test).reshape(len(X_test), 1)\n",
        "y_test = np.array(y_test).reshape(len(y_test), 1)\n",
        "X_test,y_test\n",
        "regression.fit(X_train,y_train)\n",
        "# Predicting using Linear Regression on Trining dataset\n",
        "y_train_pred = regression.predict(X_train)\n",
        "y_train_pred\n",
        "plt.figure()\n",
        "plt.scatter(X_train, y_train)\n",
        "plt.plot(X_train, y_train_pred)\n",
        "plt.xlabel(\"YearsExperience\")\n",
        "plt.ylabel(\"Salary\")\n",
        "plt.title('Training Dataset Prediction')\n",
        "plt.legend()\n",
        "plt.show()"
      ],
      "metadata": {
        "colab": {
          "base_uri": "https://localhost:8080/",
          "height": 312
        },
        "id": "olXovGB0h8Dq",
        "outputId": "4c99a74a-2fe9-4da1-a59d-ae09416c11a7"
      },
      "execution_count": null,
      "outputs": [
        {
          "output_type": "stream",
          "name": "stderr",
          "text": [
            "WARNING:matplotlib.legend:No artists with labels found to put in legend.  Note that artists whose label start with an underscore are ignored when legend() is called with no argument.\n"
          ]
        },
        {
          "output_type": "display_data",
          "data": {
            "text/plain": [
              "<Figure size 432x288 with 1 Axes>"
            ],
            "image/png": "[encoded data removed]"
          },
          "metadata": {
            "needs_background": "light"
          }
        }
      ]
    },
    {
      "cell_type": "code",
      "source": [
        "# Predicting using Linear Regression on Test dataset\n",
        "y_test_pred = regression.predict(X_test)\n",
        "y_test_pred\n",
        "plt.figure()\n",
        "plt.scatter(X_test, y_test)\n",
        "plt.plot(X_test, y_test_pred)\n",
        "plt.xlabel(\"YearsExperience\")\n",
        "plt.ylabel(\"Salary\")\n",
        "plt.title('Test Dataset Prediction')\n",
        "plt.legend()\n",
        "plt.show()"
      ],
      "metadata": {
        "colab": {
          "base_uri": "https://localhost:8080/",
          "height": 312
        },
        "id": "9Fsj3XdWKvxO",
        "outputId": "afd82496-9a0b-4e1a-b6f3-21c0881a87f2"
      },
      "execution_count": null,
      "outputs": [
        {
          "output_type": "stream",
          "name": "stderr",
          "text": [
            "WARNING:matplotlib.legend:No artists with labels found to put in legend.  Note that artists whose label start with an underscore are ignored when legend() is called with no argument.\n"
          ]
        },
        {
          "output_type": "display_data",
          "data": {
            "text/plain": [
              "<Figure size 432x288 with 1 Axes>"
            ],
            "image/png": "[encoded data removed]"
          },
          "metadata": {
            "needs_background": "light"
          }
        }
      ]
    },
    {
      "cell_type": "code",
      "source": [
        "# use the linear regression and test the prediction and test the accuracy using\n",
        "#Mean Square Error(MSE) and R2 score\n",
        "from sklearn import metrics\n",
        "print(\"variance:\", round(metrics.explained_variance_score(y_test, y_test_pred), 2))\n",
        "print(\"MSE: \", round(metrics.mean_squared_error(y_test, y_test_pred), 2))\n",
        "print(\"R2 score =\", round(metrics.r2_score(y_test, y_test_pred), 2))"
      ],
      "metadata": {
        "colab": {
          "base_uri": "https://localhost:8080/"
        },
        "id": "ojpN0W2YSYBu",
        "outputId": "6b975c9b-b95e-4c19-fdfb-3cf92da8cd7e"
      },
      "execution_count": null,
      "outputs": [
        {
          "output_type": "stream",
          "name": "stdout",
          "text": [
            "variance: 0.97\n",
            "MSE:  42510267.47\n",
            "R2 score = 0.93\n"
          ]
        }
      ]
    },
    {
      "cell_type": "code",
      "source": [
        "# creating our own implemenation of Lenear Regression\n",
        "import scipy.stats as stats\n",
        "def linear_regression(features, target):\n",
        "    length = len(features)\n",
        "    features_mean = features.mean()\n",
        "    target_mean = target.mean()\n",
        "    \n",
        "    B1_number = ((features - features_mean) * (target - target_mean)).sum()\n",
        "    B1_density = ((features - features_mean)**2).sum()\n",
        "    B1 = B1_number / B1_density\n",
        "    B0 = target_mean - (B1*features_mean)\n",
        "    reg_line = 'y = {} + {}β'.format(B0, round(B1, 3))\n",
        "    return (B0, B1, reg_line)\n",
        "\n",
        "# defining Correlation coefficient\n",
        "def corr_coef(features, target):\n",
        "    length = len(features)    \n",
        "    number = (length * (features * target).sum()) - (features.sum() * target.sum())\n",
        "    density = np.sqrt((length * (features**2).sum() - features.sum()**2) * (length * (target**2).sum() - target.sum()**2))\n",
        "    coff = number / density\n",
        "    return coff\n",
        "\n",
        "# prediction\n",
        "def predict(B0, B1, new_features):\n",
        "    predict = B0 + B1 * new_features\n",
        "    return predict\n",
        "\n",
        "# Log likelihood function\n",
        "def log_likelihood(parameters, features, target): \n",
        "    m = parameters[0] \n",
        "    b = parameters[1] \n",
        "    sigma = parameters[2] \n",
        "    \n",
        "    y_exp = m * features + b \n",
        "        \n",
        "    L = np.sum(stats.norm.logpdf(target - y_exp, loc = 0, scale=sigma))\n",
        "    return -L\n",
        "    \n",
        "# Constraints function\n",
        "def constraints(parameters):\n",
        "    sigma = parameters[2]\n",
        "    return sigma\n",
        "\n",
        "cons = {\n",
        "    'type': 'ineq',\n",
        "    'fun': constraints\n",
        "}\n",
        "\n",
        "B0, B1, regression_line = linear_regression(features, target)\n",
        "print('Linear Regression: ', regression_line)\n",
        "corr_coeff = corr_coef(features, target)\n",
        "print('corr_coeff: ', corr_coeff)\n",
        "print('R_square: ', corr_coeff**2)\n",
        "print('Fit check: ', corr_coeff**2)"
      ],
      "metadata": {
        "colab": {
          "base_uri": "https://localhost:8080/"
        },
        "id": "IjS2QF8GnEgo",
        "outputId": "49ff1c30-18af-45da-9e12-db129b147673"
      },
      "execution_count": null,
      "outputs": [
        {
          "output_type": "stream",
          "name": "stdout",
          "text": [
            "Linear Regression:  y = 24848.2039665232 + 9449.962β\n",
            "corr_coeff:  0.9782416184887616\n",
            "R_square:  0.9569566641435118\n",
            "Fit check:  0.9569566641435118\n"
          ]
        }
      ]
    },
    {
      "cell_type": "code",
      "source": [
        "# corelation among salary and years of experience predicted\n",
        "plt.figure(figsize=(12,5))\n",
        "plt.scatter(features, target)\n",
        "plt.title('Experience vs Salary')\n",
        "plt.xlabel('Experience')\n",
        "plt.ylabel('Salary')\n",
        "plt.plot(features, B0 + B1*features)\n",
        "plt.scatter(x=features.mean(), y=target.mean(), marker='*', s=10**2.5) \n",
        "reg_line = 'y = {} + {}β'.format(B0, round(B1, 3))"
      ],
      "metadata": {
        "colab": {
          "base_uri": "https://localhost:8080/",
          "height": 350
        },
        "id": "IdLI9T24TOa_",
        "outputId": "625f2214-7f76-4999-b3fb-ddf295991f11"
      },
      "execution_count": null,
      "outputs": [
        {
          "output_type": "display_data",
          "data": {
            "text/plain": [
              "<Figure size 864x360 with 1 Axes>"
            ],
            "image/png": "[encoded data removed]"
          },
          "metadata": {
            "needs_background": "light"
          }
        }
      ]
    },
    {
      "cell_type": "code",
      "source": [
        "# New training and test data set\n",
        "features_new = salary_data_set['YearsExperience'][:90]\n",
        "target_new = salary_data_set['Salary'][:90]\n",
        "X_train_new, X_test_new, y_train_new, y_test_new = train_test_split(features_new, target_new, test_size=0.2, random_state=45)\n",
        "X_train_new, X_test_new, y_train_new, y_test_new"
      ],
      "metadata": {
        "colab": {
          "base_uri": "https://localhost:8080/"
        },
        "id": "HiqRablJT8rH",
        "outputId": "b5d0f2ad-cdaa-4119-87e5-40acebcb08a2"
      },
      "execution_count": null,
      "outputs": [
        {
          "output_type": "execute_result",
          "data": {
            "text/plain": [
              "(29    10.6\n",
              " 7      3.3\n",
              " 10     4.0\n",
              " 19     6.1\n",
              " 24     8.8\n",
              " 6      3.1\n",
              " 22     8.0\n",
              " 23     8.3\n",
              " 18     6.0\n",
              " 17     5.4\n",
              " 2      1.6\n",
              " 12     4.1\n",
              " 20     6.9\n",
              " 26     9.6\n",
              " 8      3.3\n",
              " 14     4.6\n",
              " 1      1.4\n",
              " 15     5.0\n",
              " 4      2.3\n",
              " 28    10.4\n",
              " 21     7.2\n",
              " 0      1.2\n",
              " 3      2.1\n",
              " 11     4.1\n",
              " Name: YearsExperience, dtype: float64, 16    5.2\n",
              " 27    9.7\n",
              " 25    9.1\n",
              " 5     3.0\n",
              " 13    4.2\n",
              " 9     3.8\n",
              " Name: YearsExperience, dtype: float64, 29    121873.0\n",
              " 7      54446.0\n",
              " 10     63219.0\n",
              " 19     93941.0\n",
              " 24    109432.0\n",
              " 6      60151.0\n",
              " 22    101303.0\n",
              " 23    113813.0\n",
              " 18     81364.0\n",
              " 17     83089.0\n",
              " 2      37732.0\n",
              " 12     56958.0\n",
              " 20     91739.0\n",
              " 26    116970.0\n",
              " 8      64446.0\n",
              " 14     61112.0\n",
              " 1      46206.0\n",
              " 15     67939.0\n",
              " 4      39892.0\n",
              " 28    122392.0\n",
              " 21     98274.0\n",
              " 0      39344.0\n",
              " 3      43526.0\n",
              " 11     55795.0\n",
              " Name: Salary, dtype: float64, 16     66030.0\n",
              " 27    112636.0\n",
              " 25    105583.0\n",
              " 5      56643.0\n",
              " 13     57082.0\n",
              " 9      57190.0\n",
              " Name: Salary, dtype: float64)"
            ]
          },
          "metadata": {},
          "execution_count": 97
        }
      ]
    },
    {
      "cell_type": "code",
      "source": [
        "# Predicted values for test dataset and train dataset\n",
        "y_pred_new=[]\n",
        "for element in X_test_new:\n",
        "  y_pred_new.append(predict(B0, B1, element))\n",
        "\n",
        "print(\"Mean absolute error for test set: \", metrics.mean_absolute_error(y_test_new,y_pred_new), \n",
        "      \"Mean square error for test set: \", metrics.mean_squared_error(y_test_new,y_pred_new))\n",
        "\n",
        "y_pred_new=[]\n",
        "for element in X_train_new:\n",
        "  y_pred_new.append(predict(B0, B1, element))\n",
        "\n",
        "print(\"Mean absolute error for training set:\", metrics.mean_absolute_error(y_train_new,y_pred_new), \n",
        "      \"Mean square error for training set:\", metrics.mean_squared_error(y_train_new,y_pred_new))"
      ],
      "metadata": {
        "colab": {
          "base_uri": "https://localhost:8080/"
        },
        "id": "JUabM3-iTwnh",
        "outputId": "1e33e9e4-5544-4649-f640-20b75d1f0687"
      },
      "execution_count": null,
      "outputs": [
        {
          "output_type": "stream",
          "name": "stdout",
          "text": [
            "Mean absolute error for test set:  5260.62053138166 Mean square error for test set:  31036163.54752496\n",
            "Mean absolute error for training set: 4490.096478959006 Mean square error for training set: 31329648.765969943\n"
          ]
        }
      ]
    },
    {
      "cell_type": "code",
      "source": [
        "# Maximum Likelihood Estimation (MLE)\n",
        "mle = minimize(log_likelihood, np.array([2, 2, 2]), args=(features_new,target_new,), constraints=cons,method='L-BFGS-B')\n",
        "mle"
      ],
      "metadata": {
        "colab": {
          "base_uri": "https://localhost:8080/"
        },
        "id": "9Nx33gVMzfdK",
        "outputId": "4c2c7a6f-8be9-4fc6-c747-2e8a4911c777"
      },
      "execution_count": null,
      "outputs": [
        {
          "output_type": "stream",
          "name": "stderr",
          "text": [
            "/usr/local/lib/python3.9/dist-packages/scipy/optimize/_minimize.py:565: RuntimeWarning: Method L-BFGS-B cannot handle constraints.\n",
            "  warn('Method %s cannot handle constraints.' % method,\n"
          ]
        },
        {
          "output_type": "execute_result",
          "data": {
            "text/plain": [
              "  message: CONVERGENCE: NORM_OF_PROJECTED_GRADIENT_<=_PGTOL\n",
              "  success: True\n",
              "   status: 0\n",
              "      fun: 301.44117755624126\n",
              "        x: [ 9.448e+03  2.486e+04  5.592e+03]\n",
              "      nit: 62\n",
              "      jac: [ 0.000e+00  0.000e+00  5.684e-06]\n",
              "     nfev: 256\n",
              "     njev: 64\n",
              " hess_inv: <3x3 LbfgsInvHessProduct with dtype=float64>"
            ]
          },
          "metadata": {},
          "execution_count": 111
        }
      ]
    },
    {
      "cell_type": "code",
      "source": [
        "# Predicted values for test set\n",
        "y_predict_mle = mle.x[0] * X_test_new + mle.x[1]\n",
        "print(\"Y predicted by MLE\", y_predict_mle)\n",
        "y_predict_train_mle = mle.x[0] * X_train_new + mle.x[1]\n",
        "print(\"Y predicted by MLE for tained dataset\", y_predict_train_mle)"
      ],
      "metadata": {
        "colab": {
          "base_uri": "https://localhost:8080/"
        },
        "id": "AXneoO9Azr5r",
        "outputId": "7c957b58-394b-45cb-9cc4-d5af4912aa0e"
      },
      "execution_count": null,
      "outputs": [
        {
          "output_type": "stream",
          "name": "stdout",
          "text": [
            "Y predicted by MLE 16     73991.035390\n",
            "27    116506.624473\n",
            "25    110837.879262\n",
            "5      53205.636282\n",
            "13     64543.126704\n",
            "9      60763.963230\n",
            "Name: YearsExperience, dtype: float64\n",
            "Y predicted by MLE for tained dataset 29    125009.742290\n",
            "7      56040.008888\n",
            "10     62653.544967\n",
            "19     82494.153206\n",
            "24    108003.506657\n",
            "6      54150.427151\n",
            "22    100445.179708\n",
            "23    103279.552314\n",
            "18     81549.362338\n",
            "17     75880.617127\n",
            "2      39978.564123\n",
            "12     63598.335836\n",
            "20     90052.480155\n",
            "26    115561.833605\n",
            "8      56040.008888\n",
            "14     68322.290178\n",
            "1      38088.982386\n",
            "15     72101.453653\n",
            "4      46592.100202\n",
            "28    123120.160553\n",
            "21     92886.852760\n",
            "0      36199.400649\n",
            "3      44702.518465\n",
            "11     63598.335836\n",
            "Name: YearsExperience, dtype: float64\n"
          ]
        }
      ]
    },
    {
      "cell_type": "code",
      "source": [
        "# Predicted values for test dataset and train dataset\n",
        "print(\"Mean absolute error for MLE: \", metrics.mean_absolute_error(y_test_new,y_predict_mle), \n",
        "\"Mean square error for (MLE): \", metrics.mean_squared_error(y_test_new,y_predict_mle))\n",
        "\n",
        "print(\"Mean absolute error for training set using (MLE):\", metrics.mean_absolute_error(y_train_new,y_predict_train_mle), \n",
        "      \"Mean square error for training set  using (MLE):\", metrics.mean_squared_error(y_train_new,y_predict_train_mle))"
      ],
      "metadata": {
        "colab": {
          "base_uri": "https://localhost:8080/"
        },
        "id": "nk21Y6TCzsAy",
        "outputId": "d4f34799-1f38-4d63-e6b8-962a8e287dbf"
      },
      "execution_count": null,
      "outputs": [
        {
          "output_type": "stream",
          "name": "stdout",
          "text": [
            "Mean absolute error for MLE:  5259.832129665024 Mean square error for (MLE):  31038444.758417998\n",
            "Mean absolute error for training set using (MLE): 4490.597199589517 Mean square error for training set  using (MLE): 31329127.885070775\n"
          ]
        }
      ]
    }
  ]
}